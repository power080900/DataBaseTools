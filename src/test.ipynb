{
 "cells": [
  {
   "cell_type": "code",
   "execution_count": 1,
   "id": "82d1fd9a-54bc-4800-8154-26a372cae5ab",
   "metadata": {},
   "outputs": [],
   "source": [
    "import DISData\n",
    "import os"
   ]
  },
  {
   "cell_type": "code",
   "execution_count": null,
   "id": "bea94365-0633-4479-b950-d1eacb44ee52",
   "metadata": {},
   "outputs": [],
   "source": [
    "DISData.Approch_To_Synology()"
   ]
  },
  {
   "cell_type": "code",
   "execution_count": null,
   "id": "5719f1bc-7c32-43a0-89e5-e4e097c9b6c4",
   "metadata": {},
   "outputs": [],
   "source": []
  }
 ],
 "metadata": {
  "kernelspec": {
   "display_name": "Python 3 (ipykernel)",
   "language": "python",
   "name": "python3"
  },
  "language_info": {
   "codemirror_mode": {
    "name": "ipython",
    "version": 3
   },
   "file_extension": ".py",
   "mimetype": "text/x-python",
   "name": "python",
   "nbconvert_exporter": "python",
   "pygments_lexer": "ipython3",
   "version": "3.9.15"
  }
 },
 "nbformat": 4,
 "nbformat_minor": 5
}
