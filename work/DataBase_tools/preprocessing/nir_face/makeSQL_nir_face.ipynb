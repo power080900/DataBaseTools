{
 "cells": [
  {
   "cell_type": "markdown",
   "id": "ec53477f-1d18-4e52-9536-53426782a5ee",
   "metadata": {
    "tags": []
   },
   "source": [
    "# SQL 작성"
   ]
  },
  {
   "cell_type": "code",
   "execution_count": 1,
   "id": "328fec4b-9c90-4760-9c27-402e4bad5279",
   "metadata": {},
   "outputs": [],
   "source": [
    "import sys\n",
    "import os\n",
    "import pandas as pd\n",
    "from scipy import io\n",
    "import json\n",
    "import cv2\n",
    "from glob import glob\n",
    "sys.path.append('../../src')\n",
    "import DISData as DD"
   ]
  },
  {
   "cell_type": "markdown",
   "id": "7c79b09a-fa3f-48ee-beda-4c34d750e4cf",
   "metadata": {},
   "source": [
    "## SQL 연결"
   ]
  },
  {
   "cell_type": "code",
   "execution_count": 2,
   "id": "e03de388-7035-4ddc-bfde-1c2643011528",
   "metadata": {},
   "outputs": [
    {
     "name": "stdin",
     "output_type": "stream",
     "text": [
      "host:  192.168.0.201\n",
      "user:  diadmin\n",
      "password:  ········\n"
     ]
    },
    {
     "name": "stdout",
     "output_type": "stream",
     "text": [
      "SQL connection done\n"
     ]
    }
   ],
   "source": [
    "doUT = DD.SQL()"
   ]
  },
  {
   "cell_type": "markdown",
   "id": "0e1bc409-8f06-4191-99a0-1136353a7973",
   "metadata": {
    "tags": []
   },
   "source": [
    "## query 작성"
   ]
  },
  {
   "cell_type": "code",
   "execution_count": 3,
   "id": "0dfbddef-f1f3-4130-a358-0668be33a179",
   "metadata": {},
   "outputs": [],
   "source": [
    "query1 = (f'''CREATE TABLE IF NOT EXISTS nir_face_landmark_info(\n",
    "            id INT PRIMARY KEY AUTO_INCREMENT,\n",
    "            img_name VARCHAR(255) NOT NULL,\n",
    "            img_dir VARCHAR(1000) NOT NULL,\n",
    "            img_format VARCHAR(10) NOT NULL,\n",
    "            img_width INT NOT NULL,\n",
    "            img_height INT NOT NULL,\n",
    "            color_space VARCHAR(10) NOT NULL,\n",
    "            label_name VARCHAR(255) NOT NULL,\n",
    "            label_dir VARCHAR(1000) NOT NULL,\n",
    "            label_format VARCHAR(10) NOT NULL,\n",
    "            label VARCHAR(20) NOT NULL,\n",
    "            landmark VARCHAR(1000));''')"
   ]
  },
  {
   "cell_type": "code",
   "execution_count": 4,
   "id": "2bd3459c-a428-4f85-a4a7-c06fc288a084",
   "metadata": {},
   "outputs": [],
   "source": [
    "query2 = (f'''INSERT INTO nir_face_landmark_info \n",
    "        (img_name, img_dir, img_format, img_width, img_height,\n",
    "        color_space, label_name, label_dir, label_format, label,\n",
    "        landmark)\n",
    "        VALUES (%s, %s, %s, %s, %s,  %s, %s, %s, %s, %s,  %s)''')"
   ]
  },
  {
   "cell_type": "code",
   "execution_count": 5,
   "id": "16cf30e7-8cb8-4b54-96d7-c7f5083b2390",
   "metadata": {},
   "outputs": [
    {
     "name": "stdout",
     "output_type": "stream",
     "text": [
      "create table done\n"
     ]
    }
   ],
   "source": [
    "try:\n",
    "    doUT.create_table(query1)\n",
    "except Exception as e:\n",
    "    print(f\"Error during table creation: {e}\")"
   ]
  },
  {
   "cell_type": "code",
   "execution_count": 6,
   "id": "36c2b89c-a713-44d8-823c-e04ae135f4c4",
   "metadata": {
    "scrolled": true,
    "tags": []
   },
   "outputs": [
    {
     "name": "stdout",
     "output_type": "stream",
     "text": [
      "landmark 25/197\n",
      "insert 500 done\n",
      "landmark 54/197\n",
      "insert 500 done\n",
      "landmark 84/197\n",
      "insert 500 done\n",
      "landmark 113/197\n",
      "insert 500 done\n",
      "landmark 141/197\n",
      "insert 500 done\n",
      "landmark 172/197\n",
      "insert 500 done\n",
      "insert 494 done\n",
      "done\n"
     ]
    }
   ],
   "source": [
    "value_list1 = []\n",
    "error_list = []\n",
    "\n",
    "label_path = 'Z:\\\\nir_face\\\\data\\\\IR\\\\labeldata'\n",
    "img_path = 'Z:\\\\nir_face\\\\data\\\\IR\\\\rawdata'\n",
    "label_lists = os.listdir(label_path)\n",
    "\n",
    "for cnt, label_list in enumerate(label_lists):\n",
    "    label_files = os.listdir(os.path.join(label_path,label_list))\n",
    "    total_cnt = len(label_lists)\n",
    "    color_space = 'RGB'\n",
    "    for label_file in label_files:\n",
    "    \n",
    "        label_dir = os.path.join(label_path,label_list,label_file)\n",
    "        label_name, label_format = os.path.splitext(os.path.basename(label_file))\n",
    "        label_format = label_format.replace('.','')\n",
    "\n",
    "        # print(label_dir)\n",
    "        # print(img)\n",
    "        img_dir = label_dir.replace('pts','png').replace('label','raw')\n",
    "        # print(img_load)\n",
    "\n",
    "        img_name, img_format = os.path.splitext(os.path.basename(img_dir))\n",
    "        img_format = img_format.replace('.','')\n",
    "\n",
    "        # print(img_dir)\n",
    "        img = cv2.imread(img_dir)\n",
    "        img_width = img.shape[0]\n",
    "        img_height = img.shape[1]\n",
    "    \n",
    "    \n",
    "        with open(label_dir,'r',encoding='utf-8') as f:\n",
    "            config = f.readlines()\n",
    "        points = []\n",
    "        # print(config)\n",
    "        for point in config:\n",
    "\n",
    "            x,y = map(int,map(float,point.split(' ')))\n",
    "            points.append((x,y))\n",
    "        label = 'face_68'\n",
    "        landmark = \",\".join(map(str, [(int(float(x)), int(float(y))) for x,y in points]))\n",
    "        img_dir = img_dir.replace('Z:','DataBase')\n",
    "        label_dir = label_dir.replace('Z:','DataBase')\n",
    "        # print(landmark)\n",
    "        value = (img_name, img_dir, img_format, img_width, img_height, color_space,\n",
    "                label_name, label_dir, label_format, label, landmark)\n",
    "        value_list1.append(value)\n",
    "\n",
    "        # print(value)\n",
    "        if len(value_list1) >= 500:\n",
    "            \n",
    "            # print(value_list1[0])\n",
    "            print(f'landmark {cnt}/{total_cnt}')\n",
    "            doUT.insert_dataset_values(query2, value_list1)\n",
    "            value_list1 = []\n",
    "\n",
    "doUT.insert_dataset_values(query2, value_list1)\n",
    "# print(value_list2)\n",
    "value_list1 = []\n",
    "print('done')     "
   ]
  },
  {
   "cell_type": "code",
   "execution_count": null,
   "id": "15d71318-f13a-4f13-b1a1-20a78ce12f11",
   "metadata": {},
   "outputs": [],
   "source": []
  }
 ],
 "metadata": {
  "kernelspec": {
   "display_name": "Python 3 (ipykernel)",
   "language": "python",
   "name": "python3"
  },
  "language_info": {
   "codemirror_mode": {
    "name": "ipython",
    "version": 3
   },
   "file_extension": ".py",
   "mimetype": "text/x-python",
   "name": "python",
   "nbconvert_exporter": "python",
   "pygments_lexer": "ipython3",
   "version": "3.9.19"
  }
 },
 "nbformat": 4,
 "nbformat_minor": 5
}
