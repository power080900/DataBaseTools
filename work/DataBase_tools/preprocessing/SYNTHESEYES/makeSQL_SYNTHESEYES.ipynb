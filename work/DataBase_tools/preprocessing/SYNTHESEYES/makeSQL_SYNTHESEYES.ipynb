{
 "cells": [
  {
   "cell_type": "markdown",
   "metadata": {},
   "source": [
    "# SQL 작성"
   ]
  },
  {
   "cell_type": "code",
   "execution_count": 1,
   "metadata": {},
   "outputs": [],
   "source": [
    "import sys\n",
    "import os\n",
    "import pandas as pd\n",
    "import cv2\n",
    "import pickle\n",
    "sys.path.append('../../src')\n",
    "import DISData as DD\n",
    "import pickle"
   ]
  },
  {
   "cell_type": "markdown",
   "metadata": {},
   "source": [
    "## SQL 연결"
   ]
  },
  {
   "cell_type": "code",
   "execution_count": 5,
   "metadata": {},
   "outputs": [
    {
     "name": "stdin",
     "output_type": "stream",
     "text": [
      "host:  ········\n",
      "user:  ········\n",
      "password:  ········\n"
     ]
    },
    {
     "name": "stdout",
     "output_type": "stream",
     "text": [
      "SQL connection done\n"
     ]
    }
   ],
   "source": [
    "doUT = DD.SQL()"
   ]
  },
  {
   "cell_type": "markdown",
   "metadata": {},
   "source": [
    "## query 작성"
   ]
  },
  {
   "cell_type": "code",
   "execution_count": 18,
   "metadata": {},
   "outputs": [
    {
     "name": "stdout",
     "output_type": "stream",
     "text": [
      "create table done\n",
      "create table done\n"
     ]
    }
   ],
   "source": [
    "query1 = (f'''CREATE TABLE SYNTHESEYES_info (\n",
    "        id INT(11) NOT NULL AUTO_INCREMENT primary key,\n",
    "        img_dir VARCHAR(500) NOT NULL,\n",
    "        img_format VARCHAR(10) NOT NULL,\n",
    "        img_width INT(11) NOT NULL,\n",
    "        img_height INT(11) NOT NULL,\n",
    "        \n",
    "        color_space VARCHAR(10) NOT NULL,\n",
    "        label_dir VARCHAR(500) NOT NULL,\n",
    "        label_format VARCHAR(10) NOT NULL,\n",
    "        Gaze_3D VARCHAR(200) NOT NULL,\n",
    "        Head_3D VARCHAR(200) NOT NULL);''')\n",
    "\n",
    "query2 = (f'''CREATE TABLE SYNTHESEYES_landmark_info (\n",
    "        id INT(11) NOT NULL AUTO_INCREMENT primary key,\n",
    "        img_dir VARCHAR(500) NOT NULL,\n",
    "        img_format VARCHAR(10) NOT NULL,\n",
    "        img_width INT(11) NOT NULL,\n",
    "        img_height INT(11) NOT NULL,\n",
    "        \n",
    "        color_space VARCHAR(10) NOT NULL,\n",
    "        label_dir VARCHAR(500) NOT NULL,\n",
    "        label_format VARCHAR(10) NOT NULL,\n",
    "        pupil_3d VARCHAR(1000) NOT NULL,\n",
    "        pupil_2d VARCHAR(1000) NOT NULL,\n",
    "        \n",
    "        iris_3d VARCHAR(1000) NOT NULL,\n",
    "        iris_2d VARCHAR(1000) NOT NULL,\n",
    "        lids_3d VARCHAR(1000) NOT NULL,\n",
    "        lids_2d VARCHAR(1000) NOT NULL);''')\n",
    "query3 = (f'''INSERT INTO SYNTHESEYES_info \n",
    "        (img_dir, img_format, img_width, img_height, \n",
    "        color_space, label_dir, label_format, Gaze_3D, Head_3D) VALUES \n",
    "        (%s, %s, %s, %s,  %s, %s, %s, %s, %s)''')\n",
    "query4 = (f'''INSERT INTO SYNTHESEYES_landmark_info \n",
    "        (img_dir, img_format, img_width, img_height, \n",
    "        color_space, label_dir, label_format, pupil_3d, pupil_2d, \n",
    "        iris_3d, iris_2d, lids_3d, lids_2d) VALUES \n",
    "        (%s, %s, %s, %s,  %s, %s, %s, %s, %s,  %s, %s, %s, %s)''')"
   ]
  },
  {
   "cell_type": "markdown",
   "metadata": {},
   "source": [
    "## query 실행"
   ]
  },
  {
   "cell_type": "code",
   "execution_count": 6,
   "metadata": {},
   "outputs": [],
   "source": [
    "try:\n",
    "    doUT.create_table(query2)\n",
    "    doUT.create_table(query1)\n",
    "\n",
    "except Exception as e:\n",
    "    print(f\"Error during table creation: {e}\")"
   ]
  },
  {
   "cell_type": "code",
   "execution_count": 7,
   "metadata": {
    "scrolled": true,
    "tags": []
   },
   "outputs": [
    {
     "name": "stdout",
     "output_type": "stream",
     "text": [
      "('DataBase/SYNTHESEYES/data/RGB/rawdata/f01/f01_1002_0.1963_0.3927.png', 'png', 120, 80, 'RGB', 'DataBase/SYNTHESEYES/data/RGB/labeldata/f01/f01_1002_0.1963_0.3927.pkl', 'pkl', '-0.3991550803184509, -0.14731863141059875, -0.9049708843231201', '0.9683144688606262, -1.6611007680467083e-08, 0.24973425269126892, 0.06689619272947311, 0.9634552597999573, -0.25938189029693604, -0.24060776829719543, 0.26786941289901733, 0.9329276084899902')\n",
      "insert 500 done\n",
      "0 / 10\n",
      "insert 500 done\n",
      "0 / 10\n",
      "('DataBase/SYNTHESEYES/data/RGB/rawdata/f01/f01_2554_-0.0000_-0.3927.png', 'png', 120, 80, 'RGB', 'DataBase/SYNTHESEYES/data/RGB/labeldata/f01/f01_2554_-0.0000_-0.3927.pkl', 'pkl', '0.39503559470176697, -0.007880485616624355, -0.9186320304870605', '0.9999082684516907, 2.193307535591771e-09, -0.013498697429895401, 0.0016909426776692271, 0.9921227097511292, 0.12525612115859985, 0.013392369262874126, -0.1252669245004654, 0.9920323491096497')\n",
      "insert 500 done\n",
      "0 / 10\n",
      "insert 500 done\n",
      "0 / 10\n",
      "('DataBase/SYNTHESEYES/data/RGB/rawdata/f01/f01_42_-0.0000_-0.1963.png', 'png', 120, 80, 'RGB', 'DataBase/SYNTHESEYES/data/RGB/labeldata/f01/f01_42_-0.0000_-0.1963.pkl', 'pkl', '0.25338634848594666, 0.04143051430583, -0.9664775729179382', '0.9160046577453613, 1.954422970129599e-07, -0.4011671543121338, -0.15509849786758423, 0.9222399592399597, -0.3541434705257416, 0.3699723482131958, 0.3866177797317505, 0.8447763323783875')\n",
      "insert 500 done\n",
      "1 / 10\n",
      "insert 500 done\n",
      "1 / 10\n",
      "('DataBase/SYNTHESEYES/data/RGB/rawdata/f02/f02_1965_0.3927_0.3927.png', 'png', 120, 80, 'RGB', 'DataBase/SYNTHESEYES/data/RGB/labeldata/f02/f02_1965_0.3927_0.3927.pkl', 'pkl', '-0.37377098202705383, -0.38952258229255676, -0.8417643904685974', '0.9999457597732544, 3.956686089878758e-10, -0.010416952893137932, 0.0004408057138789445, 0.9991042613983154, 0.042313918471336365, 0.01040762197226286, -0.04231623560190201, 0.9990500807762146')\n",
      "insert 500 done\n",
      "1 / 10\n",
      "insert 500 done\n",
      "1 / 10\n",
      "('DataBase/SYNTHESEYES/data/RGB/rawdata/f02/f02_3358_-0.0000_0.7854.png', 'png', 120, 80, 'RGB', 'DataBase/SYNTHESEYES/data/RGB/labeldata/f02/f02_3358_-0.0000_0.7854.pkl', 'pkl', '-0.7366117238998413, -0.04237906262278557, -0.6749867796897888', '0.9237825870513916, -1.0488110291362318e-07, 0.3829166889190674, -0.11543161422014236, 0.9534806609153748, 0.2784779965877533, -0.36510375142097473, -0.3014536499977112, 0.8808090686798096')\n",
      "insert 500 done\n",
      "2 / 10\n",
      "insert 500 done\n",
      "2 / 10\n",
      "('DataBase/SYNTHESEYES/data/RGB/rawdata/f03/f03_1249_0.1963_-0.3927.png', 'png', 120, 80, 'RGB', 'DataBase/SYNTHESEYES/data/RGB/labeldata/f03/f03_1249_0.1963_-0.3927.pkl', 'pkl', '0.43080657720565796, -0.16421765089035034, -0.8873770833015442', '0.9587695598602295, 4.493210781220114e-08, -0.2841853201389313, -0.03894658759236336, 0.99056476354599, -0.1313958764076233, 0.28150394558906555, 0.1370461881160736, 0.9497231245040894')\n",
      "insert 500 done\n",
      "2 / 10\n",
      "insert 500 done\n",
      "2 / 10\n",
      "('DataBase/SYNTHESEYES/data/RGB/rawdata/f03/f03_2784_0.1963_0.3927.png', 'png', 120, 80, 'RGB', 'DataBase/SYNTHESEYES/data/RGB/labeldata/f03/f03_2784_0.1963_0.3927.pkl', 'pkl', '-0.4180164635181427, -0.1916571408510208, -0.8879919648170471', '0.9257581830024719, -2.215690031448503e-08, 0.3781159222126007, -0.04944026097655296, 0.9914147257804871, 0.12104692310094833, -0.374869704246521, -0.1307542473077774, 0.9178103804588318')\n",
      "insert 500 done\n",
      "2 / 10\n",
      "insert 500 done\n",
      "2 / 10\n",
      "('DataBase/SYNTHESEYES/data/RGB/rawdata/f03/f03_706_-0.3927_0.1963.png', 'png', 120, 80, 'RGB', 'DataBase/SYNTHESEYES/data/RGB/labeldata/f03/f03_706_-0.3927_0.1963.pkl', 'pkl', '-0.1398220956325531, 0.4123667776584625, -0.9002240300178528', '0.9583905935287476, -2.2270894817211229e-07, -0.2854602038860321, -0.07639723271131516, 0.9635220170021057, -0.2564932107925415, 0.27504727244377136, 0.2676290273666382, 0.9234303832054138')\n",
      "insert 500 done\n",
      "3 / 10\n",
      "insert 500 done\n",
      "3 / 10\n",
      "('DataBase/SYNTHESEYES/data/RGB/rawdata/f04/f04_2474_-0.0000_-0.5890.png', 'png', 120, 80, 'RGB', 'DataBase/SYNTHESEYES/data/RGB/labeldata/f04/f04_2474_-0.0000_-0.5890.pkl', 'pkl', '0.5976123213768005, 0.0027431941125541925, -0.8017805218696594', '0.985888659954071, -1.7059660706308932e-07, -0.16739822924137115, 0.019585004076361656, 0.9931321144104004, 0.11534488946199417, 0.16624858975410461, -0.11699509620666504, 0.9791183471679688')\n",
      "insert 500 done\n",
      "3 / 10\n",
      "insert 500 done\n",
      "3 / 10\n",
      "('DataBase/SYNTHESEYES/data/RGB/rawdata/f04/f04_43_-0.0000_-0.3927.png', 'png', 120, 80, 'RGB', 'DataBase/SYNTHESEYES/data/RGB/labeldata/f04/f04_43_-0.0000_-0.3927.pkl', 'pkl', '0.4580870270729065, 0.038052499294281006, -0.8880925178527832', '0.9056997299194336, 1.1141733580188884e-07, -0.4239198565483093, -0.16751046478748322, 0.9186182022094727, -0.35788390040397644, 0.3894204795360565, 0.39514631032943726, 0.8319922685623169')\n",
      "insert 500 done\n",
      "4 / 10\n",
      "insert 500 done\n",
      "4 / 10\n",
      "('DataBase/SYNTHESEYES/data/RGB/rawdata/f05/f05_2086_-0.3927_-0.3927.png', 'png', 120, 80, 'RGB', 'DataBase/SYNTHESEYES/data/RGB/labeldata/f05/f05_2086_-0.3927_-0.3927.pkl', 'pkl', '0.3730411231517792, 0.3560873866081238, -0.8567625880241394', '0.9918671250343323, -1.8329512840864481e-07, 0.12727771699428558, 0.00037638904177583754, 0.9999956488609314, -0.0029317294247448444, -0.1272771656513214, 0.0029558041132986546, 0.9918627738952637')\n",
      "insert 500 done\n",
      "4 / 10\n",
      "insert 500 done\n",
      "4 / 10\n",
      "('DataBase/SYNTHESEYES/data/RGB/rawdata/f05/f05_3524_-0.0000_-0.0000.png', 'png', 120, 80, 'RGB', 'DataBase/SYNTHESEYES/data/RGB/labeldata/f05/f05_3524_-0.0000_-0.0000.pkl', 'pkl', '0.04470726475119591, -0.048792432993650436, -0.9978079199790955', '0.9609706997871399, -8.82002154867223e-07, -0.2766490578651428, 0.10729725658893585, 0.9217252135276794, 0.37270599603652954, 0.25499412417411804, -0.3878430128097534, 0.8857512474060059')\n",
      "insert 500 done\n",
      "5 / 10\n",
      "insert 500 done\n",
      "5 / 10\n",
      "('DataBase/SYNTHESEYES/data/RGB/rawdata/m01/m01_1580_-0.0000_-0.0000.png', 'png', 120, 80, 'RGB', 'DataBase/SYNTHESEYES/data/RGB/labeldata/m01/m01_1580_-0.0000_-0.0000.pkl', 'pkl', '-0.035184960812330246, 0.036092326045036316, -0.9987288117408752', '0.9642643332481384, -1.2854022202191118e-07, 0.26494085788726807, 0.04026033729314804, 0.9883865714073181, -0.1465287059545517, -0.2618640065193176, 0.1519593894481659, 0.9530662894248962')\n",
      "insert 500 done\n",
      "5 / 10\n",
      "insert 500 done\n",
      "5 / 10\n",
      "('DataBase/SYNTHESEYES/data/RGB/rawdata/m01/m01_3040_-0.0000_-0.3927.png', 'png', 120, 80, 'RGB', 'DataBase/SYNTHESEYES/data/RGB/labeldata/m01/m01_3040_-0.0000_-0.3927.pkl', 'pkl', '0.403286874294281, -0.016676047816872597, -0.9149217009544373', '0.9903008341789246, 4.5720420871475653e-07, -0.13893824815750122, 0.034806281328201294, 0.968111515045166, 0.24808970093727112, 0.13450784981250763, -0.2505192160606384, 0.9587218165397644')\n",
      "insert 500 done\n",
      "6 / 10\n",
      "insert 500 done\n",
      "6 / 10\n",
      "('DataBase/SYNTHESEYES/data/RGB/rawdata/m02/m02_1090_-0.0000_0.7854.png', 'png', 120, 80, 'RGB', 'DataBase/SYNTHESEYES/data/RGB/labeldata/m02/m02_1090_-0.0000_0.7854.pkl', 'pkl', '-0.7306015491485596, 0.028994672000408173, -0.6821881532669067', '0.927233099937439, 9.41991942227105e-08, 0.37448468804359436, 0.10479716956615448, 0.9600455164909363, -0.2594805657863617, -0.35952237248420715, 0.27984389662742615, 0.8901859521865845')\n",
      "insert 500 done\n",
      "6 / 10\n",
      "insert 500 done\n",
      "6 / 10\n",
      "('DataBase/SYNTHESEYES/data/RGB/rawdata/m02/m02_2643_-0.1963_-0.1963.png', 'png', 120, 80, 'RGB', 'DataBase/SYNTHESEYES/data/RGB/labeldata/m02/m02_2643_-0.1963_-0.1963.pkl', 'pkl', '0.1953902691602707, 0.19297125935554504, -0.9615532159805298', '0.9932754635810852, -7.860449500185496e-07, 0.11577464640140533, -0.013245906680822372, 0.9934327006340027, 0.11364853382110596, -0.11501441150903702, -0.11441779136657715, 0.9867523312568665')\n",
      "insert 500 done\n",
      "6 / 10\n",
      "insert 500 done\n",
      "6 / 10\n",
      "('DataBase/SYNTHESEYES/data/RGB/rawdata/m02/m02_617_-0.1963_-0.0000.png', 'png', 120, 80, 'RGB', 'DataBase/SYNTHESEYES/data/RGB/labeldata/m02/m02_617_-0.1963_-0.0000.pkl', 'pkl', '0.06758078187704086, 0.24051909148693085, -0.9682888984680176', '0.9144120812416077, -9.32915895646147e-08, -0.40478479862213135, -0.11183047294616699, 0.9610796570777893, -0.2526261806488037, 0.38903045654296875, 0.2762715816497803, 0.8788227438926697')\n",
      "insert 500 done\n",
      "7 / 10\n",
      "insert 500 done\n",
      "7 / 10\n",
      "('DataBase/SYNTHESEYES/data/RGB/rawdata/m03/m03_2242_-0.3927_0.7854.png', 'png', 120, 80, 'RGB', 'DataBase/SYNTHESEYES/data/RGB/labeldata/m03/m03_2242_-0.3927_0.7854.pkl', 'pkl', '-0.7336155772209167, 0.27002212405204773, -0.6236153841018677', '0.9246849417686462, -2.45330426196233e-07, 0.380732923746109, -0.0003514766867738217, 0.9999995231628418, 0.0008543306612409651, -0.38073277473449707, -0.0009236978949047625, 0.9246845841407776')\n",
      "insert 500 done\n",
      "7 / 10\n",
      "insert 500 done\n",
      "7 / 10\n",
      "('DataBase/SYNTHESEYES/data/RGB/rawdata/m03/m03_3733_0.7854_-0.3927.png', 'png', 120, 80, 'RGB', 'DataBase/SYNTHESEYES/data/RGB/labeldata/m03/m03_3733_0.7854_-0.3927.pkl', 'pkl', '0.37562939524650574, -0.6869913339614868, -0.6220495700836182', '0.9922275543212891, -8.440367338380383e-08, 0.12444020062685013, -0.04846946522593498, 0.9210264086723328, 0.38647300004959106, -0.11461272090673447, -0.3895009458065033, 0.9138673543930054')\n",
      "insert 500 done\n",
      "8 / 10\n",
      "insert 500 done\n",
      "8 / 10\n",
      "('DataBase/SYNTHESEYES/data/RGB/rawdata/m04/m04_1924_-0.3927_-0.3927.png', 'png', 120, 80, 'RGB', 'DataBase/SYNTHESEYES/data/RGB/labeldata/m04/m04_1924_-0.3927_-0.3927.pkl', 'pkl', '0.42452263832092285, 0.36350253224372864, -0.8292444348335266', '0.986262857913971, -5.369122391130077e-07, -0.16518372297286987, -0.0019760902505367994, 0.9999284148216248, -0.011801921762526035, 0.16517189145088196, 0.011966166086494923, 0.9861922264099121')\n",
      "insert 500 done\n",
      "8 / 10\n",
      "insert 500 done\n",
      "8 / 10\n",
      "('DataBase/SYNTHESEYES/data/RGB/rawdata/m04/m04_3524_-0.0000_-0.0000.png', 'png', 120, 80, 'RGB', 'DataBase/SYNTHESEYES/data/RGB/labeldata/m04/m04_3524_-0.0000_-0.0000.pkl', 'pkl', '0.06953243911266327, -0.043192945420742035, -0.996644139289856', '0.9533127546310425, 2.495397097845853e-07, -0.30198389291763306, 0.11572079360485077, 0.9236642122268677, 0.3653121590614319, 0.2789318561553955, -0.3832024037837982, 0.8805410861968994')\n",
      "insert 500 done\n",
      "9 / 10\n",
      "insert 500 done\n",
      "9 / 10\n",
      "('DataBase/SYNTHESEYES/data/RGB/rawdata/m05/m05_1807_0.3927_-0.3927.png', 'png', 120, 80, 'RGB', 'DataBase/SYNTHESEYES/data/RGB/labeldata/m05/m05_1807_0.3927_-0.3927.pkl', 'pkl', '0.4249635338783264, -0.3461512625217438, -0.836412250995636', '0.9602687954902649, -9.026845049220356e-09, -0.27907735109329224, -0.002474364126101136, 0.9999607801437378, -0.008514070883393288, 0.27906638383865356, 0.008866185322403908, 0.9602309465408325')\n",
      "insert 500 done\n",
      "9 / 10\n",
      "insert 500 done\n",
      "9 / 10\n",
      "insert 382 done\n",
      "done\n",
      "insert 382 done\n",
      "done\n"
     ]
    }
   ],
   "source": [
    "# label 경로\n",
    "label_path = 'Z:/SYNTHESEYES/data/RGB/labeldata/'\n",
    "image_path = 'Z:/SYNTHESEYES/data/RGB/rawdata/'\n",
    "base_folder = os.listdir(label_path)\n",
    "\n",
    "value_list1 = []\n",
    "value_list2 = []\n",
    "error_list = []\n",
    "for num, folder in enumerate(base_folder):\n",
    "    label_files = os.listdir(os.path.join(label_path,folder))\n",
    "    try:\n",
    "        for label in label_files:\n",
    "            label_dir = os.path.join(label_path,folder,label)\n",
    "            img_dir = os.path.join(image_path,folder,label.replace('pkl','png'))\n",
    "            with open(label_dir, 'rb') as f:\n",
    "                texts = pickle.load(f)\n",
    "            pupil_2d = str(texts['ldmks']['ldmks_pupil_2d']).replace('[','').replace(']','').replace('(','').replace(')','')\n",
    "            lids_2d = str(texts['ldmks']['ldmks_lids_2d']).replace('[','').replace(']','').replace('(','').replace(')','')\n",
    "            iris_2d = str(texts['ldmks']['ldmks_iris_2d']).replace('[','').replace(']','').replace('(','').replace(')','')\n",
    "            pupil_3d = str(texts['ldmks']['ldmks_pupil_3d']).replace('[','').replace(']','').replace('(','').replace(')','')\n",
    "            lids_3d = str(texts['ldmks']['ldmks_lids_3d']).replace('[','').replace(']','').replace('(','').replace(')','')\n",
    "            iris_3d = str(texts['ldmks']['ldmks_iris_3d']).replace('[','').replace(']','').replace('(','').replace(')','')\n",
    "            gaze_3D = str(texts['look_vec']).replace('[','').replace(']','').replace('(','').replace(')','')\n",
    "            head_3D = str(texts['head_pose']).replace('[','').replace(']','').replace('(','').replace(')','')\n",
    "            label_format = 'pkl'\n",
    "            label_dir = label_dir.replace('Z:','DataBase').replace('\\\\','/')\n",
    "            # print(img_dir)\n",
    "            image = cv2.imread(img_dir)\n",
    "            img_width = image.shape[1]\n",
    "            img_height = image.shape[0]\n",
    "            img_dir = img_dir.replace('Z:','DataBase').replace('\\\\','/')\n",
    "            img_format = 'png'\n",
    "            color_space = 'RGB'\n",
    "\n",
    "            value1 = (img_dir, img_format, img_width, img_height, \n",
    "            color_space, label_dir, label_format, gaze_3D, head_3D)\n",
    "            # print(value1)\n",
    "            value2 = (img_dir, img_format, img_width, img_height, \n",
    "            color_space, label_dir, label_format, pupil_3d, pupil_2d, \n",
    "            iris_3d, iris_2d, lids_3d, lids_2d)\n",
    "\n",
    "            # print(value)\n",
    "            value_list1.append(value1)\n",
    "            value_list2.append(value2)\n",
    "\n",
    "            if len(value_list1) >= 500:\n",
    "                print(value_list1[0])\n",
    "                doUT.insert_dataset_values(query3, value_list1)\n",
    "                value_list1 = []\n",
    "                print(f'{num} / {len(base_folder)}')\n",
    "            if len(value_list2) >= 500:\n",
    "                doUT.insert_dataset_values(query4, value_list2)\n",
    "                value_list2 = []\n",
    "                print(f'{num} / {len(base_folder)}')\n",
    "    except:\n",
    "        error_list.append(label_dir)\n",
    "\n",
    "if len(value_list1) != 0:\n",
    "    doUT.insert_dataset_values(query3, value_list1)\n",
    "    # print(value_list2)\n",
    "    value_list1 = []\n",
    "    print('done')      \n",
    "if len(value_list2) != 0:\n",
    "    doUT.insert_dataset_values(query4, value_list2)\n",
    "    # print(value_list2)\n",
    "    value_list2 = []\n",
    "    print('done')      \n",
    "else:\n",
    "    value_list1 = []\n",
    "    print('done')\n",
    "        "
   ]
  },
  {
   "cell_type": "code",
   "execution_count": 13,
   "metadata": {},
   "outputs": [
    {
     "name": "stdout",
     "output_type": "stream",
     "text": [
      "SQL connection closed\n"
     ]
    }
   ],
   "source": [
    "doUT.connect_end()"
   ]
  },
  {
   "cell_type": "code",
   "execution_count": null,
   "metadata": {},
   "outputs": [],
   "source": []
  }
 ],
 "metadata": {
  "interpreter": {
   "hash": "11a16e5b2e68543e357a4974e618fa8ad9ec65aebfd5111a591b4a54ec662645"
  },
  "kernelspec": {
   "display_name": "Python 3 (ipykernel)",
   "language": "python",
   "name": "python3"
  },
  "language_info": {
   "codemirror_mode": {
    "name": "ipython",
    "version": 3
   },
   "file_extension": ".py",
   "mimetype": "text/x-python",
   "name": "python",
   "nbconvert_exporter": "python",
   "pygments_lexer": "ipython3",
   "version": "3.9.19"
  }
 },
 "nbformat": 4,
 "nbformat_minor": 4
}
