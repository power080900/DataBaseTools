{
 "cells": [
  {
   "cell_type": "code",
   "execution_count": 4,
   "id": "f9032a2f-11b0-4a35-a74c-b4736bc832af",
   "metadata": {},
   "outputs": [],
   "source": [
    "import numpy as np"
   ]
  },
  {
   "cell_type": "code",
   "execution_count": 5,
   "id": "7dbb32c5-991a-4e84-8f6a-08b85ec9fe78",
   "metadata": {},
   "outputs": [],
   "source": [
    "dir1 = 'Z:\\\\MS_Celeb_1M\\\\data\\\\aligned_face_images\\\\FaceImageCroppedWithAlignment.tsv'"
   ]
  },
  {
   "cell_type": "code",
   "execution_count": null,
   "id": "b3e982d8-8353-4cd6-87a7-072ce0c898fd",
   "metadata": {},
   "outputs": [],
   "source": [
    "data = np.genfromtxt(dir1, delimiter='\\t', dtype=None, encoding='utf-8', names=True)"
   ]
  },
  {
   "cell_type": "code",
   "execution_count": null,
   "id": "17975cae-fa4d-4b1c-ae90-9f591c60b45c",
   "metadata": {},
   "outputs": [],
   "source": [
    "print(data[10])"
   ]
  },
  {
   "cell_type": "code",
   "execution_count": null,
   "id": "2f89a5f9-7abf-4a29-bdf8-54cb221f7e2a",
   "metadata": {},
   "outputs": [],
   "source": []
  }
 ],
 "metadata": {
  "kernelspec": {
   "display_name": "Python 3 (ipykernel)",
   "language": "python",
   "name": "python3"
  },
  "language_info": {
   "codemirror_mode": {
    "name": "ipython",
    "version": 3
   },
   "file_extension": ".py",
   "mimetype": "text/x-python",
   "name": "python",
   "nbconvert_exporter": "python",
   "pygments_lexer": "ipython3",
   "version": "3.9.19"
  }
 },
 "nbformat": 4,
 "nbformat_minor": 5
}
