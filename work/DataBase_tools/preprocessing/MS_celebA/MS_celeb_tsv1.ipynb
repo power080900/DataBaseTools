{
 "cells": [
  {
   "cell_type": "code",
   "execution_count": 1,
   "id": "f9032a2f-11b0-4a35-a74c-b4736bc832af",
   "metadata": {},
   "outputs": [],
   "source": [
    "import os\n",
    "import pandas as pd\n",
    "import base64\n",
    "from PIL import Image\n",
    "from io import BytesIO\n",
    "import requests"
   ]
  },
  {
   "cell_type": "code",
   "execution_count": 2,
   "id": "7dbb32c5-991a-4e84-8f6a-08b85ec9fe78",
   "metadata": {},
   "outputs": [],
   "source": [
    "dir1 = 'Z:\\\\MS_Celeb_1M\\\\data\\\\aligned_face_images\\\\FaceImageCroppedWithAlignment.tsv'"
   ]
  },
  {
   "cell_type": "code",
   "execution_count": 3,
   "id": "b3e982d8-8353-4cd6-87a7-072ce0c898fd",
   "metadata": {},
   "outputs": [],
   "source": [
    "num_cols = len(pd.read_csv(dir1, sep='\\t', header=None, nrows=1).columns)"
   ]
  },
  {
   "cell_type": "code",
   "execution_count": 5,
   "id": "1684b332-bd61-481b-bc83-14b70cd8d830",
   "metadata": {},
   "outputs": [],
   "source": [
    "df1 = pd.read_csv(dir1, sep='\\t', header=None, usecols=range(num_cols-3))"
   ]
  },
  {
   "cell_type": "code",
   "execution_count": null,
   "id": "362b2ee4-ae33-4428-a885-4bc7399b94c8",
   "metadata": {},
   "outputs": [],
   "source": []
  },
  {
   "cell_type": "code",
   "execution_count": 6,
   "id": "17975cae-fa4d-4b1c-ae90-9f591c60b45c",
   "metadata": {},
   "outputs": [],
   "source": [
    "df2 = df1.drop_duplicates(subset=[2])"
   ]
  },
  {
   "cell_type": "code",
   "execution_count": 7,
   "id": "2c8d102a-e469-4bf4-b715-d334864c2ab3",
   "metadata": {},
   "outputs": [],
   "source": [
    "df2 = df2.sort_values(0)"
   ]
  },
  {
   "cell_type": "code",
   "execution_count": 8,
   "id": "c8acfc8b-303c-4388-8c69-b0edc4139deb",
   "metadata": {},
   "outputs": [
    {
     "data": {
      "text/html": [
       "<div>\n",
       "<style scoped>\n",
       "    .dataframe tbody tr th:only-of-type {\n",
       "        vertical-align: middle;\n",
       "    }\n",
       "\n",
       "    .dataframe tbody tr th {\n",
       "        vertical-align: top;\n",
       "    }\n",
       "\n",
       "    .dataframe thead th {\n",
       "        text-align: right;\n",
       "    }\n",
       "</style>\n",
       "<table border=\"1\" class=\"dataframe\">\n",
       "  <thead>\n",
       "    <tr style=\"text-align: right;\">\n",
       "      <th></th>\n",
       "      <th>0</th>\n",
       "      <th>1</th>\n",
       "      <th>2</th>\n",
       "      <th>3</th>\n",
       "    </tr>\n",
       "  </thead>\n",
       "  <tbody>\n",
       "    <tr>\n",
       "      <th>0</th>\n",
       "      <td>m.0107_f</td>\n",
       "      <td>0</td>\n",
       "      <td>http://getbeatmadrid.files.wordpress.com/2013/...</td>\n",
       "      <td>http://getbeatmadrid.wordpress.com/2013/01/28/...</td>\n",
       "    </tr>\n",
       "    <tr>\n",
       "      <th>79</th>\n",
       "      <td>m.0107_f</td>\n",
       "      <td>87</td>\n",
       "      <td>http://content.internetvideoarchive.com/conten...</td>\n",
       "      <td>http://becuo.com/magic-mike-alex-pettyfer-gif</td>\n",
       "    </tr>\n",
       "    <tr>\n",
       "      <th>78</th>\n",
       "      <td>m.0107_f</td>\n",
       "      <td>86</td>\n",
       "      <td>http://alexramonmagic.com/wp-content/themes/ni...</td>\n",
       "      <td>http://alexramonmagic.com/</td>\n",
       "    </tr>\n",
       "    <tr>\n",
       "      <th>76</th>\n",
       "      <td>m.0107_f</td>\n",
       "      <td>83</td>\n",
       "      <td>https://c1.staticflickr.com/9/8067/8181517054_...</td>\n",
       "      <td>https://www.flickr.com/photos/pietschreuders/8...</td>\n",
       "    </tr>\n",
       "    <tr>\n",
       "      <th>75</th>\n",
       "      <td>m.0107_f</td>\n",
       "      <td>82</td>\n",
       "      <td>http://media-cache-ak0.pinimg.com/736x/b6/22/b...</td>\n",
       "      <td>http://pinterest.com/pin/230316968418364572/</td>\n",
       "    </tr>\n",
       "    <tr>\n",
       "      <th>...</th>\n",
       "      <td>...</td>\n",
       "      <td>...</td>\n",
       "      <td>...</td>\n",
       "      <td>...</td>\n",
       "    </tr>\n",
       "    <tr>\n",
       "      <th>8456161</th>\n",
       "      <td>m.0zx05c9</td>\n",
       "      <td>30</td>\n",
       "      <td>http://www2.pictures.zimbio.com/gi/Peter+Evans...</td>\n",
       "      <td>http://www.zimbio.com/pictures/8-XGpJdzUNX/Cel...</td>\n",
       "    </tr>\n",
       "    <tr>\n",
       "      <th>8456160</th>\n",
       "      <td>m.0zx05c9</td>\n",
       "      <td>29</td>\n",
       "      <td>http://images.smh.com.au/2013/01/28/3986139/pe...</td>\n",
       "      <td>http://www.smh.com.au/lifestyle/i-was-the-shye...</td>\n",
       "    </tr>\n",
       "    <tr>\n",
       "      <th>8456159</th>\n",
       "      <td>m.0zx05c9</td>\n",
       "      <td>27</td>\n",
       "      <td>http://cdn.mamamia.com.au/wp/wp-content/upload...</td>\n",
       "      <td>http://www.mamamia.com.au/entertainment/pete-e...</td>\n",
       "    </tr>\n",
       "    <tr>\n",
       "      <th>8456171</th>\n",
       "      <td>m.0zx05c9</td>\n",
       "      <td>40</td>\n",
       "      <td>http://3.bp.blogspot.com/-Agx07jrQEzw/Uf77yJR_...</td>\n",
       "      <td>http://pinstopin.com/pete-evans</td>\n",
       "    </tr>\n",
       "    <tr>\n",
       "      <th>8456239</th>\n",
       "      <td>m.0zx05c9</td>\n",
       "      <td>118</td>\n",
       "      <td>http://resources2.news.com.au/images/2014/07/1...</td>\n",
       "      <td>http://www.theaustralian.com.au/executive-livi...</td>\n",
       "    </tr>\n",
       "  </tbody>\n",
       "</table>\n",
       "<p>7345850 rows × 4 columns</p>\n",
       "</div>"
      ],
      "text/plain": [
       "                 0    1                                                  2  \\\n",
       "0         m.0107_f    0  http://getbeatmadrid.files.wordpress.com/2013/...   \n",
       "79        m.0107_f   87  http://content.internetvideoarchive.com/conten...   \n",
       "78        m.0107_f   86  http://alexramonmagic.com/wp-content/themes/ni...   \n",
       "76        m.0107_f   83  https://c1.staticflickr.com/9/8067/8181517054_...   \n",
       "75        m.0107_f   82  http://media-cache-ak0.pinimg.com/736x/b6/22/b...   \n",
       "...            ...  ...                                                ...   \n",
       "8456161  m.0zx05c9   30  http://www2.pictures.zimbio.com/gi/Peter+Evans...   \n",
       "8456160  m.0zx05c9   29  http://images.smh.com.au/2013/01/28/3986139/pe...   \n",
       "8456159  m.0zx05c9   27  http://cdn.mamamia.com.au/wp/wp-content/upload...   \n",
       "8456171  m.0zx05c9   40  http://3.bp.blogspot.com/-Agx07jrQEzw/Uf77yJR_...   \n",
       "8456239  m.0zx05c9  118  http://resources2.news.com.au/images/2014/07/1...   \n",
       "\n",
       "                                                         3  \n",
       "0        http://getbeatmadrid.wordpress.com/2013/01/28/...  \n",
       "79           http://becuo.com/magic-mike-alex-pettyfer-gif  \n",
       "78                              http://alexramonmagic.com/  \n",
       "76       https://www.flickr.com/photos/pietschreuders/8...  \n",
       "75            http://pinterest.com/pin/230316968418364572/  \n",
       "...                                                    ...  \n",
       "8456161  http://www.zimbio.com/pictures/8-XGpJdzUNX/Cel...  \n",
       "8456160  http://www.smh.com.au/lifestyle/i-was-the-shye...  \n",
       "8456159  http://www.mamamia.com.au/entertainment/pete-e...  \n",
       "8456171                    http://pinstopin.com/pete-evans  \n",
       "8456239  http://www.theaustralian.com.au/executive-livi...  \n",
       "\n",
       "[7345850 rows x 4 columns]"
      ]
     },
     "execution_count": 8,
     "metadata": {},
     "output_type": "execute_result"
    }
   ],
   "source": [
    "df2"
   ]
  },
  {
   "cell_type": "code",
   "execution_count": 9,
   "id": "6bbcdf29-b0e2-43a6-a496-6bf51f0bbabe",
   "metadata": {},
   "outputs": [],
   "source": [
    "df2.to_csv('FaceImageCroppedWithAlignment_resave.csv')"
   ]
  },
  {
   "cell_type": "code",
   "execution_count": null,
   "id": "6a4a24e8-5761-4fbd-b920-473c91e6e96e",
   "metadata": {},
   "outputs": [],
   "source": []
  }
 ],
 "metadata": {
  "kernelspec": {
   "display_name": "Python 3 (ipykernel)",
   "language": "python",
   "name": "python3"
  },
  "language_info": {
   "codemirror_mode": {
    "name": "ipython",
    "version": 3
   },
   "file_extension": ".py",
   "mimetype": "text/x-python",
   "name": "python",
   "nbconvert_exporter": "python",
   "pygments_lexer": "ipython3",
   "version": "3.9.19"
  }
 },
 "nbformat": 4,
 "nbformat_minor": 5
}
