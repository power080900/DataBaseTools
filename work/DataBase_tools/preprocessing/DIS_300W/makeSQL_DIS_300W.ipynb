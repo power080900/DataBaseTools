{
 "cells": [
  {
   "cell_type": "markdown",
   "id": "37de20aa-7c6d-4220-a2a6-86a60cc9918e",
   "metadata": {
    "tags": []
   },
   "source": [
    "# SQL 작성"
   ]
  },
  {
   "cell_type": "code",
   "execution_count": 1,
   "id": "9b9d816d-e7c5-4a9b-9554-1db278f35920",
   "metadata": {},
   "outputs": [],
   "source": [
    "import sys\n",
    "import os\n",
    "import pandas as pd\n",
    "from scipy import io\n",
    "import cv2\n",
    "from glob import glob\n",
    "sys.path.append('../../src')\n",
    "import DISData as DD"
   ]
  },
  {
   "cell_type": "markdown",
   "id": "924c0751-8598-435c-a1f1-baf25cc682a0",
   "metadata": {},
   "source": [
    "## SQL 연결"
   ]
  },
  {
   "cell_type": "code",
   "execution_count": 2,
   "id": "36588b38-960f-4c3c-a696-3555e436a984",
   "metadata": {},
   "outputs": [
    {
     "name": "stdin",
     "output_type": "stream",
     "text": [
      "host:  192.168.0.201\n",
      "user:  diadmin\n",
      "password:  ········\n"
     ]
    },
    {
     "name": "stdout",
     "output_type": "stream",
     "text": [
      "SQL connection done\n"
     ]
    }
   ],
   "source": [
    "doUT = DD.SQL()"
   ]
  },
  {
   "cell_type": "markdown",
   "id": "29ee3425-ceee-48d8-82a7-0ea06b00b5e2",
   "metadata": {
    "tags": []
   },
   "source": [
    "## query 작성"
   ]
  },
  {
   "cell_type": "code",
   "execution_count": 3,
   "id": "279192df-a888-4538-b731-4573090020a5",
   "metadata": {},
   "outputs": [],
   "source": [
    "query1 = (f'''CREATE TABLE IF NOT EXISTS DIS_300W_landmark_info(\n",
    "            id INT PRIMARY KEY AUTO_INCREMENT,\n",
    "            img_name VARCHAR(255) NOT NULL,\n",
    "            img_dir VARCHAR(1000) NOT NULL,\n",
    "            img_format VARCHAR(10) NOT NULL,\n",
    "            img_width INT NOT NULL,\n",
    "            img_height INT NOT NULL,\n",
    "            color_space VARCHAR(10) NOT NULL,\n",
    "            label_name VARCHAR(255) NOT NULL,\n",
    "            label_dir VARCHAR(1000) NOT NULL,\n",
    "            label_format VARCHAR(10) NOT NULL,\n",
    "            label VARCHAR(20) NOT NULL,\n",
    "            landmark VARCHAR(1000));''')"
   ]
  },
  {
   "cell_type": "code",
   "execution_count": 4,
   "id": "a55bc097-3ffb-4ab6-87e0-d7dc964c2080",
   "metadata": {},
   "outputs": [],
   "source": [
    "query2 = (f'''INSERT INTO DIS_300W_landmark_info \n",
    "        (img_name, img_dir, img_format, img_width, img_height, \n",
    "        color_space, label_name, label_dir, label_format, label,\n",
    "        landmark)\n",
    "        VALUES (%s, %s, %s, %s, %s, %s, %s, %s, %s, %s, %s)''')"
   ]
  },
  {
   "cell_type": "markdown",
   "id": "2504c57e-f255-4e0a-929d-1d20ef1d3554",
   "metadata": {
    "tags": []
   },
   "source": [
    "## query 실행"
   ]
  },
  {
   "cell_type": "code",
   "execution_count": 5,
   "id": "315ff4b7-d2b4-4e69-8f27-4a87eb6b1c73",
   "metadata": {},
   "outputs": [
    {
     "name": "stdout",
     "output_type": "stream",
     "text": [
      "create table done\n"
     ]
    }
   ],
   "source": [
    "try:\n",
    "    doUT.create_table(query1)\n",
    "except Exception as e:\n",
    "    print(f\"Error during table creation: {e}\")"
   ]
  },
  {
   "cell_type": "code",
   "execution_count": 6,
   "id": "36c2b89c-a713-44d8-823c-e04ae135f4c4",
   "metadata": {
    "scrolled": true,
    "tags": []
   },
   "outputs": [
    {
     "name": "stdout",
     "output_type": "stream",
     "text": [
      "landmark 1 / 300\n",
      "insert 500 done\n",
      "insert 100 done\n",
      "done\n"
     ]
    }
   ],
   "source": [
    "value_list1 = []\n",
    "error_list = []\n",
    "\n",
    "label_path = 'Z:\\\\DIS_300W\\\\data\\\\RGB\\\\labeldata'\n",
    "label_lists = os.listdir(label_path)\n",
    "\n",
    "for cnt, label_list in enumerate(label_lists):\n",
    "    label_files = os.listdir(os.path.join(label_path,label_list))\n",
    "    total_cnt = len(label_files)\n",
    "    for label_file in label_files:\n",
    "        label = os.path.join(label_path,label_list,label_file)\n",
    "    \n",
    "        label_dir = '/'.join(os.path.dirname(label).split('\\\\')[-6:]+[os.path.basename(label)])\n",
    "        label_name, label_format = os.path.splitext(os.path.basename(label))\n",
    "        label_format = label_format.replace('.','')\n",
    "        color_space = 'RGB'\n",
    "        img_file = label_file.replace('pts','png')\n",
    "        search_file = '\\\\'.join(os.path.dirname(label_dir).split('\\\\')+[img_file]).replace('label','raw')\n",
    "        img_dir = '/'.join(os.path.dirname(search_file).split('\\\\')[-6:]+[img_file])\n",
    "        img_name, img_format = os.path.splitext(img_file)\n",
    "        img_format = img_format.replace('.','')\n",
    "\n",
    "        image = cv2.imread(img_dir)\n",
    "        img_width = image.shape[1]\n",
    "        img_height = image.shape[0]\n",
    "        points = []\n",
    "        \n",
    "        with open(label_dir,'r',encoding='utf-8') as f:\n",
    "            config = f.readlines()\n",
    "        for point in config[:68]:\n",
    "            x,y = map(int,map(float,point.split(' ')))\n",
    "            points.append((x,y))\n",
    "        img_dir = img_dir.replace('Z:','DataBase')\n",
    "        label_dir = label_dir.replace('Z:','DataBase')\n",
    "        label = 'face_68'\n",
    "        landmark = \",\".join(map(str, [(int(float(x)), int(float(y))) for x,y in points]))\n",
    "        # print(landmark)\n",
    "        value = (img_name, img_dir, img_format, img_width, img_height, color_space,\n",
    "        label_name, label_dir, label_format, label, landmark)\n",
    "        value_list1.append(value)\n",
    "\n",
    "        # print(value)\n",
    "        if len(value_list1) >= 500:\n",
    "            # print(value_list1[0])\n",
    "            print(f'landmark {cnt} / {total_cnt}')\n",
    "            doUT.insert_dataset_values(query2, value_list1)\n",
    "            value_list1 = []\n",
    "doUT.insert_dataset_values(query2, value_list1)\n",
    "# print(value_list2)\n",
    "value_list1 = []\n",
    "print('done')      "
   ]
  },
  {
   "cell_type": "code",
   "execution_count": null,
   "id": "5942db66-bafe-43fa-aacc-51b4137a9cb6",
   "metadata": {},
   "outputs": [],
   "source": []
  }
 ],
 "metadata": {
  "kernelspec": {
   "display_name": "Python 3 (ipykernel)",
   "language": "python",
   "name": "python3"
  },
  "language_info": {
   "codemirror_mode": {
    "name": "ipython",
    "version": 3
   },
   "file_extension": ".py",
   "mimetype": "text/x-python",
   "name": "python",
   "nbconvert_exporter": "python",
   "pygments_lexer": "ipython3",
   "version": "3.9.19"
  }
 },
 "nbformat": 4,
 "nbformat_minor": 5
}
