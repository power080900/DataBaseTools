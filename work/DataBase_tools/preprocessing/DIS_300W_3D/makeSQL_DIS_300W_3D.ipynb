{
 "cells": [
  {
   "cell_type": "markdown",
   "id": "e1a787d8-d523-4416-8c2b-090f09610c9b",
   "metadata": {
    "tags": []
   },
   "source": [
    "# SQL 작성"
   ]
  },
  {
   "cell_type": "code",
   "execution_count": 1,
   "id": "5a533cce-6b62-4f37-875c-1e7d60e58936",
   "metadata": {},
   "outputs": [],
   "source": [
    "import sys\n",
    "import os\n",
    "import pandas as pd\n",
    "from scipy import io\n",
    "import cv2\n",
    "from glob import glob\n",
    "sys.path.append('../../src')\n",
    "import DISData as DD"
   ]
  },
  {
   "cell_type": "markdown",
   "id": "eba71571-b303-450c-b0fc-acb32222df1b",
   "metadata": {},
   "source": [
    "## SQL 연결"
   ]
  },
  {
   "cell_type": "code",
   "execution_count": 2,
   "id": "70652706-b272-410d-9b0e-4b3cd19c7be5",
   "metadata": {},
   "outputs": [
    {
     "name": "stdin",
     "output_type": "stream",
     "text": [
      "host:  192.168.0.201\n",
      "user:  diadmin\n",
      "password:  ········\n"
     ]
    },
    {
     "name": "stdout",
     "output_type": "stream",
     "text": [
      "SQL connection done\n"
     ]
    }
   ],
   "source": [
    "doUT = DD.SQL()"
   ]
  },
  {
   "cell_type": "markdown",
   "id": "33eb7f9b-352d-4009-9fc5-687a309b3200",
   "metadata": {
    "tags": []
   },
   "source": [
    "## query 작성"
   ]
  },
  {
   "cell_type": "code",
   "execution_count": 3,
   "id": "4372bd52-3e29-4f5e-8d0f-1e5a7a8c6ada",
   "metadata": {},
   "outputs": [],
   "source": [
    "query1 = (f'''CREATE TABLE IF NOT EXISTS DIS_300W_3D_landmark_info(\n",
    "            id INT PRIMARY KEY AUTO_INCREMENT,\n",
    "            img_name VARCHAR(255) NOT NULL,\n",
    "            img_dir VARCHAR(1000) NOT NULL,\n",
    "            img_format VARCHAR(10) NOT NULL,\n",
    "            img_width INT NOT NULL,\n",
    "            img_height INT NOT NULL,\n",
    "            color_space VARCHAR(10) NOT NULL,\n",
    "            label_name VARCHAR(255) NOT NULL,\n",
    "            label_dir VARCHAR(1000) NOT NULL,\n",
    "            label_format VARCHAR(10) NOT NULL,\n",
    "            label VARCHAR(20) NOT NULL,\n",
    "            landmark VARCHAR(1000));''')"
   ]
  },
  {
   "cell_type": "code",
   "execution_count": 4,
   "id": "0af10daa-c765-4abb-8e6c-9257323155ef",
   "metadata": {},
   "outputs": [],
   "source": [
    "query2 = (f'''INSERT INTO DIS_300W_3D_landmark_info \n",
    "        (img_name, img_dir, img_format, img_width, img_height, \n",
    "        color_space, label_name, label_dir, label_format, label,\n",
    "        landmark)\n",
    "        VALUES (%s, %s, %s, %s, %s, %s, %s, %s, %s, %s, %s)''')"
   ]
  },
  {
   "cell_type": "markdown",
   "id": "98fb74a1-60b0-4c10-996e-7241d1bb55b5",
   "metadata": {},
   "source": [
    "## qurey 실행"
   ]
  },
  {
   "cell_type": "code",
   "execution_count": 5,
   "id": "29fafec3-0149-4f37-b901-cce05a0aeac6",
   "metadata": {},
   "outputs": [
    {
     "name": "stdout",
     "output_type": "stream",
     "text": [
      "create table done\n"
     ]
    }
   ],
   "source": [
    "try:\n",
    "    doUT.create_table(query1)\n",
    "except Exception as e:\n",
    "    print(f\"Error during table creation: {e}\")"
   ]
  },
  {
   "cell_type": "code",
   "execution_count": 11,
   "id": "715adb44-c195-42a1-8962-b5d7382209d5",
   "metadata": {
    "scrolled": true,
    "tags": []
   },
   "outputs": [
    {
     "name": "stdout",
     "output_type": "stream",
     "text": [
      "insert 500 done\n",
      "1 4\n",
      "insert 500 done\n",
      "1 4\n",
      "insert 500 done\n",
      "1 4\n",
      "insert 500 done\n",
      "1 4\n",
      "insert 500 done\n",
      "1 4\n",
      "insert 500 done\n",
      "3 4\n",
      "insert 500 done\n",
      "3 4\n",
      "insert 337 done\n",
      "done\n"
     ]
    }
   ],
   "source": [
    "# label 경로\n",
    "label_path = 'Z:\\\\DIS_300W_3D\\\\data\\\\RGB\\\\labeldata'\n",
    "image_path = 'Z:\\\\DIS_300W_3D\\\\data\\\\RGB\\\\imagedata'\n",
    "\n",
    "value_list1 = []\n",
    "error_list = []\n",
    "count = 0\n",
    "\n",
    "label_ids = os.listdir(label_path)\n",
    "for num, label_id in enumerate(label_ids):\n",
    "    total_cnt = len(label_ids)\n",
    "    label_files = os.listdir(os.path.join(label_path,label_id))\n",
    "    for label_file in label_files:\n",
    "        # try:\n",
    "            label = os.path.join(label_path,label_id,label_file)\n",
    "            text = io.loadmat(label)\n",
    "            # print(text)\n",
    "            image = label.replace('labeldata','rawdata').replace('.mat','.jpg')    \n",
    "            img_dir = image\n",
    "            img_name, img_format = os.path.splitext(os.path.basename(image))\n",
    "            img_format = img_format.replace('.','')\n",
    "            image = cv2.imread(img_dir)\n",
    "            img_width = image.shape[1]\n",
    "            img_height = image.shape[0]\n",
    "            color_check = img_dir.split('\\\\')[-2]\n",
    "\n",
    "            color_space = 'RGB'\n",
    "            label_dir = label\n",
    "            label_name, label_format = os.path.splitext(os.path.basename(label))\n",
    "            label_format = label_format.replace('.','')\n",
    "            label = 'face_68'\n",
    "\n",
    "            pt2d_x = text['pt2d'][0]\n",
    "            pt2d_y = text['pt2d'][1]\n",
    "            \n",
    "\n",
    "            point = []\n",
    "            for pt in range(len(pt2d_x)):\n",
    "                point.append((int(float(pt2d_x[pt])),int(float(pt2d_y[pt]))))\n",
    "\n",
    "            landmark = ','.join(map(str, [ (x,y) for x,y in point]))\n",
    "\n",
    "            img_dir = img_dir.replace('Z:', 'DataBase').replace('\\\\','/')\n",
    "            label_dir = label_dir.replace('Z:', 'DataBase').replace('\\\\','/')\n",
    "\n",
    "            value1 = (img_name, img_dir, img_format, img_width, img_height, color_space, label_name, label_dir, label_format, label, landmark)\n",
    "            value_list1.append(value1)\n",
    "\n",
    "        # except Exception as ex:\n",
    "        #     error_list.append((label, str(ex)))\n",
    "        #     print(f\"Error loading data from file: {label}\")\n",
    "        #     print(f\"Error details: {ex}\")\n",
    "            \n",
    "            if len(value_list1) >= 500:\n",
    "                # print(value_list1[0])\n",
    "                doUT.insert_dataset_values(query2, value_list1)\n",
    "                print(num, total_cnt)\n",
    "                value_list1 = []\n",
    "\n",
    "doUT.insert_dataset_values(query2, value_list1)\n",
    "# print(value_list2)\n",
    "value_list1 = []\n",
    "print('done')"
   ]
  },
  {
   "cell_type": "code",
   "execution_count": 26,
   "id": "05337fe5-aea7-4d3f-8613-60641e16f8fa",
   "metadata": {},
   "outputs": [
    {
     "name": "stdout",
     "output_type": "stream",
     "text": [
      "SQL connection closed\n"
     ]
    }
   ],
   "source": [
    "doUT.connect_end()"
   ]
  },
  {
   "cell_type": "code",
   "execution_count": null,
   "id": "c4dc66a0-d31e-49e4-a605-f1353c7d58af",
   "metadata": {},
   "outputs": [],
   "source": []
  }
 ],
 "metadata": {
  "kernelspec": {
   "display_name": "Python 3 (ipykernel)",
   "language": "python",
   "name": "python3"
  },
  "language_info": {
   "codemirror_mode": {
    "name": "ipython",
    "version": 3
   },
   "file_extension": ".py",
   "mimetype": "text/x-python",
   "name": "python",
   "nbconvert_exporter": "python",
   "pygments_lexer": "ipython3",
   "version": "3.9.19"
  }
 },
 "nbformat": 4,
 "nbformat_minor": 5
}
