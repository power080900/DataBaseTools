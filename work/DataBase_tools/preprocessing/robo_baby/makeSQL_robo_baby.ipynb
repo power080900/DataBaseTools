{
 "cells": [
  {
   "cell_type": "markdown",
   "id": "23205f55-0062-4e67-a475-2fa29b16fe24",
   "metadata": {},
   "source": [
    "# SQL 작성"
   ]
  },
  {
   "cell_type": "code",
   "execution_count": 1,
   "id": "331235d5-a98f-4913-b45e-d5bba3473398",
   "metadata": {},
   "outputs": [],
   "source": [
    "import sys\n",
    "import os\n",
    "import pandas as pd\n",
    "import cv2\n",
    "from glob import glob\n",
    "import xml.etree.ElementTree as ET\n",
    "sys.path.append('../../src')\n",
    "import DISData as DD"
   ]
  },
  {
   "cell_type": "markdown",
   "id": "fb1f5689-c758-4280-bb7e-f8e0899142a7",
   "metadata": {
    "tags": []
   },
   "source": [
    "## SQL 연결"
   ]
  },
  {
   "cell_type": "code",
   "execution_count": 2,
   "id": "69688762-af80-4769-b052-8e545989a343",
   "metadata": {},
   "outputs": [
    {
     "name": "stdin",
     "output_type": "stream",
     "text": [
      "host:  192.168.0.201\n",
      "user:  diadmin\n",
      "password:  ········\n"
     ]
    },
    {
     "name": "stdout",
     "output_type": "stream",
     "text": [
      "SQL connection done\n"
     ]
    }
   ],
   "source": [
    "doUT = DD.SQL()"
   ]
  },
  {
   "cell_type": "markdown",
   "id": "a3724b09-59b3-4815-883a-2134b1e06902",
   "metadata": {
    "tags": []
   },
   "source": [
    "## query 작성"
   ]
  },
  {
   "cell_type": "code",
   "execution_count": 3,
   "id": "e1a5ff08-8a45-40d3-9b3e-8c30abf50974",
   "metadata": {},
   "outputs": [],
   "source": [
    "query1 = (f'''CREATE TABLE robo_baby_box_info (\n",
    "        id INT(11) NOT NULL AUTO_INCREMENT primary key,\n",
    "        img_dir VARCHAR(100) NOT NULL,\n",
    "        img_format VARCHAR(10) NOT NULL,\n",
    "        img_width INT(11) NOT NULL,\n",
    "        img_height INT(11) NOT NULL,\n",
    "        color_space VARCHAR(10) NOT NULL,\n",
    "        label_dir VARCHAR(100) NOT NULL,\n",
    "        label_format VARCHAR(10) NOT NULL,\n",
    "        label VARCHAR(10) NOT NULL,\n",
    "        box_xtl INT(10) NOT NULL,\n",
    "        box_ytl INT(10) NOT NULL,\n",
    "        box_xbr INT(10) NOT NULL,\n",
    "        box_ybr INT(10) NOT NULL\n",
    "        );''')\n",
    "query2 = (f'''INSERT INTO robo_baby_box_info \n",
    "        (img_dir, img_format, img_width, img_height, color_space,\n",
    "          label_dir, label_format, label, box_xtl, box_ytl,\n",
    "          box_xbr, box_ybr\n",
    "          ) VALUES (%s, %s, %s, %s, %s,  %s, %s, %s, %s, %s,  %s, %s)''')\n"
   ]
  },
  {
   "cell_type": "code",
   "execution_count": 4,
   "id": "f8ca248b-4a7e-4562-97ea-a6316314f20a",
   "metadata": {},
   "outputs": [
    {
     "name": "stdout",
     "output_type": "stream",
     "text": [
      "create table done\n"
     ]
    }
   ],
   "source": [
    "try:\n",
    "    doUT.create_table(query1)\n",
    "except Exception as e:\n",
    "    print(f\"Error during table creation: {e}\")"
   ]
  },
  {
   "cell_type": "code",
   "execution_count": 5,
   "id": "d4cd4cd9-e9c8-49c9-af84-4ae52d9eb7ba",
   "metadata": {
    "scrolled": true,
    "tags": []
   },
   "outputs": [
    {
     "name": "stdout",
     "output_type": "stream",
     "text": [
      "('DataBase\\\\robo_baby\\\\data\\\\RGB\\\\rawdata\\\\kids\\\\kid_275.jpg', 'jpg', 640, 640, 'RGB', 'DataBase\\\\robo_baby\\\\data\\\\RGB\\\\labeldata\\\\kids\\\\kid_275.xml', 'xml', 'adult', 59, 118, 449, 523)\n",
      "insert 500 done\n",
      "0 1\n",
      "('DataBase\\\\robo_baby\\\\data\\\\RGB\\\\rawdata\\\\kids\\\\kid_530.jpg', 'jpg', 640, 640, 'RGB', 'DataBase\\\\robo_baby\\\\data\\\\RGB\\\\labeldata\\\\kids\\\\kid_530.xml', 'xml', 'adult', 403, 196, 238, 428)\n",
      "insert 500 done\n",
      "0 1\n",
      "('DataBase\\\\robo_baby\\\\data\\\\RGB\\\\rawdata\\\\kids\\\\kid_736.jpg', 'jpg', 640, 640, 'RGB', 'DataBase\\\\robo_baby\\\\data\\\\RGB\\\\labeldata\\\\kids\\\\kid_736.xml', 'xml', 'adult', 6, 72, 569, 569)\n",
      "insert 501 done\n",
      "0 1\n",
      "('DataBase\\\\robo_baby\\\\data\\\\RGB\\\\rawdata\\\\kids\\\\kid_1038.jpg', 'jpg', 640, 640, 'RGB', 'DataBase\\\\robo_baby\\\\data\\\\RGB\\\\labeldata\\\\kids\\\\kid_1038.xml', 'xml', 'kids', 185, 148, 244, 416)\n",
      "insert 500 done\n",
      "0 1\n",
      "('DataBase\\\\robo_baby\\\\data\\\\RGB\\\\rawdata\\\\kids\\\\kid_1268.jpg', 'jpg', 640, 640, 'RGB', 'DataBase\\\\robo_baby\\\\data\\\\RGB\\\\labeldata\\\\kids\\\\kid_1268.xml', 'xml', 'kids', 301, 92, 254, 549)\n",
      "insert 501 done\n",
      "0 1\n",
      "('DataBase\\\\robo_baby\\\\data\\\\RGB\\\\rawdata\\\\kids\\\\kid_1428.jpg', 'jpg', 640, 640, 'RGB', 'DataBase\\\\robo_baby\\\\data\\\\RGB\\\\labeldata\\\\kids\\\\kid_1428.xml', 'xml', 'kids', 11, 21, 302, 620)\n",
      "insert 500 done\n",
      "0 1\n",
      "('DataBase\\\\robo_baby\\\\data\\\\RGB\\\\rawdata\\\\kids\\\\kid_1656.jpg', 'jpg', 640, 640, 'RGB', 'DataBase\\\\robo_baby\\\\data\\\\RGB\\\\labeldata\\\\kids\\\\kid_1656.xml', 'xml', 'adult', 1, 11, 586, 577)\n",
      "insert 501 done\n",
      "0 1\n",
      "insert 166 done\n",
      "done\n"
     ]
    }
   ],
   "source": [
    "label_path = []\n",
    "label_name= []\n",
    "\n",
    "# label 경로\n",
    "label_path = 'Z:\\\\robo_baby\\\\data\\\\RGB\\\\labeldata'\n",
    "image_path = 'Z:\\\\robo_baby\\\\data\\\\RGB\\\\rawdata'\n",
    "\n",
    "value_list1 = []\n",
    "error_list = []\n",
    "count = 0\n",
    "\n",
    "labels = os.listdir(label_path)\n",
    "for num, label_id in enumerate(labels):\n",
    "    total_cnt = len(labels)\n",
    "    color_space = 'RGB'\n",
    "    label_files = os.listdir(os.path.join(label_path,label_id))\n",
    "    \n",
    "    for label_file in label_files:\n",
    "        \n",
    "        label_dir = os.path.join(label_path,label_id,label_file)\n",
    "\n",
    "\n",
    "        label_name, label_format = os.path.splitext(os.path.basename(label_file))\n",
    "        label_format = label_format.replace('.','')\n",
    "\n",
    "        tree = ET.parse(label_dir)\n",
    "        root = tree.getroot()\n",
    "\n",
    "        img_dir = label_dir.replace('label','raw').replace('.xml','.jpg')\n",
    "\n",
    "\n",
    "\n",
    "        img_file = os.path.basename(img_dir)\n",
    "        img_name = label_name\n",
    "        img_format = 'jpg'\n",
    "\n",
    "        if os.path.exists(img_dir) and os.path.getsize(img_dir) != 0:\n",
    "            img = cv2.imread(img_dir)            \n",
    "        else:\n",
    "            error_list.append(img_dir)\n",
    "            continue\n",
    "        img_w = img.shape[0]\n",
    "        img_h = img.shape[1]\n",
    "\n",
    "        img_dir = img_dir.replace('Z:','DataBase')\n",
    "        label_dir = label_dir.replace('Z:','DataBase')\n",
    "\n",
    "        for i in root.findall('object'):\n",
    "            label = i.find('name').text\n",
    "            boxes = i.findall('bndbox')\n",
    "            for box in boxes:\n",
    "                \n",
    "                box_xtl = int(box.find('xmin').text)\n",
    "                box_ytl = int(box.find('ymin').text)\n",
    "                box_xmax = int(box.find('xmax').text)\n",
    "                box_ymax = int(box.find('ymax').text)\n",
    "                box_w = abs(box_xtl - box_xmax)\n",
    "                box_h = abs(box_ytl - box_ymax)\n",
    "\n",
    "\n",
    "                values = (img_dir, img_format, img_w, img_h, color_space,\n",
    "                          label_dir, label_format, label, box_xtl, \n",
    "                          box_ytl, box_w, box_h)\n",
    "\n",
    "                value_list1.append(values)\n",
    "\n",
    "\n",
    "        # query 실행\n",
    "        if len(value_list1) >= 500:\n",
    "            print(value_list1[-1])\n",
    "            doUT.insert_dataset_values(query2, value_list1)\n",
    "            value_list1 = []\n",
    "            print(num, total_cnt)\n",
    "\n",
    "doUT.insert_dataset_values(query2, value_list1)\n",
    "value_list1 = []\n",
    "print('done')"
   ]
  },
  {
   "cell_type": "code",
   "execution_count": null,
   "id": "e43c21f5-4339-4df7-a3c6-5f1bb1fe5ccb",
   "metadata": {},
   "outputs": [],
   "source": []
  }
 ],
 "metadata": {
  "kernelspec": {
   "display_name": "Python 3 (ipykernel)",
   "language": "python",
   "name": "python3"
  },
  "language_info": {
   "codemirror_mode": {
    "name": "ipython",
    "version": 3
   },
   "file_extension": ".py",
   "mimetype": "text/x-python",
   "name": "python",
   "nbconvert_exporter": "python",
   "pygments_lexer": "ipython3",
   "version": "3.9.19"
  }
 },
 "nbformat": 4,
 "nbformat_minor": 5
}
