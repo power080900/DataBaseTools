{
 "cells": [
  {
   "cell_type": "markdown",
   "metadata": {},
   "source": [
    "# mp4 파일 Frame별 이미지 저장"
   ]
  },
  {
   "cell_type": "code",
   "execution_count": 7,
   "metadata": {},
   "outputs": [],
   "source": [
    "import cv2\n",
    "import os\n",
    "import subprocess\n",
    "\n",
    "def save_frames_from_video(video_path, output_folder):\n",
    "    # Open the video file\n",
    "    cap = cv2.VideoCapture(video_path)\n",
    "\n",
    "    # Check if the video file is opened successfully\n",
    "    if not cap.isOpened():\n",
    "        print(\"Error: Could not open video file.\")\n",
    "        return\n",
    "\n",
    "    # Get the frames per second (fps) of the video\n",
    "    fps = cap.get(cv2.CAP_PROP_FPS)\n",
    "\n",
    "    # Get the width and height of the video frames\n",
    "    width = int(cap.get(cv2.CAP_PROP_FRAME_WIDTH))\n",
    "    height = int(cap.get(cv2.CAP_PROP_FRAME_HEIGHT))\n",
    "\n",
    "    try:\n",
    "        # Loop through each frame\n",
    "        frame_count = 0\n",
    "        while True:\n",
    "            # Read a frame from the video\n",
    "            ret, frame = cap.read()\n",
    "\n",
    "            # If the frame is not read successfully, break the loop\n",
    "            if not ret:\n",
    "                break\n",
    "\n",
    "            # Save the frame as an image using sudo\n",
    "            frame_count += 1\n",
    "            frame_filename = f\"{output_folder}/frame_{frame_count}.png\"\n",
    "            cv2.imwrite(frame_filename, frame)\n",
    "\n",
    "            # Break the loop if the 'Esc' key is pressed\n",
    "            if cv2.waitKey(int(1000 / fps)) & 0xFF == 27:\n",
    "                break\n",
    "\n",
    "    finally:\n",
    "        # Release the video capture object\n",
    "        cap.release()"
   ]
  },
  {
   "cell_type": "code",
   "execution_count": 12,
   "metadata": {},
   "outputs": [],
   "source": [
    "cc = ['DEPTH']"
   ]
  },
  {
   "cell_type": "code",
   "execution_count": 13,
   "metadata": {
    "scrolled": true,
    "tags": []
   },
   "outputs": [
    {
     "name": "stdout",
     "output_type": "stream",
     "text": [
      "DEPTH kinect_depth_mp4_vp1 start\n",
      "Z:\\driver_act\\data\\DEPTH\\rawdata\\kinect_depth_mp4_vp1\\run1b_2018-05-29-14-02-47.kinect_depth save done\n",
      "Z:\\driver_act\\data\\DEPTH\\rawdata\\kinect_depth_mp4_vp1\\run2_2018-05-29-14-33-44.kinect_depth save done\n",
      "DEPTH kinect_depth_mp4_vp10 start\n",
      "Z:\\driver_act\\data\\DEPTH\\rawdata\\kinect_depth_mp4_vp10\\run1_2018-05-24-13-14-41.kinect_depth save done\n",
      "Z:\\driver_act\\data\\DEPTH\\rawdata\\kinect_depth_mp4_vp10\\run2_2018-05-24-14-08-46.kinect_depth save done\n",
      "DEPTH kinect_depth_mp4_vp11 start\n",
      "Z:\\driver_act\\data\\DEPTH\\rawdata\\kinect_depth_mp4_vp11\\run1_2018-05-24-13-44-01.kinect_depth save done\n",
      "Z:\\driver_act\\data\\DEPTH\\rawdata\\kinect_depth_mp4_vp11\\run2_2018-05-24-14-35-56.kinect_depth save done\n",
      "DEPTH kinect_depth_mp4_vp12 start\n",
      "Z:\\driver_act\\data\\DEPTH\\rawdata\\kinect_depth_mp4_vp12\\run1_2018-05-24-15-44-28.kinect_depth save done\n",
      "Z:\\driver_act\\data\\DEPTH\\rawdata\\kinect_depth_mp4_vp12\\run2_2018-05-24-16-21-35.kinect_depth save done\n",
      "DEPTH kinect_depth_mp4_vp13 start\n",
      "Z:\\driver_act\\data\\DEPTH\\rawdata\\kinect_depth_mp4_vp13\\run1_2018-05-29-15-21-10.kinect_depth save done\n",
      "Z:\\driver_act\\data\\DEPTH\\rawdata\\kinect_depth_mp4_vp13\\run2_2018-05-30-11-34-54.kinect_depth save done\n"
     ]
    }
   ],
   "source": [
    "if __name__ == \"__main__\":\n",
    "    for c in cc:\n",
    "        video_path = f\"Z:\\\\driver_act\\\\data\\\\{c}\\\\videodata\"\n",
    "        ids = os.listdir(video_path)\n",
    "        for video_id in ids[:5]:\n",
    "            print(c, video_id,'start')\n",
    "            output = f\"Z:\\\\driver_act\\\\data\\\\{c}\\\\rawdata\\\\{video_id}\"\n",
    "            video_id = os.path.join(video_path,video_id)\n",
    "            video_files = os.listdir(video_id)\n",
    "            for video_file in video_files:\n",
    "                output_folder = os.path.join(output,video_file.replace('.mp4',''))\n",
    "                video_file = os.path.join(video_id, video_file)\n",
    "                os.makedirs(output_folder, exist_ok=True)\n",
    "\n",
    "                save_frames_from_video(video_file, output_folder)\n",
    "\n",
    "                print(f'{output_folder} save done')\n",
    "        "
   ]
  },
  {
   "cell_type": "code",
   "execution_count": null,
   "metadata": {},
   "outputs": [],
   "source": []
  }
 ],
 "metadata": {
  "interpreter": {
   "hash": "11a16e5b2e68543e357a4974e618fa8ad9ec65aebfd5111a591b4a54ec662645"
  },
  "kernelspec": {
   "display_name": "Python 3 (ipykernel)",
   "language": "python",
   "name": "python3"
  },
  "language_info": {
   "codemirror_mode": {
    "name": "ipython",
    "version": 3
   },
   "file_extension": ".py",
   "mimetype": "text/x-python",
   "name": "python",
   "nbconvert_exporter": "python",
   "pygments_lexer": "ipython3",
   "version": "3.9.19"
  }
 },
 "nbformat": 4,
 "nbformat_minor": 4
}
