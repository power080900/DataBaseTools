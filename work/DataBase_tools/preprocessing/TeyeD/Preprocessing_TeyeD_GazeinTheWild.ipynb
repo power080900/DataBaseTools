{
 "cells": [
  {
   "cell_type": "markdown",
   "metadata": {},
   "source": [
    "# mp4 파일 Frame별 이미지 저장"
   ]
  },
  {
   "cell_type": "code",
   "execution_count": 2,
   "metadata": {},
   "outputs": [],
   "source": [
    "import cv2\n",
    "import os\n",
    "import subprocess\n",
    "\n",
    "def save_frames_from_video(video_path, output_folder):\n",
    "    # Open the video file\n",
    "    cap = cv2.VideoCapture(video_path)\n",
    "\n",
    "    # Check if the video file is opened successfully\n",
    "    if not cap.isOpened():\n",
    "        print(\"Error: Could not open video file.\")\n",
    "        return\n",
    "\n",
    "    # Get the frames per second (fps) of the video\n",
    "    fps = cap.get(cv2.CAP_PROP_FPS)\n",
    "\n",
    "    # Get the width and height of the video frames\n",
    "    width = int(cap.get(cv2.CAP_PROP_FRAME_WIDTH))\n",
    "    height = int(cap.get(cv2.CAP_PROP_FRAME_HEIGHT))\n",
    "\n",
    "    try:\n",
    "        # Loop through each frame\n",
    "        frame_count = 0\n",
    "        while True:\n",
    "            # Read a frame from the video\n",
    "            ret, frame = cap.read()\n",
    "\n",
    "            # If the frame is not read successfully, break the loop\n",
    "            if not ret:\n",
    "                break\n",
    "\n",
    "            # Save the frame as an image using sudo\n",
    "            frame_count += 1\n",
    "            frame_filename = f\"{output_folder}/frame_{frame_count}.png\"\n",
    "            cv2.imwrite(frame_filename, frame)\n",
    "\n",
    "            # Break the loop if the 'Esc' key is pressed\n",
    "            if cv2.waitKey(int(1000 / fps)) & 0xFF == 27:\n",
    "                break\n",
    "\n",
    "    finally:\n",
    "        # Release the video capture object\n",
    "        cap.release()"
   ]
  },
  {
   "cell_type": "code",
   "execution_count": 3,
   "metadata": {
    "scrolled": true,
    "tags": []
   },
   "outputs": [
    {
     "name": "stdout",
     "output_type": "stream",
     "text": [
      "15_6 start\n",
      "Z:/TEyeD_GazeinTheWild/data/IR/imgdata/GW_15/GW_15_6 save done\n",
      "15_7 start\n",
      "Z:/TEyeD_GazeinTheWild/data/IR/imgdata/GW_15/GW_15_7 save done\n",
      "15_8 start\n",
      "Z:/TEyeD_GazeinTheWild/data/IR/imgdata/GW_15/GW_15_8 save done\n"
     ]
    }
   ],
   "source": [
    "if __name__ == \"__main__\":\n",
    "    for j in range(15,16):\n",
    "        if j != 16:\n",
    "            for i in range(6,9):\n",
    "                print(f'{j}_{i} start') \n",
    "                video_path = f\"Z:/TEyeD_GazeinTheWild/data/IR/resize_videodata/GW_{j}/GW_{j}_{i}_resize.mp4\"\n",
    "                output_folder = f\"Z:/TEyeD_GazeinTheWild/data/IR/imgdata/GW_{j}/GW_{j}_{i}\"\n",
    "\n",
    "                os.makedirs(output_folder, exist_ok=True)\n",
    "\n",
    "                save_frames_from_video(video_path, output_folder)\n",
    "\n",
    "                print(f'{output_folder} save done')\n",
    "        else:\n",
    "            pass"
   ]
  },
  {
   "cell_type": "code",
   "execution_count": null,
   "metadata": {},
   "outputs": [],
   "source": []
  }
 ],
 "metadata": {
  "interpreter": {
   "hash": "11a16e5b2e68543e357a4974e618fa8ad9ec65aebfd5111a591b4a54ec662645"
  },
  "kernelspec": {
   "display_name": "Python 3 (ipykernel)",
   "language": "python",
   "name": "python3"
  },
  "language_info": {
   "codemirror_mode": {
    "name": "ipython",
    "version": 3
   },
   "file_extension": ".py",
   "mimetype": "text/x-python",
   "name": "python",
   "nbconvert_exporter": "python",
   "pygments_lexer": "ipython3",
   "version": "3.9.19"
  }
 },
 "nbformat": 4,
 "nbformat_minor": 4
}
