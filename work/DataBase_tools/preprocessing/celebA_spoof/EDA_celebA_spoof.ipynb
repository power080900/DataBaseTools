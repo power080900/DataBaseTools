{
 "cells": [
  {
   "cell_type": "code",
   "execution_count": 1,
   "id": "e9f13981-fad2-4dbb-853d-85c0733dcd27",
   "metadata": {},
   "outputs": [],
   "source": [
    "import cv2\n",
    "import numpy as np\n",
    "import os\n",
    "import sys\n",
    "sys.path.append('../../src')\n",
    "import DISData as DD\n",
    "import matplotlib.pyplot as plt\n",
    "import seaborn as sns\n",
    "import pandas as pd"
   ]
  },
  {
   "cell_type": "code",
   "execution_count": 2,
   "id": "367f90c2-7c65-4106-b11c-b380c39f0a9a",
   "metadata": {},
   "outputs": [
    {
     "name": "stdin",
     "output_type": "stream",
     "text": [
      "host:  192.168.0.128\n",
      "user:  diadmin\n",
      "password:  ········\n"
     ]
    },
    {
     "name": "stdout",
     "output_type": "stream",
     "text": [
      "SQL connection done\n"
     ]
    }
   ],
   "source": [
    "doUT = DD.SQL()"
   ]
  },
  {
   "cell_type": "code",
   "execution_count": 4,
   "id": "1fea5255-f1c4-404f-89a3-717a2bd20c26",
   "metadata": {},
   "outputs": [],
   "source": [
    "data_name = 'celebA_spoof'"
   ]
  },
  {
   "cell_type": "code",
   "execution_count": 45,
   "id": "67c384ef-bd80-49ef-876b-2bbeef0d2eb0",
   "metadata": {},
   "outputs": [],
   "source": [
    "query = f'''select label, count(img_dir) as count from DeepInSight.{data_name}_info group by label;'''"
   ]
  },
  {
   "cell_type": "code",
   "execution_count": 34,
   "id": "e1ac8b79-26ff-46ec-a530-00ae5df27c62",
   "metadata": {},
   "outputs": [],
   "source": [
    "db = doUT.db\n",
    "conn = doUT.conn\n",
    "conn.execute(query)\n",
    "column_names = [desc[0] for desc in conn.description]\n",
    "result = conn.fetchall()\n",
    "db.commit()"
   ]
  },
  {
   "cell_type": "code",
   "execution_count": 35,
   "id": "992b3d0f-6412-4434-a079-a9accc7b9bd1",
   "metadata": {},
   "outputs": [],
   "source": [
    "df = pd.DataFrame(result, columns=column_names)\n",
    "df['count'] = df['count'].astype('int64')"
   ]
  },
  {
   "cell_type": "code",
   "execution_count": 36,
   "id": "595dfe8a-a1e0-42ac-8c73-b5e8d4a39931",
   "metadata": {},
   "outputs": [
    {
     "data": {
      "text/html": [
       "<div>\n",
       "<style scoped>\n",
       "    .dataframe tbody tr th:only-of-type {\n",
       "        vertical-align: middle;\n",
       "    }\n",
       "\n",
       "    .dataframe tbody tr th {\n",
       "        vertical-align: top;\n",
       "    }\n",
       "\n",
       "    .dataframe thead th {\n",
       "        text-align: right;\n",
       "    }\n",
       "</style>\n",
       "<table border=\"1\" class=\"dataframe\">\n",
       "  <thead>\n",
       "    <tr style=\"text-align: right;\">\n",
       "      <th></th>\n",
       "      <th>label</th>\n",
       "      <th>count</th>\n",
       "    </tr>\n",
       "  </thead>\n",
       "  <tbody>\n",
       "    <tr>\n",
       "      <th>0</th>\n",
       "      <td>live</td>\n",
       "      <td>184407</td>\n",
       "    </tr>\n",
       "    <tr>\n",
       "      <th>1</th>\n",
       "      <td>spoof</td>\n",
       "      <td>377128</td>\n",
       "    </tr>\n",
       "  </tbody>\n",
       "</table>\n",
       "</div>"
      ],
      "text/plain": [
       "   label   count\n",
       "0   live  184407\n",
       "1  spoof  377128"
      ]
     },
     "execution_count": 36,
     "metadata": {},
     "output_type": "execute_result"
    }
   ],
   "source": [
    "df = df.sort_values(by='label')\n",
    "df"
   ]
  },
  {
   "cell_type": "code",
   "execution_count": 43,
   "id": "8d5c1f20-f46d-4de8-9764-3e124c125515",
   "metadata": {},
   "outputs": [
    {
     "data": {
      "image/png": "[encoded data removed]",
      "text/plain": [
       "<Figure size 800x600 with 1 Axes>"
      ]
     },
     "metadata": {},
     "output_type": "display_data"
    }
   ],
   "source": [
    "try:\n",
    "    plt.figure(figsize=(8, 6))\n",
    "    sns.set(style=\"whitegrid\")\n",
    "    ax = sns.barplot(x='label', y='count', data=df, hue='label')\n",
    "    for p in ax.patches:\n",
    "        label = p.get_height()  # 막대의 너비를 가져와서 count로 사용\n",
    "        count = p.get_x() + p.get_width() / 2  # 막대의 y 좌표를 가져와서 label로 사용\n",
    "        ax.annotate(f'{label}', (count, label), ha='center', va='center', fontsize=10, color='black')\n",
    "    plt.xlabel('label')\n",
    "    plt.ylabel('count')\n",
    "    plt.title('Count of Labels')\n",
    "    save_path = f'label/{data_name}_label.png'\n",
    "    if not os.path.exists('label'):\n",
    "        os.makedirs('label')\n",
    "    if os.path.exists(save_path):\n",
    "        os.remove(save_path)\n",
    "    plt.savefig(save_path)\n",
    "except Exception as e:\n",
    "    print(e)"
   ]
  },
  {
   "cell_type": "code",
   "execution_count": 46,
   "id": "c312a9e8-db4b-4946-99cd-6bf5884e012b",
   "metadata": {},
   "outputs": [],
   "source": [
    "query2 = f'''select label_id, count(img_dir) as count from DeepInSight.{data_name}_info group by label_id;'''"
   ]
  },
  {
   "cell_type": "code",
   "execution_count": 52,
   "id": "f7c5673a-07bf-4ca1-b670-d1162ba122c1",
   "metadata": {},
   "outputs": [],
   "source": [
    "db = doUT.db\n",
    "conn = doUT.conn\n",
    "conn.execute(query2)\n",
    "column_names = [desc[0] for desc in conn.description]\n",
    "result2 = conn.fetchall()\n",
    "db.commit()"
   ]
  },
  {
   "cell_type": "code",
   "execution_count": 60,
   "id": "1d9efc73-c7fc-4113-8407-6b0392476890",
   "metadata": {},
   "outputs": [
    {
     "data": {
      "text/html": [
       "<div>\n",
       "<style scoped>\n",
       "    .dataframe tbody tr th:only-of-type {\n",
       "        vertical-align: middle;\n",
       "    }\n",
       "\n",
       "    .dataframe tbody tr th {\n",
       "        vertical-align: top;\n",
       "    }\n",
       "\n",
       "    .dataframe thead th {\n",
       "        text-align: right;\n",
       "    }\n",
       "</style>\n",
       "<table border=\"1\" class=\"dataframe\">\n",
       "  <thead>\n",
       "    <tr style=\"text-align: right;\">\n",
       "      <th></th>\n",
       "      <th>label_id</th>\n",
       "      <th>count</th>\n",
       "    </tr>\n",
       "  </thead>\n",
       "  <tbody>\n",
       "    <tr>\n",
       "      <th>0</th>\n",
       "      <td>1</td>\n",
       "      <td>70</td>\n",
       "    </tr>\n",
       "    <tr>\n",
       "      <th>1</th>\n",
       "      <td>2</td>\n",
       "      <td>51</td>\n",
       "    </tr>\n",
       "    <tr>\n",
       "      <th>2</th>\n",
       "      <td>3</td>\n",
       "      <td>67</td>\n",
       "    </tr>\n",
       "    <tr>\n",
       "      <th>3</th>\n",
       "      <td>4</td>\n",
       "      <td>64</td>\n",
       "    </tr>\n",
       "    <tr>\n",
       "      <th>4</th>\n",
       "      <td>5</td>\n",
       "      <td>66</td>\n",
       "    </tr>\n",
       "    <tr>\n",
       "      <th>...</th>\n",
       "      <td>...</td>\n",
       "      <td>...</td>\n",
       "    </tr>\n",
       "    <tr>\n",
       "      <th>9188</th>\n",
       "      <td>10173</td>\n",
       "      <td>110</td>\n",
       "    </tr>\n",
       "    <tr>\n",
       "      <th>9189</th>\n",
       "      <td>10174</td>\n",
       "      <td>110</td>\n",
       "    </tr>\n",
       "    <tr>\n",
       "      <th>9190</th>\n",
       "      <td>10175</td>\n",
       "      <td>70</td>\n",
       "    </tr>\n",
       "    <tr>\n",
       "      <th>9191</th>\n",
       "      <td>10176</td>\n",
       "      <td>108</td>\n",
       "    </tr>\n",
       "    <tr>\n",
       "      <th>9192</th>\n",
       "      <td>10177</td>\n",
       "      <td>50</td>\n",
       "    </tr>\n",
       "  </tbody>\n",
       "</table>\n",
       "<p>9193 rows × 2 columns</p>\n",
       "</div>"
      ],
      "text/plain": [
       "      label_id  count\n",
       "0            1     70\n",
       "1            2     51\n",
       "2            3     67\n",
       "3            4     64\n",
       "4            5     66\n",
       "...        ...    ...\n",
       "9188     10173    110\n",
       "9189     10174    110\n",
       "9190     10175     70\n",
       "9191     10176    108\n",
       "9192     10177     50\n",
       "\n",
       "[9193 rows x 2 columns]"
      ]
     },
     "execution_count": 60,
     "metadata": {},
     "output_type": "execute_result"
    }
   ],
   "source": [
    "df2"
   ]
  },
  {
   "cell_type": "code",
   "execution_count": 61,
   "id": "22bdff62-cdbd-422a-8d26-a06cd6c7c58a",
   "metadata": {},
   "outputs": [],
   "source": [
    "df2 = pd.DataFrame(result2, columns=column_names)\n",
    "df2['count'] = df2['count'].astype('int64')\n",
    "df2['label_id'] = df2['label_id'].astype('str')"
   ]
  },
  {
   "cell_type": "code",
   "execution_count": 63,
   "id": "f53b909b-d056-4338-a44e-4c13c49986a0",
   "metadata": {},
   "outputs": [
    {
     "data": {
      "text/html": [
       "<div>\n",
       "<style scoped>\n",
       "    .dataframe tbody tr th:only-of-type {\n",
       "        vertical-align: middle;\n",
       "    }\n",
       "\n",
       "    .dataframe tbody tr th {\n",
       "        vertical-align: top;\n",
       "    }\n",
       "\n",
       "    .dataframe thead th {\n",
       "        text-align: right;\n",
       "    }\n",
       "</style>\n",
       "<table border=\"1\" class=\"dataframe\">\n",
       "  <thead>\n",
       "    <tr style=\"text-align: right;\">\n",
       "      <th></th>\n",
       "      <th>label_id</th>\n",
       "      <th>count</th>\n",
       "    </tr>\n",
       "  </thead>\n",
       "  <tbody>\n",
       "    <tr>\n",
       "      <th>7580</th>\n",
       "      <td>8565</td>\n",
       "      <td>1</td>\n",
       "    </tr>\n",
       "    <tr>\n",
       "      <th>1573</th>\n",
       "      <td>1965</td>\n",
       "      <td>1</td>\n",
       "    </tr>\n",
       "    <tr>\n",
       "      <th>7600</th>\n",
       "      <td>8585</td>\n",
       "      <td>1</td>\n",
       "    </tr>\n",
       "    <tr>\n",
       "      <th>1814</th>\n",
       "      <td>2277</td>\n",
       "      <td>2</td>\n",
       "    </tr>\n",
       "    <tr>\n",
       "      <th>7338</th>\n",
       "      <td>8323</td>\n",
       "      <td>2</td>\n",
       "    </tr>\n",
       "    <tr>\n",
       "      <th>...</th>\n",
       "      <td>...</td>\n",
       "      <td>...</td>\n",
       "    </tr>\n",
       "    <tr>\n",
       "      <th>4560</th>\n",
       "      <td>5545</td>\n",
       "      <td>516</td>\n",
       "    </tr>\n",
       "    <tr>\n",
       "      <th>4493</th>\n",
       "      <td>5478</td>\n",
       "      <td>529</td>\n",
       "    </tr>\n",
       "    <tr>\n",
       "      <th>4639</th>\n",
       "      <td>5624</td>\n",
       "      <td>558</td>\n",
       "    </tr>\n",
       "    <tr>\n",
       "      <th>5260</th>\n",
       "      <td>6245</td>\n",
       "      <td>575</td>\n",
       "    </tr>\n",
       "    <tr>\n",
       "      <th>5414</th>\n",
       "      <td>6399</td>\n",
       "      <td>620</td>\n",
       "    </tr>\n",
       "  </tbody>\n",
       "</table>\n",
       "<p>9193 rows × 2 columns</p>\n",
       "</div>"
      ],
      "text/plain": [
       "     label_id  count\n",
       "7580     8565      1\n",
       "1573     1965      1\n",
       "7600     8585      1\n",
       "1814     2277      2\n",
       "7338     8323      2\n",
       "...       ...    ...\n",
       "4560     5545    516\n",
       "4493     5478    529\n",
       "4639     5624    558\n",
       "5260     6245    575\n",
       "5414     6399    620\n",
       "\n",
       "[9193 rows x 2 columns]"
      ]
     },
     "execution_count": 63,
     "metadata": {},
     "output_type": "execute_result"
    }
   ],
   "source": [
    "df2 = df2.sort_values(by='count')\n",
    "df2"
   ]
  },
  {
   "cell_type": "code",
   "execution_count": 69,
   "id": "422e40f4-540d-47fc-ade4-4a7cc2b94fdc",
   "metadata": {},
   "outputs": [
    {
     "data": {
      "image/png": "[encoded data removed]",
      "text/plain": [
       "<Figure size 800x2000 with 1 Axes>"
      ]
     },
     "metadata": {},
     "output_type": "display_data"
    }
   ],
   "source": [
    "try:\n",
    "    plt.figure(figsize=(8, 20))\n",
    "    sns.set(style=\"whitegrid\")\n",
    "    ax = sns.barplot(x='count', y='label_id', data=df2)\n",
    "    # for p in ax.patches:\n",
    "    #     count = p.get_width()  # 막대의 너비를 가져와서 count로 사용\n",
    "    #     label_id = p.get_y() + p.get_height() / 2  # 막대의 y 좌표를 가져와서 label로 사용\n",
    "    #     ax.annotate(f'{count}', (count, label), ha='center', va='center', fontsize=10, color='black')\n",
    "    plt.xlabel('count')\n",
    "    plt.ylabel('label_id')\n",
    "    plt.title('Count of Labels')\n",
    "    save_path = f'label/{data_name}_label2.png'\n",
    "    if not os.path.exists('label'):\n",
    "        os.makedirs('label')\n",
    "    if os.path.exists(save_path):\n",
    "        os.remove(save_path)\n",
    "    plt.savefig(save_path)\n",
    "except Exception as e:\n",
    "    print(e)"
   ]
  },
  {
   "cell_type": "code",
   "execution_count": null,
   "id": "b6f2a3ff-c98d-452c-88c7-299a32b1e583",
   "metadata": {},
   "outputs": [],
   "source": []
  }
 ],
 "metadata": {
  "kernelspec": {
   "display_name": "Python 3 (ipykernel)",
   "language": "python",
   "name": "python3"
  },
  "language_info": {
   "codemirror_mode": {
    "name": "ipython",
    "version": 3
   },
   "file_extension": ".py",
   "mimetype": "text/x-python",
   "name": "python",
   "nbconvert_exporter": "python",
   "pygments_lexer": "ipython3",
   "version": "3.9.15"
  }
 },
 "nbformat": 4,
 "nbformat_minor": 5
}
