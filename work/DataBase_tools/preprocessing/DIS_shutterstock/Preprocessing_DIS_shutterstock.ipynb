{
 "cells": [
  {
   "cell_type": "markdown",
   "metadata": {},
   "source": [
    "# mp4 파일 Frame별 이미지 저장"
   ]
  },
  {
   "cell_type": "code",
   "execution_count": 1,
   "metadata": {},
   "outputs": [],
   "source": [
    "import cv2\n",
    "import os\n",
    "import subprocess\n",
    "\n",
    "def save_frames_from_video(video_path, output_folder):\n",
    "    # Open the video file\n",
    "    cap = cv2.VideoCapture(video_path)\n",
    "\n",
    "    # Check if the video file is opened successfully\n",
    "    if not cap.isOpened():\n",
    "        print(\"Error: Could not open video file.\")\n",
    "        return\n",
    "\n",
    "    # Get the frames per second (fps) of the video\n",
    "    fps = cap.get(cv2.CAP_PROP_FPS)\n",
    "\n",
    "    # Get the width and height of the video frames\n",
    "    width = int(cap.get(cv2.CAP_PROP_FRAME_WIDTH))\n",
    "    height = int(cap.get(cv2.CAP_PROP_FRAME_HEIGHT))\n",
    "\n",
    "    try:\n",
    "        # Loop through each frame\n",
    "        frame_count = 0\n",
    "        while True:\n",
    "            # Read a frame from the video\n",
    "            ret, frame = cap.read()\n",
    "\n",
    "            # If the frame is not read successfully, break the loop\n",
    "            if not ret:\n",
    "                break\n",
    "\n",
    "            # Save the frame as an image using sudo\n",
    "            frame_count += 1\n",
    "            frame_filename = f\"{output_folder}/frame_{frame_count}.png\"\n",
    "            cv2.imwrite(frame_filename, frame)\n",
    "\n",
    "            # Break the loop if the 'Esc' key is pressed\n",
    "            if cv2.waitKey(int(1000 / fps)) & 0xFF == 27:\n",
    "                break\n",
    "\n",
    "    finally:\n",
    "        # Release the video capture object\n",
    "        cap.release()"
   ]
  },
  {
   "cell_type": "code",
   "execution_count": 4,
   "metadata": {
    "scrolled": true,
    "tags": []
   },
   "outputs": [
    {
     "name": "stdout",
     "output_type": "stream",
     "text": [
      "Drowsy_001.mp4 start\n",
      "Z:\\DIS_shutterstock\\data\\RGB\\rawdata\\Drowsy_001 save done\n",
      "Drowsy_002.mp4 start\n",
      "Z:\\DIS_shutterstock\\data\\RGB\\rawdata\\Drowsy_002 save done\n",
      "Drowsy_003.mp4 start\n",
      "Z:\\DIS_shutterstock\\data\\RGB\\rawdata\\Drowsy_003 save done\n",
      "Drowsy_004.mp4 start\n",
      "Z:\\DIS_shutterstock\\data\\RGB\\rawdata\\Drowsy_004 save done\n",
      "Drowsy_005.mp4 start\n",
      "Z:\\DIS_shutterstock\\data\\RGB\\rawdata\\Drowsy_005 save done\n",
      "Drowsy_006.mp4 start\n",
      "Z:\\DIS_shutterstock\\data\\RGB\\rawdata\\Drowsy_006 save done\n",
      "Drowsy_007.mp4 start\n",
      "Z:\\DIS_shutterstock\\data\\RGB\\rawdata\\Drowsy_007 save done\n",
      "Drowsy_008.mp4 start\n",
      "Z:\\DIS_shutterstock\\data\\RGB\\rawdata\\Drowsy_008 save done\n",
      "Drowsy_009.mp4 start\n",
      "Z:\\DIS_shutterstock\\data\\RGB\\rawdata\\Drowsy_009 save done\n",
      "Drowsy_010.mp4 start\n",
      "Z:\\DIS_shutterstock\\data\\RGB\\rawdata\\Drowsy_010 save done\n",
      "Drowsy_011.mp4 start\n",
      "Z:\\DIS_shutterstock\\data\\RGB\\rawdata\\Drowsy_011 save done\n",
      "Drowsy_012.mp4 start\n",
      "Z:\\DIS_shutterstock\\data\\RGB\\rawdata\\Drowsy_012 save done\n",
      "Drowsy_013.mp4 start\n",
      "Z:\\DIS_shutterstock\\data\\RGB\\rawdata\\Drowsy_013 save done\n",
      "Drowsy_014.mp4 start\n",
      "Z:\\DIS_shutterstock\\data\\RGB\\rawdata\\Drowsy_014 save done\n",
      "Drowsy_015.mp4 start\n",
      "Z:\\DIS_shutterstock\\data\\RGB\\rawdata\\Drowsy_015 save done\n",
      "Drowsy_016.mp4 start\n",
      "Z:\\DIS_shutterstock\\data\\RGB\\rawdata\\Drowsy_016 save done\n",
      "Drowsy_017.mp4 start\n",
      "Z:\\DIS_shutterstock\\data\\RGB\\rawdata\\Drowsy_017 save done\n",
      "Drowsy_018.mp4 start\n",
      "Z:\\DIS_shutterstock\\data\\RGB\\rawdata\\Drowsy_018 save done\n",
      "Drowsy_019.mp4 start\n",
      "Z:\\DIS_shutterstock\\data\\RGB\\rawdata\\Drowsy_019 save done\n",
      "Drowsy_021.mp4 start\n",
      "Z:\\DIS_shutterstock\\data\\RGB\\rawdata\\Drowsy_021 save done\n",
      "Drowsy_022.mp4 start\n",
      "Z:\\DIS_shutterstock\\data\\RGB\\rawdata\\Drowsy_022 save done\n",
      "Drowsy_023.mp4 start\n",
      "Z:\\DIS_shutterstock\\data\\RGB\\rawdata\\Drowsy_023 save done\n",
      "Drowsy_024.mp4 start\n",
      "Z:\\DIS_shutterstock\\data\\RGB\\rawdata\\Drowsy_024 save done\n",
      "Drowsy_025.mp4 start\n",
      "Z:\\DIS_shutterstock\\data\\RGB\\rawdata\\Drowsy_025 save done\n",
      "Drowsy_026.mp4 start\n",
      "Z:\\DIS_shutterstock\\data\\RGB\\rawdata\\Drowsy_026 save done\n",
      "Drowsy_027.mp4 start\n",
      "Z:\\DIS_shutterstock\\data\\RGB\\rawdata\\Drowsy_027 save done\n",
      "Drowsy_028.mp4 start\n",
      "Z:\\DIS_shutterstock\\data\\RGB\\rawdata\\Drowsy_028 save done\n",
      "Drowsy_029.mp4 start\n",
      "Z:\\DIS_shutterstock\\data\\RGB\\rawdata\\Drowsy_029 save done\n",
      "Drowsy_030.mp4 start\n",
      "Z:\\DIS_shutterstock\\data\\RGB\\rawdata\\Drowsy_030 save done\n",
      "Drowsy_031.mp4 start\n",
      "Z:\\DIS_shutterstock\\data\\RGB\\rawdata\\Drowsy_031 save done\n",
      "Drowsy_032.mp4 start\n",
      "Z:\\DIS_shutterstock\\data\\RGB\\rawdata\\Drowsy_032 save done\n",
      "Drowsy_033.mp4 start\n",
      "Z:\\DIS_shutterstock\\data\\RGB\\rawdata\\Drowsy_033 save done\n",
      "Drowsy_034.mp4 start\n",
      "Z:\\DIS_shutterstock\\data\\RGB\\rawdata\\Drowsy_034 save done\n",
      "Drowsy_035.mp4 start\n",
      "Z:\\DIS_shutterstock\\data\\RGB\\rawdata\\Drowsy_035 save done\n"
     ]
    }
   ],
   "source": [
    "if __name__ == \"__main__\":\n",
    "    video_path = \"Z:\\\\DIS_shutterstock\\\\data\\\\RGB\\\\videodata\"\n",
    "    files = os.listdir(video_path)\n",
    "    for file in files:\n",
    "        print(file,'start')\n",
    "        file_dir = file.replace(\".mp4\",'')\n",
    "        output_folder = f\"Z:\\\\DIS_shutterstock\\\\data\\\\RGB\\\\rawdata\\\\{file_dir}\"\n",
    "        video_file = os.path.join(video_path,file)\n",
    "        os.makedirs(output_folder, exist_ok=True)\n",
    "\n",
    "        save_frames_from_video(video_file, output_folder)\n",
    "\n",
    "        print(f'{output_folder} save done')\n",
    "        "
   ]
  },
  {
   "cell_type": "code",
   "execution_count": 5,
   "metadata": {},
   "outputs": [
    {
     "name": "stdout",
     "output_type": "stream",
     "text": [
      "done\n"
     ]
    }
   ],
   "source": [
    "print('done')"
   ]
  },
  {
   "cell_type": "code",
   "execution_count": null,
   "metadata": {},
   "outputs": [],
   "source": []
  }
 ],
 "metadata": {
  "interpreter": {
   "hash": "11a16e5b2e68543e357a4974e618fa8ad9ec65aebfd5111a591b4a54ec662645"
  },
  "kernelspec": {
   "display_name": "Python 3 (ipykernel)",
   "language": "python",
   "name": "python3"
  },
  "language_info": {
   "codemirror_mode": {
    "name": "ipython",
    "version": 3
   },
   "file_extension": ".py",
   "mimetype": "text/x-python",
   "name": "python",
   "nbconvert_exporter": "python",
   "pygments_lexer": "ipython3",
   "version": "3.9.19"
  }
 },
 "nbformat": 4,
 "nbformat_minor": 4
}
