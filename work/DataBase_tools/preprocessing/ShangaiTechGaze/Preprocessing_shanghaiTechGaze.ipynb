{
 "cells": [
  {
   "cell_type": "markdown",
   "metadata": {},
   "source": [
    "# Preprocessing"
   ]
  },
  {
   "cell_type": "code",
   "execution_count": 26,
   "metadata": {},
   "outputs": [],
   "source": [
    "import os\n",
    "from scipy import io\n",
    "import shutil"
   ]
  },
  {
   "cell_type": "markdown",
   "metadata": {},
   "source": [
    "## label 확인"
   ]
  },
  {
   "cell_type": "code",
   "execution_count": 19,
   "metadata": {},
   "outputs": [],
   "source": [
    "mat_file1 = 'Z:\\\\shanghaiTechGaze\\\\org_data\\\\images\\\\coordinate\\\\00004\\\\00000.mat'\n",
    "mat_file2 = 'Z:\\\\shanghaiTechGaze\\\\org_data\\\\images\\\\face_landmarks\\\\leftcamera\\\\00004\\\\00000.mat'"
   ]
  },
  {
   "cell_type": "code",
   "execution_count": 20,
   "metadata": {},
   "outputs": [],
   "source": [
    "mat_data1 = io.loadmat(mat_file1)\n",
    "mat_data2 = io.loadmat(mat_file2)"
   ]
  },
  {
   "cell_type": "code",
   "execution_count": 36,
   "metadata": {},
   "outputs": [
    {
     "name": "stdout",
     "output_type": "stream",
     "text": [
      "{'__header__': b'MATLAB 5.0 MAT-file, Platform: PCWIN64, Created on: Wed Jul 12 18:56:06 2017', '__version__': '1.0', '__globals__': [], 'xy_gt': array([[21.98328125],\n",
      "       [12.68657407]])}\n",
      "{'__header__': b'MATLAB 5.0 MAT-file, Platform: GLNXA64, Created on: Wed Jul 26 09:34:27 2017', '__version__': '1.0', '__globals__': [], 'eyelocation': array([[0.33672333],\n",
      "       [0.15735852],\n",
      "       [0.34196778],\n",
      "       [0.14955037],\n",
      "       [0.34974333],\n",
      "       [0.14897259],\n",
      "       [0.35685889],\n",
      "       [0.15610444],\n",
      "       [0.35049722],\n",
      "       [0.159     ],\n",
      "       [0.34267889],\n",
      "       [0.15994222],\n",
      "       [0.38828167],\n",
      "       [0.15354074],\n",
      "       [0.39416611],\n",
      "       [0.14538074],\n",
      "       [0.40216333],\n",
      "       [0.14523111],\n",
      "       [0.40864   ],\n",
      "       [0.15158148],\n",
      "       [0.40310278],\n",
      "       [0.15473556],\n",
      "       [0.39534444],\n",
      "       [0.15523778]])}\n"
     ]
    }
   ],
   "source": [
    "print(mat_data1)\n",
    "print(mat_data2)"
   ]
  },
  {
   "cell_type": "code",
   "execution_count": 35,
   "metadata": {},
   "outputs": [
    {
     "name": "stdout",
     "output_type": "stream",
     "text": [
      "[[21.98328125]\n",
      " [12.68657407]]\n",
      "[[0.33672333]\n",
      " [0.15735852]\n",
      " [0.34196778]\n",
      " [0.14955037]\n",
      " [0.34974333]\n",
      " [0.14897259]\n",
      " [0.35685889]\n",
      " [0.15610444]\n",
      " [0.35049722]\n",
      " [0.159     ]\n",
      " [0.34267889]\n",
      " [0.15994222]\n",
      " [0.38828167]\n",
      " [0.15354074]\n",
      " [0.39416611]\n",
      " [0.14538074]\n",
      " [0.40216333]\n",
      " [0.14523111]\n",
      " [0.40864   ]\n",
      " [0.15158148]\n",
      " [0.40310278]\n",
      " [0.15473556]\n",
      " [0.39534444]\n",
      " [0.15523778]]\n"
     ]
    }
   ],
   "source": [
    "print(mat_data1['xy_gt'])\n",
    "print(mat_data2['eyelocation'])"
   ]
  },
  {
   "cell_type": "code",
   "execution_count": null,
   "metadata": {},
   "outputs": [],
   "source": []
  }
 ],
 "metadata": {
  "interpreter": {
   "hash": "11a16e5b2e68543e357a4974e618fa8ad9ec65aebfd5111a591b4a54ec662645"
  },
  "kernelspec": {
   "display_name": "Python 3 (ipykernel)",
   "language": "python",
   "name": "python3"
  },
  "language_info": {
   "codemirror_mode": {
    "name": "ipython",
    "version": 3
   },
   "file_extension": ".py",
   "mimetype": "text/x-python",
   "name": "python",
   "nbconvert_exporter": "python",
   "pygments_lexer": "ipython3",
   "version": "3.9.15"
  }
 },
 "nbformat": 4,
 "nbformat_minor": 4
}
