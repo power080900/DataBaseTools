{
 "cells": [
  {
   "cell_type": "code",
   "execution_count": 1,
   "id": "a855dfeb-b1ec-4980-9634-686f0beff50e",
   "metadata": {},
   "outputs": [],
   "source": [
    "import cv2\n",
    "import numpy as np\n",
    "import os\n",
    "import sys\n",
    "sys.path.append('../../src')\n",
    "import DISData as DD"
   ]
  },
  {
   "cell_type": "code",
   "execution_count": 2,
   "id": "d7af4c10-9306-4eb8-b13d-8a239b976b36",
   "metadata": {},
   "outputs": [
    {
     "name": "stdin",
     "output_type": "stream",
     "text": [
      "host:  ········\n",
      "user:  ········\n",
      "password:  ········\n"
     ]
    },
    {
     "name": "stdout",
     "output_type": "stream",
     "text": [
      "SQL connection done\n"
     ]
    }
   ],
   "source": [
    "doUT = DD.SQL()"
   ]
  },
  {
   "cell_type": "code",
   "execution_count": 3,
   "id": "0db5b2dd-ade8-4e18-a4ab-16085a7135f9",
   "metadata": {},
   "outputs": [],
   "source": [
    "df = doUT.search_SQL('MpiiGaze')"
   ]
  },
  {
   "cell_type": "code",
   "execution_count": 4,
   "id": "95c60990-4934-4d93-98de-1d976827617c",
   "metadata": {},
   "outputs": [],
   "source": [
    "df_gaze = df[['img_dir','Gaze_2D']]"
   ]
  },
  {
   "cell_type": "code",
   "execution_count": 5,
   "id": "47c93a8d-7595-4126-99dd-6cc0884ee098",
   "metadata": {
    "scrolled": true,
    "tags": []
   },
   "outputs": [
    {
     "name": "stdout",
     "output_type": "stream",
     "text": [
      "DataBase\\MpiiGaze\\data\\grayscale\\rawdata\\p00\\0_right.jpg\n",
      "DataBase\\MpiiGaze\\data\\grayscale\\rawdata\\p00\\0_left.jpg\n",
      "DataBase\\MpiiGaze\\data\\grayscale\\rawdata\\p00\\1_right.jpg\n",
      "DataBase\\MpiiGaze\\data\\grayscale\\rawdata\\p00\\1_left.jpg\n",
      "DataBase\\MpiiGaze\\data\\grayscale\\rawdata\\p00\\2_right.jpg\n"
     ]
    }
   ],
   "source": [
    "DD.SearchDataset.Show_images(df_gaze)"
   ]
  },
  {
   "cell_type": "code",
   "execution_count": null,
   "id": "97e6f1ef-a832-4006-921c-0058cb0310fa",
   "metadata": {},
   "outputs": [],
   "source": []
  }
 ],
 "metadata": {
  "kernelspec": {
   "display_name": "Python 3 (ipykernel)",
   "language": "python",
   "name": "python3"
  },
  "language_info": {
   "codemirror_mode": {
    "name": "ipython",
    "version": 3
   },
   "file_extension": ".py",
   "mimetype": "text/x-python",
   "name": "python",
   "nbconvert_exporter": "python",
   "pygments_lexer": "ipython3",
   "version": "3.9.19"
  }
 },
 "nbformat": 4,
 "nbformat_minor": 5
}
