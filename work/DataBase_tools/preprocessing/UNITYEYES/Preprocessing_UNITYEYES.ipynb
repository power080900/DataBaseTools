{
 "cells": [
  {
   "cell_type": "code",
   "execution_count": 1,
   "metadata": {},
   "outputs": [
    {
     "ename": "DatabaseError",
     "evalue": "file is not a database",
     "output_type": "error",
     "traceback": [
      "\u001b[0;31m---------------------------------------------------------------------------\u001b[0m",
      "\u001b[0;31mDatabaseError\u001b[0m                             Traceback (most recent call last)",
      "Cell \u001b[0;32mIn[1], line 13\u001b[0m\n\u001b[1;32m     10\u001b[0m cursor \u001b[38;5;241m=\u001b[39m conn\u001b[38;5;241m.\u001b[39mcursor()\n\u001b[1;32m     12\u001b[0m \u001b[38;5;66;03m# Example: Execute a SQL query to retrieve data from a table\u001b[39;00m\n\u001b[0;32m---> 13\u001b[0m \u001b[43mcursor\u001b[49m\u001b[38;5;241;43m.\u001b[39;49m\u001b[43mexecute\u001b[49m\u001b[43m(\u001b[49m\u001b[38;5;124;43m\"\u001b[39;49m\u001b[38;5;124;43mSELECT * FROM your_table_name\u001b[39;49m\u001b[38;5;124;43m\"\u001b[39;49m\u001b[43m)\u001b[49m\n\u001b[1;32m     14\u001b[0m rows \u001b[38;5;241m=\u001b[39m cursor\u001b[38;5;241m.\u001b[39mfetchall()\n\u001b[1;32m     16\u001b[0m \u001b[38;5;66;03m# Process the retrieved data (replace this part with your specific logic)\u001b[39;00m\n",
      "\u001b[0;31mDatabaseError\u001b[0m: file is not a database"
     ]
    }
   ],
   "source": [
    "import sqlite3\n",
    "\n",
    "# Replace 'your_database.db' with the actual path and name of your SQLite database file\n",
    "db_file_path = 'nsmount/UnityEyes/UnityEyes_Windows/imgs/Thumbs.db'\n",
    "\n",
    "# Connect to the database\n",
    "conn = sqlite3.connect(db_file_path)\n",
    "\n",
    "# Create a cursor object to execute SQL queries\n",
    "cursor = conn.cursor()\n",
    "\n",
    "# Example: Execute a SQL query to retrieve data from a table\n",
    "cursor.execute(\"SELECT * FROM your_table_name\")\n",
    "rows = cursor.fetchall()\n",
    "\n",
    "# Process the retrieved data (replace this part with your specific logic)\n",
    "for row in rows:\n",
    "    print(row)\n",
    "\n",
    "# Close the cursor and connection\n",
    "cursor.close()\n",
    "conn.close()"
   ]
  },
  {
   "cell_type": "code",
   "execution_count": null,
   "metadata": {},
   "outputs": [],
   "source": []
  }
 ],
 "metadata": {
  "interpreter": {
   "hash": "11a16e5b2e68543e357a4974e618fa8ad9ec65aebfd5111a591b4a54ec662645"
  },
  "kernelspec": {
   "display_name": "Python 3.9.7 ('venv': venv)",
   "language": "python",
   "name": "python3"
  },
  "language_info": {
   "codemirror_mode": {
    "name": "ipython",
    "version": 3
   },
   "file_extension": ".py",
   "mimetype": "text/x-python",
   "name": "python",
   "nbconvert_exporter": "python",
   "pygments_lexer": "ipython3",
   "version": "3.9.7"
  },
  "orig_nbformat": 4
 },
 "nbformat": 4,
 "nbformat_minor": 2
}
