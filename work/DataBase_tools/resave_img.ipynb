{
 "cells": [
  {
   "cell_type": "code",
   "execution_count": 2,
   "id": "18604466-1a55-4ec8-a607-12fef0adc80e",
   "metadata": {},
   "outputs": [],
   "source": [
    "import cv2\n",
    "import numpy as np"
   ]
  },
  {
   "cell_type": "code",
   "execution_count": 3,
   "id": "957d3440-8525-4661-8e86-3e60bb726f9b",
   "metadata": {},
   "outputs": [],
   "source": [
    "img_path = 'C:\\\\lee\\\\work\\\\sample\\\\Sample_id_3\\\\0.cam_rearview.f_1.rgb.png'\n",
    "resave_path = 'C:\\\\lee\\\\work\\\\sample\\\\Sample_id_3'"
   ]
  },
  {
   "cell_type": "code",
   "execution_count": 26,
   "id": "baf30935-b79f-4dcc-8c6f-5e62d439df06",
   "metadata": {},
   "outputs": [],
   "source": [
    "def transform_rect_to_ellipse(image_path):\n",
    "    # 직사각형 이미지 불러오기\n",
    "    img = cv2.imread(image_path)\n",
    "\n",
    "    # 이미지의 높이와 너비 구하기\n",
    "    height, width = img.shape[:2]\n",
    "\n",
    "    # 타원의 중심 좌표 계산\n",
    "    center_x = width // 2\n",
    "    center_y = height // 2\n",
    "\n",
    "    # 타원의 장축과 단축 길이 설정 (예: 여기서는 직사각형의 반 너비와 반 높이)\n",
    "    major_axis = width*3 // 5\n",
    "    minor_axis = height*3 // 5\n",
    "\n",
    "    # 타원의 회전 각도\n",
    "    angle = 0\n",
    "\n",
    "    # 타원 변환을 위한 변환 행렬 계산\n",
    "    rotation_matrix = cv2.getRotationMatrix2D((center_x, center_y), angle, 1)\n",
    "    transformed_img = cv2.warpAffine(img, rotation_matrix, (width, height))\n",
    "\n",
    "    # 타원 영역을 나타내기 위한 마스크 생성\n",
    "    mask = np.zeros_like(img)\n",
    "    cv2.ellipse(mask, (center_x, center_y), (major_axis, minor_axis), angle, 0, 360, (255, 255, 255), -1)\n",
    "    mask = cv2.cvtColor(mask, cv2.COLOR_BGR2GRAY)\n",
    "\n",
    "    # 타원 영역 외의 부분을 제거\n",
    "    result = cv2.bitwise_and(transformed_img, transformed_img, mask=mask)\n",
    "\n",
    "    return result"
   ]
  },
  {
   "cell_type": "code",
   "execution_count": 27,
   "id": "442dac4b-7347-4d3c-a673-d57c9ccf11f5",
   "metadata": {},
   "outputs": [
    {
     "data": {
      "text/plain": [
       "True"
      ]
     },
     "execution_count": 27,
     "metadata": {},
     "output_type": "execute_result"
    }
   ],
   "source": [
    "transformed_image = transform_rect_to_ellipse(img_path)\n",
    "cv2.imwrite(f\"{resave_path}\\\\ellipse_image.jpg\", transformed_image)"
   ]
  },
  {
   "cell_type": "code",
   "execution_count": 12,
   "id": "6e0bbf27-9e7c-45ac-a9cb-af51f96914eb",
   "metadata": {},
   "outputs": [],
   "source": [
    "def fisheye_effect(image_path, strength=1, zoom=0.8):\n",
    "    # 이미지 불러오기\n",
    "    img = cv2.imread(image_path)\n",
    "    height, width = img.shape[:2] #이 부분에서 Focal Length를 픽셀로 변환하여 그 값을 넣는 것이 더 일반적임 \n",
    "    \n",
    "    # 왜곡 파라미터 설정\n",
    "    K = np.array([[width, 0, width / 2],\n",
    "                  [0, height, height / 2],\n",
    "                  [0, 0, 1]], dtype=np.float32)\n",
    "    D = np.array([strength, 0, 0, 0], dtype=np.float32)\n",
    "    \n",
    "    # 왜곡 맵 생성\n",
    "    map1, map2 = cv2.fisheye.initUndistortRectifyMap(K, D, np.eye(3), K, (width, height), cv2.CV_16SC2)\n",
    "    \n",
    "    # 왜곡 적용\n",
    "    fisheye_img = cv2.remap(img, map1, map2, interpolation=cv2.INTER_LINEAR, borderMode=cv2.BORDER_CONSTANT)\n",
    "    \n",
    "    # 결과 이미지 반환\n",
    "    return pincushion_img, map1, map2\n"
   ]
  },
  {
   "cell_type": "code",
   "execution_count": null,
   "id": "4332bf9c-2564-495e-9080-5abe32a18484",
   "metadata": {},
   "outputs": [],
   "source": [
    "def transform_landmarks(landmarks, map1, map2):\n",
    "    new_landmarks = []\n",
    "    for (x, y) in landmarks:\n",
    "        new_x = map1[y, x, 0]\n",
    "        new_y = map1[y, x, 1]\n",
    "        new_landmarks.append((new_x, new_y))\n",
    "    return new_landmarks"
   ]
  },
  {
   "cell_type": "code",
   "execution_count": 13,
   "id": "27cf78cd-780b-4b28-b585-f7b61b959223",
   "metadata": {},
   "outputs": [
    {
     "data": {
      "text/plain": [
       "True"
      ]
     },
     "execution_count": 13,
     "metadata": {},
     "output_type": "execute_result"
    }
   ],
   "source": [
    "transformed_image, map1, map2 = fisheye_effect(img_path)\n",
    "\n",
    "cv2.imwrite(f\"{resave_path}\\\\fisheye_image.jpg\", transformed_image)"
   ]
  },
  {
   "cell_type": "code",
   "execution_count": null,
   "id": "6486edc4-3270-4618-bac5-02cb02b20704",
   "metadata": {},
   "outputs": [],
   "source": [
    "transformed_landmarks = transform_landmarks(landmarks, map1, map2)\n",
    "print(transformed_landmarks)"
   ]
  }
 ],
 "metadata": {
  "kernelspec": {
   "display_name": "Python 3 (ipykernel)",
   "language": "python",
   "name": "python3"
  },
  "language_info": {
   "codemirror_mode": {
    "name": "ipython",
    "version": 3
   },
   "file_extension": ".py",
   "mimetype": "text/x-python",
   "name": "python",
   "nbconvert_exporter": "python",
   "pygments_lexer": "ipython3",
   "version": "3.9.19"
  }
 },
 "nbformat": 4,
 "nbformat_minor": 5
}
