{
 "cells": [
  {
   "cell_type": "code",
   "execution_count": 4,
   "id": "f9032a2f-11b0-4a35-a74c-b4736bc832af",
   "metadata": {},
   "outputs": [],
   "source": [
    "import os\n",
    "import pandas as pd\n",
    "import base64\n",
    "from PIL import Image\n",
    "from io import BytesIO\n",
    "import requests"
   ]
  },
  {
   "cell_type": "code",
   "execution_count": 5,
   "id": "7dbb32c5-991a-4e84-8f6a-08b85ec9fe78",
   "metadata": {},
   "outputs": [],
   "source": [
    "dir1 = 'Z:\\\\MS-Celeb-1M\\\\data\\\\aligned_face_images\\\\FaceImageCroppedWithAlignment.tsv'\n",
    "dir2 = 'Z:\\\\MS-Celeb-1M\\\\data\\\\croped_face_images\\\\FaceImageCroppedWithOutAlignment.tsv'"
   ]
  },
  {
   "cell_type": "code",
   "execution_count": null,
   "id": "b3e982d8-8353-4cd6-87a7-072ce0c898fd",
   "metadata": {},
   "outputs": [],
   "source": [
    "df1 = pd.read_csv(dir1,sep='\\t',header=None)"
   ]
  },
  {
   "cell_type": "code",
   "execution_count": null,
   "id": "17975cae-fa4d-4b1c-ae90-9f591c60b45c",
   "metadata": {},
   "outputs": [],
   "source": [
    "df1"
   ]
  },
  {
   "cell_type": "code",
   "execution_count": null,
   "id": "1473c214-81a8-46db-bac7-f1d38cb018a1",
   "metadata": {},
   "outputs": [],
   "source": [
    "for index, row in df.itterrows():\n",
    "    id_ = row[1]\n",
    "    img_url = row[2]\n",
    "    img_save_dir1 = f'Z:\\\\MS-Celeb-1M\\\\data\\\\aligned_face_images\\\\imgs\\\\id_{id_}'\n",
    "    if not os.exists(img_save_dir1):\n",
    "        os.makedirs(img_save_dir1)\n",
    "    try:\n",
    "        # URL에서 이미지 요청\n",
    "        response = requests.get(image_url)\n",
    "        response.raise_for_status()  # HTTP 오류가 발생한 경우 예외 발생\n",
    "        \n",
    "        # 이미지 열기\n",
    "        image = Image.open(BytesIO(response.content))\n",
    "        \n",
    "        # 이미지 파일명 생성\n",
    "        file_name = f\"id_{id_}{index}.jpg\"\n",
    "        \n",
    "        # 이미지 저장\n",
    "        image.save(file_name)\n",
    "         print(f\"이미지 다운로드 및 저장 완료: {file_name}\")\n",
    "        \n",
    "    except Exception as e:\n",
    "        print(f\"이미지 다운로드 중 오류 발생: {e}\")"
   ]
  },
  {
   "cell_type": "code",
   "execution_count": null,
   "id": "05c82ceb-35a1-4df8-9c49-385fc40bff52",
   "metadata": {},
   "outputs": [],
   "source": [
    "df2 = pd.read_csv(dir2,sep='\\t',header=None)\n"
   ]
  },
  {
   "cell_type": "code",
   "execution_count": null,
   "id": "f312aacf-b1f7-41f7-a1bb-364d0c122321",
   "metadata": {},
   "outputs": [],
   "source": [
    "img_dir2 = 'Z:\\\\MS-Celeb-1M\\\\data\\\\croped_face_images\\\\imgs'"
   ]
  },
  {
   "cell_type": "code",
   "execution_count": 28,
   "id": "a753545a-81d1-46ba-879b-3c0561571143",
   "metadata": {},
   "outputs": [],
   "source": [
    "# Base64 데이터 문자열\n",
    "base64_data = df1[6]\n",
    "\n",
    "# Base64 디코딩\n",
    "for num, data in enumerate(base64_data[:10]):\n",
    "    decoded_data = base64.b64decode(data)\n",
    "\n",
    "    with open(f\"decoded_image_{num}.jpg\", \"wb\") as file:\n",
    "        file.write(decoded_data)"
   ]
  },
  {
   "cell_type": "code",
   "execution_count": 35,
   "id": "1fef1c6e-42b9-492c-834c-57b9d8502051",
   "metadata": {},
   "outputs": [
    {
     "name": "stdout",
     "output_type": "stream",
     "text": [
      "이미지 처리 중 오류 발생: cannot identify image file <_io.BytesIO object at 0x00000233C0A510E0>\n",
      "이미지 처리 중 오류 발생: cannot identify image file <_io.BytesIO object at 0x00000233C0A510E0>\n",
      "이미지 처리 중 오류 발생: cannot identify image file <_io.BytesIO object at 0x00000233C0A510E0>\n",
      "이미지 처리 중 오류 발생: cannot identify image file <_io.BytesIO object at 0x00000233C0A510E0>\n",
      "이미지 처리 중 오류 발생: cannot identify image file <_io.BytesIO object at 0x00000233C0A510E0>\n",
      "이미지 처리 중 오류 발생: cannot identify image file <_io.BytesIO object at 0x00000233C0A510E0>\n",
      "이미지 처리 중 오류 발생: cannot identify image file <_io.BytesIO object at 0x00000233C0A510E0>\n",
      "이미지 처리 중 오류 발생: cannot identify image file <_io.BytesIO object at 0x00000233C0A510E0>\n",
      "이미지 처리 중 오류 발생: cannot identify image file <_io.BytesIO object at 0x00000233C0A510E0>\n",
      "이미지 처리 중 오류 발생: cannot identify image file <_io.BytesIO object at 0x00000233C0A510E0>\n"
     ]
    }
   ],
   "source": [
    "# Base64 데이터 문자열\n",
    "base64_data2 = df1[5]\n",
    "\n",
    "# Base64 디코딩\n",
    "for num, data in enumerate(base64_data2[:10]):\n",
    "    # Base64 디코딩\n",
    "    decoded_data = base64.b64decode(data)\n",
    "\n",
    "    try:\n",
    "        image = Image.open(BytesIO(decoded_data))\n",
    "        # 이미지 정보를 확인\n",
    "        image.show()\n",
    "        print(\"이미지 정보:\", image.format, image.size, image.mode)\n",
    "    except Exception as e:\n",
    "        print(f\"이미지 처리 중 오류 발생: {e}\")"
   ]
  },
  {
   "cell_type": "code",
   "execution_count": null,
   "id": "2f89a5f9-7abf-4a29-bdf8-54cb221f7e2a",
   "metadata": {},
   "outputs": [],
   "source": []
  }
 ],
 "metadata": {
  "kernelspec": {
   "display_name": "Python 3 (ipykernel)",
   "language": "python",
   "name": "python3"
  },
  "language_info": {
   "codemirror_mode": {
    "name": "ipython",
    "version": 3
   },
   "file_extension": ".py",
   "mimetype": "text/x-python",
   "name": "python",
   "nbconvert_exporter": "python",
   "pygments_lexer": "ipython3",
   "version": "3.9.19"
  }
 },
 "nbformat": 4,
 "nbformat_minor": 5
}
