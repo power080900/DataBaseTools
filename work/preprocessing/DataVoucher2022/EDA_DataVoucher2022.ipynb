{
 "cells": [
  {
   "cell_type": "code",
   "execution_count": 4,
   "id": "e9f13981-fad2-4dbb-853d-85c0733dcd27",
   "metadata": {},
   "outputs": [],
   "source": [
    "import cv2\n",
    "import numpy as np\n",
    "import os\n",
    "import sys\n",
    "sys.path.append('../../src')\n",
    "import DISData as DD\n",
    "import matplotlib.pyplot as plt\n",
    "import seaborn as sns\n",
    "import pandas as pd"
   ]
  },
  {
   "cell_type": "code",
   "execution_count": 5,
   "id": "367f90c2-7c65-4106-b11c-b380c39f0a9a",
   "metadata": {},
   "outputs": [
    {
     "name": "stdin",
     "output_type": "stream",
     "text": [
      "host:  192.168.0.128\n",
      "user:  diadmin\n",
      "password:  ········\n"
     ]
    },
    {
     "name": "stdout",
     "output_type": "stream",
     "text": [
      "SQL connection done\n"
     ]
    }
   ],
   "source": [
    "doUT = DD.SQL()"
   ]
  },
  {
   "cell_type": "code",
   "execution_count": 14,
   "id": "1fea5255-f1c4-404f-89a3-717a2bd20c26",
   "metadata": {},
   "outputs": [],
   "source": [
    "data_name = 'DataVoucher2022'"
   ]
  },
  {
   "cell_type": "code",
   "execution_count": 15,
   "id": "67c384ef-bd80-49ef-876b-2bbeef0d2eb0",
   "metadata": {},
   "outputs": [],
   "source": [
    "query = f'''select label, count(img_dir) as count from DeepInSight.{data_name}_box_info group by label;'''"
   ]
  },
  {
   "cell_type": "code",
   "execution_count": 8,
   "id": "e1ac8b79-26ff-46ec-a530-00ae5df27c62",
   "metadata": {},
   "outputs": [],
   "source": [
    "db = doUT.db\n",
    "conn = doUT.conn\n",
    "conn.execute(query)\n",
    "column_names = [desc[0] for desc in conn.description]\n",
    "result = conn.fetchall()\n",
    "db.commit()"
   ]
  },
  {
   "cell_type": "code",
   "execution_count": 9,
   "id": "992b3d0f-6412-4434-a079-a9accc7b9bd1",
   "metadata": {},
   "outputs": [],
   "source": [
    "df = pd.DataFrame(result, columns=column_names)\n",
    "df['count'] = df['count'].astype('int64')"
   ]
  },
  {
   "cell_type": "code",
   "execution_count": 12,
   "id": "595dfe8a-a1e0-42ac-8c73-b5e8d4a39931",
   "metadata": {},
   "outputs": [
    {
     "data": {
      "text/html": [
       "<div>\n",
       "<style scoped>\n",
       "    .dataframe tbody tr th:only-of-type {\n",
       "        vertical-align: middle;\n",
       "    }\n",
       "\n",
       "    .dataframe tbody tr th {\n",
       "        vertical-align: top;\n",
       "    }\n",
       "\n",
       "    .dataframe thead th {\n",
       "        text-align: right;\n",
       "    }\n",
       "</style>\n",
       "<table border=\"1\" class=\"dataframe\">\n",
       "  <thead>\n",
       "    <tr style=\"text-align: right;\">\n",
       "      <th></th>\n",
       "      <th>label</th>\n",
       "      <th>count</th>\n",
       "    </tr>\n",
       "  </thead>\n",
       "  <tbody>\n",
       "    <tr>\n",
       "      <th>4</th>\n",
       "      <td>glasses</td>\n",
       "      <td>5750</td>\n",
       "    </tr>\n",
       "    <tr>\n",
       "      <th>2</th>\n",
       "      <td>cellphone</td>\n",
       "      <td>5645</td>\n",
       "    </tr>\n",
       "    <tr>\n",
       "      <th>6</th>\n",
       "      <td>mask</td>\n",
       "      <td>4950</td>\n",
       "    </tr>\n",
       "    <tr>\n",
       "      <th>1</th>\n",
       "      <td>can</td>\n",
       "      <td>500</td>\n",
       "    </tr>\n",
       "    <tr>\n",
       "      <th>3</th>\n",
       "      <td>cigar</td>\n",
       "      <td>500</td>\n",
       "    </tr>\n",
       "    <tr>\n",
       "      <th>0</th>\n",
       "      <td>bottle</td>\n",
       "      <td>450</td>\n",
       "    </tr>\n",
       "    <tr>\n",
       "      <th>5</th>\n",
       "      <td>head</td>\n",
       "      <td>400</td>\n",
       "    </tr>\n",
       "  </tbody>\n",
       "</table>\n",
       "</div>"
      ],
      "text/plain": [
       "       label  count\n",
       "4    glasses   5750\n",
       "2  cellphone   5645\n",
       "6       mask   4950\n",
       "1        can    500\n",
       "3      cigar    500\n",
       "0     bottle    450\n",
       "5       head    400"
      ]
     },
     "execution_count": 12,
     "metadata": {},
     "output_type": "execute_result"
    }
   ],
   "source": [
    "df = df.sort_values(by='count',ascending=False)\n",
    "df"
   ]
  },
  {
   "cell_type": "code",
   "execution_count": 13,
   "id": "8d5c1f20-f46d-4de8-9764-3e124c125515",
   "metadata": {},
   "outputs": [
    {
     "data": {
      "image/png": "[encoded data removed]",
      "text/plain": [
       "<Figure size 800x600 with 1 Axes>"
      ]
     },
     "metadata": {},
     "output_type": "display_data"
    }
   ],
   "source": [
    "try:\n",
    "    plt.figure(figsize=(8, 6))\n",
    "    sns.set(style=\"whitegrid\")\n",
    "    ax = sns.barplot(x='label', y='count', data=df, hue='label')\n",
    "    for p in ax.patches:\n",
    "        label = p.get_height()  # 막대의 너비를 가져와서 count로 사용\n",
    "        count = p.get_x() + p.get_width() / 2  # 막대의 y 좌표를 가져와서 label로 사용\n",
    "        ax.annotate(f'{label}', (count, label), ha='center', va='center', fontsize=10, color='black')\n",
    "    plt.xlabel('label')\n",
    "    plt.ylabel('count')\n",
    "    plt.title('Count of Labels')\n",
    "    save_path = f'label/{data_name}_label.png'\n",
    "    if not os.path.exists('label'):\n",
    "        os.makedirs('label')\n",
    "    if os.path.exists(save_path):\n",
    "        os.remove(save_path)\n",
    "    plt.savefig(save_path)\n",
    "except Exception as e:\n",
    "    print(e)"
   ]
  },
  {
   "cell_type": "code",
   "execution_count": 18,
   "id": "c312a9e8-db4b-4946-99cd-6bf5884e012b",
   "metadata": {},
   "outputs": [],
   "source": [
    "query2 = f'''select label, count(img_dir) as count from DeepInSight.{data_name}_landmark_info group by label;'''"
   ]
  },
  {
   "cell_type": "code",
   "execution_count": 19,
   "id": "f7c5673a-07bf-4ca1-b670-d1162ba122c1",
   "metadata": {},
   "outputs": [],
   "source": [
    "db = doUT.db\n",
    "conn = doUT.conn\n",
    "conn.execute(query2)\n",
    "column_names = [desc[0] for desc in conn.description]\n",
    "result2 = conn.fetchall()\n",
    "db.commit()"
   ]
  },
  {
   "cell_type": "code",
   "execution_count": 21,
   "id": "22bdff62-cdbd-422a-8d26-a06cd6c7c58a",
   "metadata": {},
   "outputs": [],
   "source": [
    "df2 = pd.DataFrame(result2, columns=column_names)\n",
    "df2['count'] = df2['count'].astype('int64')"
   ]
  },
  {
   "cell_type": "code",
   "execution_count": 29,
   "id": "f53b909b-d056-4338-a44e-4c13c49986a0",
   "metadata": {},
   "outputs": [
    {
     "data": {
      "text/html": [
       "<div>\n",
       "<style scoped>\n",
       "    .dataframe tbody tr th:only-of-type {\n",
       "        vertical-align: middle;\n",
       "    }\n",
       "\n",
       "    .dataframe tbody tr th {\n",
       "        vertical-align: top;\n",
       "    }\n",
       "\n",
       "    .dataframe thead th {\n",
       "        text-align: right;\n",
       "    }\n",
       "</style>\n",
       "<table border=\"1\" class=\"dataframe\">\n",
       "  <thead>\n",
       "    <tr style=\"text-align: right;\">\n",
       "      <th></th>\n",
       "      <th>label</th>\n",
       "      <th>count</th>\n",
       "    </tr>\n",
       "  </thead>\n",
       "  <tbody>\n",
       "    <tr>\n",
       "      <th>3</th>\n",
       "      <td>upper_body_13</td>\n",
       "      <td>9849</td>\n",
       "    </tr>\n",
       "    <tr>\n",
       "      <th>0</th>\n",
       "      <td>face_68</td>\n",
       "      <td>9303</td>\n",
       "    </tr>\n",
       "    <tr>\n",
       "      <th>2</th>\n",
       "      <td>hand_right_21</td>\n",
       "      <td>7402</td>\n",
       "    </tr>\n",
       "    <tr>\n",
       "      <th>1</th>\n",
       "      <td>hand_left_21</td>\n",
       "      <td>6965</td>\n",
       "    </tr>\n",
       "  </tbody>\n",
       "</table>\n",
       "</div>"
      ],
      "text/plain": [
       "           label  count\n",
       "3  upper_body_13   9849\n",
       "0        face_68   9303\n",
       "2  hand_right_21   7402\n",
       "1   hand_left_21   6965"
      ]
     },
     "execution_count": 29,
     "metadata": {},
     "output_type": "execute_result"
    }
   ],
   "source": [
    "df2 = df2.sort_values(by='count',ascending=False)\n",
    "df2"
   ]
  },
  {
   "cell_type": "code",
   "execution_count": 32,
   "id": "422e40f4-540d-47fc-ade4-4a7cc2b94fdc",
   "metadata": {},
   "outputs": [
    {
     "data": {
      "image/png": "[encoded data removed]",
      "text/plain": [
       "<Figure size 800x600 with 1 Axes>"
      ]
     },
     "metadata": {},
     "output_type": "display_data"
    }
   ],
   "source": [
    "try:\n",
    "    plt.figure(figsize=(8, 6))\n",
    "    sns.set(style=\"whitegrid\")\n",
    "    ax = sns.barplot(x='label', y='count', data=df2, hue='label')\n",
    "    for p in ax.patches:\n",
    "        label = p.get_height()  # 막대의 너비를 가져와서 count로 사용\n",
    "        count = p.get_x() + p.get_width() / 2  # 막대의 y 좌표를 가져와서 label로 사용\n",
    "        ax.annotate(f'{label}', (count, label), ha='center', va='center', fontsize=10, color='black')\n",
    "    plt.xlabel('label')\n",
    "    plt.ylabel('count')\n",
    "    plt.title('Count of Labels')\n",
    "    save_path = f'label/{data_name}_label2.png'\n",
    "    if not os.path.exists('label'):\n",
    "        os.makedirs('label')\n",
    "    if os.path.exists(save_path):\n",
    "        os.remove(save_path)\n",
    "    plt.savefig(save_path)\n",
    "except Exception as e:\n",
    "    print(e)"
   ]
  },
  {
   "cell_type": "code",
   "execution_count": null,
   "id": "b6f2a3ff-c98d-452c-88c7-299a32b1e583",
   "metadata": {},
   "outputs": [],
   "source": []
  }
 ],
 "metadata": {
  "kernelspec": {
   "display_name": "Python 3 (ipykernel)",
   "language": "python",
   "name": "python3"
  },
  "language_info": {
   "codemirror_mode": {
    "name": "ipython",
    "version": 3
   },
   "file_extension": ".py",
   "mimetype": "text/x-python",
   "name": "python",
   "nbconvert_exporter": "python",
   "pygments_lexer": "ipython3",
   "version": "3.9.15"
  }
 },
 "nbformat": 4,
 "nbformat_minor": 5
}
