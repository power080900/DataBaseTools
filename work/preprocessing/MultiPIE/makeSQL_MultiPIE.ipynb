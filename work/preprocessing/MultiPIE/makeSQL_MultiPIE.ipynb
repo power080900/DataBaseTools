{
 "cells": [
  {
   "cell_type": "code",
   "execution_count": 1,
   "id": "40583c73-983f-4585-92ba-c733725cdb2b",
   "metadata": {},
   "outputs": [
    {
     "ename": "ModuleNotFoundError",
     "evalue": "No module named 'utils'",
     "output_type": "error",
     "traceback": [
      "\u001b[1;31m---------------------------------------------------------------------------\u001b[0m",
      "\u001b[1;31mModuleNotFoundError\u001b[0m                       Traceback (most recent call last)",
      "Cell \u001b[1;32mIn[1], line 1\u001b[0m\n\u001b[1;32m----> 1\u001b[0m \u001b[38;5;28;01mimport\u001b[39;00m \u001b[38;5;21;01mutils\u001b[39;00m\n\u001b[0;32m      2\u001b[0m \u001b[38;5;28;01mimport\u001b[39;00m \u001b[38;5;21;01mjson\u001b[39;00m\n\u001b[0;32m      3\u001b[0m \u001b[38;5;28;01mimport\u001b[39;00m \u001b[38;5;21;01mxml\u001b[39;00m\u001b[38;5;21;01m.\u001b[39;00m\u001b[38;5;21;01metree\u001b[39;00m\u001b[38;5;21;01m.\u001b[39;00m\u001b[38;5;21;01mElementTree\u001b[39;00m \u001b[38;5;28;01mas\u001b[39;00m \u001b[38;5;21;01mET\u001b[39;00m\n",
      "\u001b[1;31mModuleNotFoundError\u001b[0m: No module named 'utils'"
     ]
    }
   ],
   "source": [
    "import utils\n",
    "import json\n",
    "import xml.etree.ElementTree as ET\n",
    "import cv2\n",
    "import glob\n",
    "import os\n",
    "import mysql.connector\n",
    "import pandas as pd\n",
    "from PIL import Image\n",
    "import csv\n",
    "import numpy as np\n",
    "import shutil\n",
    "import toml"
   ]
  },
  {
   "cell_type": "markdown",
   "id": "d9bd171b-84cb-4b89-b347-ceb916258a9b",
   "metadata": {
    "tags": []
   },
   "source": [
    "# SQL 작성"
   ]
  },
  {
   "cell_type": "code",
   "execution_count": 3,
   "id": "908519ca-1c10-4934-96a9-c9bd2aba61ca",
   "metadata": {
    "tags": []
   },
   "outputs": [],
   "source": [
    "import sys\n",
    "import os\n",
    "import pandas as pd\n",
    "import cv2\n",
    "from glob import glob\n",
    "sys.path.append('../../src')\n",
    "import DISData as DD"
   ]
  },
  {
   "cell_type": "markdown",
   "id": "25c9aa9c-1534-4a12-bce6-8724dcc05bcb",
   "metadata": {
    "tags": []
   },
   "source": [
    "## SQL 연결"
   ]
  },
  {
   "cell_type": "code",
   "execution_count": 4,
   "id": "f0be6464-7c79-4396-b683-1a09013c85aa",
   "metadata": {},
   "outputs": [
    {
     "name": "stdin",
     "output_type": "stream",
     "text": [
      "host:  192.168.0.201\n",
      "user:  diadmin\n",
      "password:  ········\n"
     ]
    },
    {
     "name": "stdout",
     "output_type": "stream",
     "text": [
      "SQL connection done\n"
     ]
    }
   ],
   "source": [
    "doUT = DD.SQL()"
   ]
  },
  {
   "cell_type": "markdown",
   "id": "c6cdd04a-3b3c-471f-9bd0-2e9179d52840",
   "metadata": {
    "tags": []
   },
   "source": [
    "## query 작성"
   ]
  },
  {
   "cell_type": "code",
   "execution_count": 2,
   "id": "a0e234f3-c24c-46ab-a1b5-c185c7f61dbb",
   "metadata": {
    "tags": []
   },
   "outputs": [],
   "source": [
    "query1 = (f'''CREATE TABLE IF NOT EXISTS MultiPIE_landmark_info(\n",
    "            id INT PRIMARY KEY AUTO_INCREMENT,\n",
    "            img_name VARCHAR(255) NOT NULL,\n",
    "            img_dir VARCHAR(1000) NOT NULL,\n",
    "            img_format VARCHAR(10) NOT NULL,\n",
    "            img_width INT NOT NULL,\n",
    "            img_height INT NOT NULL,\n",
    "            color_space VARCHAR(10) NOT NULL,\n",
    "            label_name VARCHAR(255) NOT NULL,\n",
    "            label_dir VARCHAR(1000) NOT NULL,\n",
    "            label_format VARCHAR(10) NOT NULL,\n",
    "            label VARCHAR(20) NOT NULL,\n",
    "            landmark VARCHAR(1000));''')"
   ]
  },
  {
   "cell_type": "code",
   "execution_count": 5,
   "id": "24f5d8d3-de40-4878-91f9-83b8499775af",
   "metadata": {},
   "outputs": [],
   "source": [
    "query2 = (f'''INSERT INTO MultiPIE_landmark_info \n",
    "        (img_name, img_dir, img_format, img_width, img_height, color_space,\n",
    "        label_name, label_dir, label_format, label,\n",
    "        landmark)\n",
    "        VALUES (%s, %s, %s, %s, %s, %s, %s, %s, %s, %s, %s)''')"
   ]
  },
  {
   "cell_type": "code",
   "execution_count": 6,
   "id": "3fde030a-d993-4d77-a46c-53837b409e84",
   "metadata": {},
   "outputs": [
    {
     "name": "stdout",
     "output_type": "stream",
     "text": [
      "create table done\n"
     ]
    }
   ],
   "source": [
    "try:\n",
    "    doUT.create_table(query1)\n",
    "except Exception as e:\n",
    "    print(f\"Error during table creation: {e}\")"
   ]
  },
  {
   "cell_type": "code",
   "execution_count": 8,
   "id": "36c2b89c-a713-44d8-823c-e04ae135f4c4",
   "metadata": {
    "scrolled": true,
    "tags": []
   },
   "outputs": [
    {
     "name": "stdout",
     "output_type": "stream",
     "text": [
      "landmark 18/318\n",
      "insert 500 done\n",
      "landmark 38/318\n",
      "insert 500 done\n",
      "landmark 55/318\n",
      "insert 500 done\n",
      "landmark 78/318\n",
      "insert 500 done\n",
      "landmark 104/318\n",
      "insert 500 done\n",
      "landmark 124/318\n",
      "insert 500 done\n",
      "landmark 146/318\n",
      "insert 500 done\n",
      "landmark 170/318\n",
      "insert 500 done\n",
      "landmark 195/318\n",
      "insert 500 done\n",
      "landmark 221/318\n",
      "insert 500 done\n",
      "landmark 245/318\n",
      "insert 500 done\n",
      "landmark 271/318\n",
      "insert 500 done\n",
      "landmark 307/318\n",
      "insert 500 done\n",
      "insert 165 done\n",
      "done\n"
     ]
    }
   ],
   "source": [
    "value_list1 = []\n",
    "error_list = []\n",
    "\n",
    "label_path = 'Z:\\\\MultiPIE\\\\data\\\\RGB\\\\labeldata'\n",
    "img_path = 'Z:\\\\MultiPIE\\\\data\\\\RGB\\\\rawdata'\n",
    "label_lists = os.listdir(label_path)\n",
    "\n",
    "for cnt, label_list in enumerate(label_lists):\n",
    "    label_files = os.listdir(os.path.join(label_path,label_list))\n",
    "    total_cnt = len(label_lists)\n",
    "    color_space = 'RGB'\n",
    "    for label_file in label_files:\n",
    "    \n",
    "        label_dir = os.path.join(label_path,label_list,label_file)\n",
    "        label_name, label_format = os.path.splitext(os.path.basename(label_file))\n",
    "        label_format = label_format.replace('.','')\n",
    "\n",
    "        # print(label_dir)\n",
    "        # print(img)\n",
    "        img_dir = label_dir.replace('pts','jpg').replace('label','raw')\n",
    "        # print(img_load)\n",
    "\n",
    "        img_name, img_format = os.path.splitext(os.path.basename(img_dir))\n",
    "        img_format = img_format.replace('.','')\n",
    "\n",
    "        # print(img_dir)\n",
    "        img = cv2.imread(img_dir)\n",
    "        img_width = img.shape[0]\n",
    "        img_height = img.shape[1]\n",
    "    \n",
    "    \n",
    "        with open(label_dir,'r',encoding='utf-8') as f:\n",
    "            config = f.readlines()\n",
    "        points = []\n",
    "        # print(config)\n",
    "        for point in config:\n",
    "\n",
    "            x,y = map(int,map(float,point.split(' ')))\n",
    "            points.append((x,y))\n",
    "        label = 'face_68'\n",
    "        landmark = \",\".join(map(str, [(int(float(x)), int(float(y))) for x,y in points]))\n",
    "        img_dir = img_dir.replace('Z:','DataBase')\n",
    "        label_dir = label_dir.replace('Z:','DataBase')\n",
    "        # print(landmark)\n",
    "        value = (img_name, img_dir, img_format, img_width, img_height, color_space,\n",
    "                label_name, label_dir, label_format, label, landmark)\n",
    "        value_list1.append(value)\n",
    "\n",
    "        # print(value)\n",
    "        if len(value_list1) >= 500:\n",
    "            \n",
    "            # print(value_list1[0])\n",
    "            print(f'landmark {cnt}/{total_cnt}')\n",
    "            doUT.insert_dataset_values(query2, value_list1)\n",
    "            value_list1 = []\n",
    "\n",
    "doUT.insert_dataset_values(query2, value_list1)\n",
    "# print(value_list2)\n",
    "value_list1 = []\n",
    "print('done')     "
   ]
  }
 ],
 "metadata": {
  "kernelspec": {
   "display_name": "Python 3 (ipykernel)",
   "language": "python",
   "name": "python3"
  },
  "language_info": {
   "codemirror_mode": {
    "name": "ipython",
    "version": 3
   },
   "file_extension": ".py",
   "mimetype": "text/x-python",
   "name": "python",
   "nbconvert_exporter": "python",
   "pygments_lexer": "ipython3",
   "version": "3.9.19"
  }
 },
 "nbformat": 4,
 "nbformat_minor": 5
}
