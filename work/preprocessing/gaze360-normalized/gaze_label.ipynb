{
 "cells": [
  {
   "cell_type": "code",
   "execution_count": 34,
   "id": "21253a3c-c5eb-4795-8dbe-814df667c9e2",
   "metadata": {},
   "outputs": [],
   "source": [
    "from glob import glob\n",
    "import os\n",
    "import pandas as pd\n",
    "import cv2\n",
    "import numpy as np\n",
    "import math"
   ]
  },
  {
   "cell_type": "code",
   "execution_count": 2,
   "id": "15986cd9-93c0-4480-a38e-cf2564a95500",
   "metadata": {},
   "outputs": [],
   "source": [
    "data_dir = glob(os.path.join(os.getcwd() ,\"*\",\"*.label\"))"
   ]
  },
  {
   "cell_type": "code",
   "execution_count": 48,
   "id": "439a82db-8d59-4501-b8b6-99b28099b20f",
   "metadata": {
    "scrolled": true,
    "tags": []
   },
   "outputs": [
    {
     "name": "stdout",
     "output_type": "stream",
     "text": [
      "0.057788951913994094 0.453840661720333 -0.8892070011003808 0.0578211653218471 0.4719235019200505\n",
      "0.03647324757607226 0.18733167211863525 -0.9816193492553469 0.03648133913432382 0.18857199916990577\n",
      "0.05549967393862594 0.37638646434109224 -0.9247989055213669 0.05552820531390389 0.3865200500376083\n",
      "0.029490498088629843 0.28635505694592134 -0.9576696152034806 0.02949477435838245 0.29055046160297676\n",
      "-0.38593671970246585 0.6257810692361899 -0.6778280768534976 -0.39622299367145264 0.7454940407952673\n",
      "-0.2930397465874103 0.21119873092413663 -0.9324820657664257 -0.2974046133801043 0.2227330777238652\n",
      "-0.26221736852899524 -0.022174965266887222 -0.964754021788529 -0.2653192582390624 -0.022981051007281435\n",
      "-0.2638127624872678 0.013473123310216703 -0.9644798086518473 -0.266972873353006 0.013968407531347966\n",
      "-0.12964845241024991 0.3161872829071495 -0.9397961911581795 -0.13001443157925466 0.3245460966287697\n",
      "-0.12656643570017742 0.3189012155343011 -0.9392991813500629 -0.12690680766267312 0.32729897748259296\n",
      "-0.12337514438243963 0.3375142848426583 -0.9332002364314751 -0.12369029882968618 0.3470367511683516\n",
      "-0.12425238919897706 0.34686073787749744 -0.9296499192155205 -0.12457434600121921 0.357111764386557\n",
      "-0.11373909145865736 0.6870240119165879 -0.7176778010529483 -0.11398576265448834 0.7635793515003421\n",
      "-0.09925394404514344 0.7746549658090275 -0.6245465063058938 -0.099417634894956 0.892270922305995\n",
      "-0.10439991778649371 0.7727516763663365 -0.6260634982485324 -0.1045905024516422 0.8898822988228132\n",
      "-0.10691072350516183 0.6842733176790253 -0.7213460500426565 -0.10711544141704658 0.7590296168408229\n"
     ]
    }
   ],
   "source": [
    "vector_length = 100\n",
    "\n",
    "for i in data_dir:\n",
    "    with open(i,'r') as f:\n",
    "        head = f.readline()\n",
    "    head = head.replace('\\n','').split(' ')\n",
    "    \n",
    "    df = pd.DataFrame(columns=head)\n",
    "    \n",
    "    with open(i,'r') as f:\n",
    "        texts = f.read()\n",
    "    \n",
    "    texts = texts.split('\\n')\n",
    "    \n",
    "    for text in texts[1:5]:\n",
    "        text = text.split(' ')\n",
    "        # print(text)\n",
    "        for num, i in enumerate(text[:6]):\n",
    "            # print(num,i)\n",
    "            if num % 6 == 0:\n",
    "                face = i\n",
    "            elif num % 6 == 4:\n",
    "                y3d,x3d,z3d = map(float,i.split(','))\n",
    "            elif num % 6 == 5:\n",
    "                y2d,x2d = map(float,i.split(','))\n",
    "                \n",
    "                print(x3d,y3d,z3d,x2d,y2d)\n",
    "                gaze_3d = np.array([x3d,y3d,z3d])\n",
    "                gaze_2d = gaze_3d[:2] / np.linalg.norm(gaze_3d[:2])\n",
    "                \n",
    "                img_dir = os.path.join(os.getcwd(),'image',face.replace('/','\\\\'))\n",
    "                img = cv2.imread(img_dir)\n",
    "                h, w, _ = img.shape\n",
    "                center_x = int(w / 2)\n",
    "                center_y = int(h / 2)\n",
    "                start_point = (center_x, center_y)\n",
    "                end_point = (int(center_x + gaze_2d[0] * 50), int(center_y + gaze_2d[1] * 50))\n",
    "                \n",
    "                cv2.arrowedLine(img, start_point, end_point, (0,0,255), 2)\n",
    "\n",
    "                # 이미지 화면에 표시\n",
    "                cv2.imshow(\"Image with Gaze Point\", img)\n",
    "                cv2.waitKey(0)  # 키 입력 대기\n",
    "                cv2.destroyAllWindows()"
   ]
  },
  {
   "cell_type": "code",
   "execution_count": null,
   "id": "1dc2bc77-b1cb-4a99-99cb-4551d9e09a93",
   "metadata": {},
   "outputs": [],
   "source": []
  }
 ],
 "metadata": {
  "kernelspec": {
   "display_name": "Python 3 (ipykernel)",
   "language": "python",
   "name": "python3"
  },
  "language_info": {
   "codemirror_mode": {
    "name": "ipython",
    "version": 3
   },
   "file_extension": ".py",
   "mimetype": "text/x-python",
   "name": "python",
   "nbconvert_exporter": "python",
   "pygments_lexer": "ipython3",
   "version": "3.9.15"
  }
 },
 "nbformat": 4,
 "nbformat_minor": 5
}
