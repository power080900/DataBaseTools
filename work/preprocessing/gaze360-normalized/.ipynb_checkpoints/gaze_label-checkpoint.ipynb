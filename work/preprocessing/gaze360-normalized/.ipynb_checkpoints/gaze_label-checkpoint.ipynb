{
 "cells": [
  {
   "cell_type": "code",
   "execution_count": 34,
   "id": "21253a3c-c5eb-4795-8dbe-814df667c9e2",
   "metadata": {},
   "outputs": [],
   "source": [
    "from glob import glob\n",
    "import os\n",
    "import pandas as pd\n",
    "import cv2\n",
    "import numpy as np\n",
    "import math"
   ]
  },
  {
   "cell_type": "code",
   "execution_count": 2,
   "id": "15986cd9-93c0-4480-a38e-cf2564a95500",
   "metadata": {},
   "outputs": [],
   "source": [
    "data_dir = glob(os.path.join(os.getcwd() ,\"*\",\"*.label\"))"
   ]
  },
  {
   "cell_type": "code",
   "execution_count": 35,
   "id": "439a82db-8d59-4501-b8b6-99b28099b20f",
   "metadata": {
    "scrolled": true,
    "tags": []
   },
   "outputs": [
    {
     "name": "stdout",
     "output_type": "stream",
     "text": [
      "Gaze Angle (degrees): 62.77409826660489\n"
     ]
    },
    {
     "ename": "NameError",
     "evalue": "name 'gaze_angle_degrees' is not defined",
     "output_type": "error",
     "traceback": [
      "\u001b[1;31m---------------------------------------------------------------------------\u001b[0m",
      "\u001b[1;31mNameError\u001b[0m                                 Traceback (most recent call last)",
      "Cell \u001b[1;32mIn[35], line 41\u001b[0m\n\u001b[0;32m     39\u001b[0m center_x \u001b[38;5;241m=\u001b[39m \u001b[38;5;28mint\u001b[39m(w \u001b[38;5;241m/\u001b[39m \u001b[38;5;241m2\u001b[39m)\n\u001b[0;32m     40\u001b[0m center_y \u001b[38;5;241m=\u001b[39m \u001b[38;5;28mint\u001b[39m(h \u001b[38;5;241m/\u001b[39m \u001b[38;5;241m2\u001b[39m)\n\u001b[1;32m---> 41\u001b[0m end_x \u001b[38;5;241m=\u001b[39m \u001b[38;5;28mint\u001b[39m(center_x \u001b[38;5;241m+\u001b[39m vector_length \u001b[38;5;241m*\u001b[39m math\u001b[38;5;241m.\u001b[39mcos(math\u001b[38;5;241m.\u001b[39mradians(\u001b[43mgaze_angle_degrees\u001b[49m)))\n\u001b[0;32m     42\u001b[0m end_y \u001b[38;5;241m=\u001b[39m \u001b[38;5;28mint\u001b[39m(center_y \u001b[38;5;241m-\u001b[39m vector_length \u001b[38;5;241m*\u001b[39m math\u001b[38;5;241m.\u001b[39msin(math\u001b[38;5;241m.\u001b[39mradians(gaze_angle_degrees)))\n\u001b[0;32m     44\u001b[0m v2\u001b[38;5;241m.\u001b[39mline(image, (center_x, center_y), (end_x, end_y), (\u001b[38;5;241m0\u001b[39m,\u001b[38;5;241m0\u001b[39m,\u001b[38;5;241m255\u001b[39m), \u001b[38;5;241m2\u001b[39m)  \u001b[38;5;66;03m# -1은 원 안을 채우도록 설정\u001b[39;00m\n",
      "\u001b[1;31mNameError\u001b[0m: name 'gaze_angle_degrees' is not defined"
     ]
    }
   ],
   "source": [
    "vector_length = 100\n",
    "\n",
    "for i in data_dir:\n",
    "    with open(i,'r') as f:\n",
    "        head = f.readline()\n",
    "    head = head.replace('\\n','').split(' ')\n",
    "    \n",
    "    df = pd.DataFrame(columns=head)\n",
    "    \n",
    "    with open(i,'r') as f:\n",
    "        texts = f.read()\n",
    "    \n",
    "    texts = texts.split('\\n')\n",
    "    \n",
    "    for text in texts[1:5]:\n",
    "        text = text.split(' ')\n",
    "        # print(text)\n",
    "        for num, i in enumerate(text[:6]):\n",
    "            # print(num,i)\n",
    "            if num % 6 == 0:\n",
    "                face = i\n",
    "            elif num % 6 == 4:\n",
    "                x3d,y3d,z3d = map(float,i.split(','))\n",
    "            elif num % 6 == 5:\n",
    "                x2d,y2d = map(float,i.split(','))\n",
    "                \n",
    "                magnitude_3d = np.sqrt(x3d**2 + y3d**2 + z3d**2)\n",
    "                magnitude_2d = np.sqrt(x2d**2 + y2d**2)\n",
    "                dot_product = x3d*x2d + y3d*y2d + z3d*0\n",
    "                cosine_similarity = dot_product / (magnitude_3d * magnitude_2d)\n",
    "                angle_radians = np.arccos(cosine_similarity)\n",
    "                \n",
    "                angle_degrees = np.degrees(angle_radians)\n",
    "                print(\"Gaze Angle (degrees):\", angle_degrees)\n",
    "                \n",
    "                img_dir = os.path.join(os.getcwd(),'image',face.replace('/','\\\\'))\n",
    "                img = cv2.imread(img_dir)\n",
    "                h, w, _ = img.shape\n",
    "                center_x = int(w / 2)\n",
    "                center_y = int(h / 2)\n",
    "                end_x = int(center_x + vector_length * math.cos(math.radians(angle_degrees)))\n",
    "                end_y = int(center_y - vector_length * math.sin(math.radians(angle_degrees)))\n",
    "                \n",
    "                v2.line(image, (center_x, center_y), (end_x, end_y), (0,0,255), 2)  # -1은 원 안을 채우도록 설정\n",
    "\n",
    "                # 이미지 화면에 표시\n",
    "                cv2.imshow(\"Image with Gaze Point\", img)\n",
    "                cv2.waitKey(0)  # 키 입력 대기\n",
    "                cv2.destroyAllWindows()"
   ]
  },
  {
   "cell_type": "code",
   "execution_count": null,
   "id": "1dc2bc77-b1cb-4a99-99cb-4551d9e09a93",
   "metadata": {},
   "outputs": [],
   "source": []
  }
 ],
 "metadata": {
  "kernelspec": {
   "display_name": "Python 3 (ipykernel)",
   "language": "python",
   "name": "python3"
  },
  "language_info": {
   "codemirror_mode": {
    "name": "ipython",
    "version": 3
   },
   "file_extension": ".py",
   "mimetype": "text/x-python",
   "name": "python",
   "nbconvert_exporter": "python",
   "pygments_lexer": "ipython3",
   "version": "3.9.15"
  }
 },
 "nbformat": 4,
 "nbformat_minor": 5
}
