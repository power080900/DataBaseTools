{
 "cells": [
  {
   "cell_type": "markdown",
   "metadata": {},
   "source": [
    "# SQL 작성"
   ]
  },
  {
   "cell_type": "code",
   "execution_count": 1,
   "metadata": {},
   "outputs": [],
   "source": [
    "import sys\n",
    "import os\n",
    "import pandas as pd\n",
    "import cv2\n",
    "import xml.etree.ElementTree as ET\n",
    "sys.path.append('../../src')\n",
    "import DISData as DD"
   ]
  },
  {
   "cell_type": "markdown",
   "metadata": {},
   "source": [
    "## SQL 연결"
   ]
  },
  {
   "cell_type": "code",
   "execution_count": 2,
   "metadata": {},
   "outputs": [
    {
     "name": "stdin",
     "output_type": "stream",
     "text": [
      "host:  192.168.0.201\n",
      "user:  diadmin\n",
      "password:  ········\n"
     ]
    },
    {
     "name": "stdout",
     "output_type": "stream",
     "text": [
      "SQL connection done\n"
     ]
    }
   ],
   "source": [
    "doUT = DD.SQL()"
   ]
  },
  {
   "cell_type": "markdown",
   "metadata": {},
   "source": [
    "## query 작성"
   ]
  },
  {
   "cell_type": "code",
   "execution_count": 3,
   "metadata": {},
   "outputs": [],
   "source": [
    "query1 = (f'''CREATE TABLE IF NOT EXISTS robo_Anti_spoof_info (\n",
    "        id INT(11) NOT NULL AUTO_INCREMENT primary key,\n",
    "        img_dir VARCHAR(300) NOT NULL,\n",
    "        img_format VARCHAR(10) NOT NULL,\n",
    "        img_width INT(11) NOT NULL,\n",
    "        img_height INT(11) NOT NULL,\n",
    "        color_space VARCHAR(10) NOT NULL,\n",
    "        label_dir VARCHAR(300) NOT NULL,\n",
    "        label_format VARCHAR(10) NOT NULL,\n",
    "        label VARCHAR(10) NOT NULL,\n",
    "        label_id INT(10) NOT NULL,\n",
    "        box_xtl INT(10) NOT NULL,\n",
    "        box_ytl INT(10) NOT NULL,\n",
    "        box_w INT(10) NOT NULL,\n",
    "        box_h INT(10) NOT NULL)''')"
   ]
  },
  {
   "cell_type": "code",
   "execution_count": 4,
   "metadata": {},
   "outputs": [],
   "source": [
    "query2 = (f'''INSERT INTO robo_Anti_spoof_info\n",
    "        (img_dir, img_format, img_width, img_height, color_space,\n",
    "        label_dir, label_format, label, label_id, box_xtl, \n",
    "        box_ytl, box_w, box_h) VALUES \n",
    "          (%s, %s, %s, %s, %s,  %s, %s, %s, %s, %s,  %s, %s, %s)''')"
   ]
  },
  {
   "cell_type": "markdown",
   "metadata": {},
   "source": [
    "## qurey 실행"
   ]
  },
  {
   "cell_type": "code",
   "execution_count": 5,
   "metadata": {},
   "outputs": [
    {
     "name": "stdout",
     "output_type": "stream",
     "text": [
      "create table done\n"
     ]
    }
   ],
   "source": [
    "try:\n",
    "    doUT.create_table(query1)\n",
    "except Exception as e:\n",
    "    print(f\"Error during table creation: {e}\")"
   ]
  },
  {
   "cell_type": "code",
   "execution_count": 6,
   "metadata": {
    "scrolled": true,
    "tags": []
   },
   "outputs": [
    {
     "name": "stdout",
     "output_type": "stream",
     "text": [
      "('DataBase\\\\robo_Anti_spoof\\\\data\\\\RGB\\\\rawdata\\\\live\\\\11\\\\real_11_20_jpg.rf.6090a980c933645eb26d7f3e2f1d43fd.jpg', 'jpg', 602, 602, 'RGB', 'DataBase\\\\robo_Anti_spoof\\\\data\\\\RGB\\\\labeldata\\\\live\\\\11\\\\real_11_20_jpg.rf.6090a980c933645eb26d7f3e2f1d43fd.xml', 'xml', 'live', '11', 113, 1, 346, 471)\n",
      "insert 300 done\n",
      "0 2\n",
      "('DataBase\\\\robo_Anti_spoof\\\\data\\\\RGB\\\\rawdata\\\\live\\\\11\\\\real_11_77_jpg.rf.f7d4051a58eff5ff076d3affd908ecfd.jpg', 'jpg', 640, 640, 'RGB', 'DataBase\\\\robo_Anti_spoof\\\\data\\\\RGB\\\\labeldata\\\\live\\\\11\\\\real_11_77_jpg.rf.f7d4051a58eff5ff076d3affd908ecfd.xml', 'xml', 'live', '11', 160, 148, 297, 421)\n",
      "insert 300 done\n",
      "0 2\n",
      "('DataBase\\\\robo_Anti_spoof\\\\data\\\\RGB\\\\rawdata\\\\live\\\\12\\\\real_12_413_jpg.rf.bd515b96d30136568f5e5f9b290f38a6.jpg', 'jpg', 606, 606, 'RGB', 'DataBase\\\\robo_Anti_spoof\\\\data\\\\RGB\\\\labeldata\\\\live\\\\12\\\\real_12_413_jpg.rf.bd515b96d30136568f5e5f9b290f38a6.xml', 'xml', 'live', '12', 199, 93, 249, 352)\n",
      "insert 300 done\n",
      "0 2\n",
      "('DataBase\\\\robo_Anti_spoof\\\\data\\\\RGB\\\\rawdata\\\\live\\\\13\\\\real_13_319_jpg.rf.a3235d700dd4042febab5db12699febf.jpg', 'jpg', 572, 572, 'RGB', 'DataBase\\\\robo_Anti_spoof\\\\data\\\\RGB\\\\labeldata\\\\live\\\\13\\\\real_13_319_jpg.rf.a3235d700dd4042febab5db12699febf.xml', 'xml', 'live', '13', 93, 95, 355, 478)\n",
      "insert 300 done\n",
      "0 2\n",
      "('DataBase\\\\robo_Anti_spoof\\\\data\\\\RGB\\\\rawdata\\\\live\\\\15\\\\real_15_110_jpg.rf.8437a7adb9ac1237bf14b0ecfe9d50a7.jpg', 'jpg', 596, 596, 'RGB', 'DataBase\\\\robo_Anti_spoof\\\\data\\\\RGB\\\\labeldata\\\\live\\\\15\\\\real_15_110_jpg.rf.8437a7adb9ac1237bf14b0ecfe9d50a7.xml', 'xml', 'live', '15', 232, 94, 213, 301)\n",
      "insert 300 done\n",
      "0 2\n",
      "('DataBase\\\\robo_Anti_spoof\\\\data\\\\RGB\\\\rawdata\\\\live\\\\2\\\\real_2_389_jpg.rf.7e04bc018711d3bf3e8e30c5d602ffbf.jpg', 'jpg', 636, 636, 'RGB', 'DataBase\\\\robo_Anti_spoof\\\\data\\\\RGB\\\\labeldata\\\\live\\\\2\\\\real_2_389_jpg.rf.7e04bc018711d3bf3e8e30c5d602ffbf.xml', 'xml', 'live', '2', 197, 154, 213, 302)\n",
      "insert 300 done\n",
      "0 2\n",
      "('DataBase\\\\robo_Anti_spoof\\\\data\\\\RGB\\\\rawdata\\\\live\\\\3\\\\real_3_433_jpg.rf.93616b41749433a810828a3da98ef320.jpg', 'jpg', 616, 616, 'RGB', 'DataBase\\\\robo_Anti_spoof\\\\data\\\\RGB\\\\labeldata\\\\live\\\\3\\\\real_3_433_jpg.rf.93616b41749433a810828a3da98ef320.xml', 'xml', 'live', '3', 213, 118, 281, 330)\n",
      "insert 300 done\n",
      "0 2\n",
      "('DataBase\\\\robo_Anti_spoof\\\\data\\\\RGB\\\\rawdata\\\\live\\\\4\\\\real_4_152_jpg.rf.96cc3d83c57fa10f4bdf6adf2877a0b4.jpg', 'jpg', 622, 622, 'RGB', 'DataBase\\\\robo_Anti_spoof\\\\data\\\\RGB\\\\labeldata\\\\live\\\\4\\\\real_4_152_jpg.rf.96cc3d83c57fa10f4bdf6adf2877a0b4.xml', 'xml', 'live', '4', 181, 175, 260, 369)\n",
      "insert 300 done\n",
      "0 2\n",
      "('DataBase\\\\robo_Anti_spoof\\\\data\\\\RGB\\\\rawdata\\\\live\\\\4\\\\real_4_50_jpg.rf.fdb1d689ef9a4aee73b64465da06aa5f.jpg', 'jpg', 626, 626, 'RGB', 'DataBase\\\\robo_Anti_spoof\\\\data\\\\RGB\\\\labeldata\\\\live\\\\4\\\\real_4_50_jpg.rf.fdb1d689ef9a4aee73b64465da06aa5f.xml', 'xml', 'live', '4', 170, 129, 294, 416)\n",
      "insert 300 done\n",
      "0 2\n",
      "('DataBase\\\\robo_Anti_spoof\\\\data\\\\RGB\\\\rawdata\\\\live\\\\5\\\\real_5_44_jpg.rf.822331931c0098d5d65e103fd4dd8514.jpg', 'jpg', 620, 620, 'RGB', 'DataBase\\\\robo_Anti_spoof\\\\data\\\\RGB\\\\labeldata\\\\live\\\\5\\\\real_5_44_jpg.rf.822331931c0098d5d65e103fd4dd8514.xml', 'xml', 'live', '5', 165, 91, 240, 340)\n",
      "insert 300 done\n",
      "0 2\n",
      "('DataBase\\\\robo_Anti_spoof\\\\data\\\\RGB\\\\rawdata\\\\live\\\\8\\\\real_8_18_jpg.rf.8336cb1225562312856ea0a65a42c862.jpg', 'jpg', 590, 590, 'RGB', 'DataBase\\\\robo_Anti_spoof\\\\data\\\\RGB\\\\labeldata\\\\live\\\\8\\\\real_8_18_jpg.rf.8336cb1225562312856ea0a65a42c862.xml', 'xml', 'live', '8', 102, 58, 294, 417)\n",
      "insert 300 done\n",
      "0 2\n",
      "('DataBase\\\\robo_Anti_spoof\\\\data\\\\RGB\\\\rawdata\\\\spoof\\\\12\\\\fake_12_149_jpg.rf.d50c30e8d494a8075d4d3203836b7984.jpg', 'jpg', 600, 600, 'RGB', 'DataBase\\\\robo_Anti_spoof\\\\data\\\\RGB\\\\labeldata\\\\spoof\\\\12\\\\fake_12_149_jpg.rf.d50c30e8d494a8075d4d3203836b7984.xml', 'xml', 'spoof', '12', 201, 173, 134, 190)\n",
      "insert 300 done\n",
      "1 2\n",
      "('DataBase\\\\robo_Anti_spoof\\\\data\\\\RGB\\\\rawdata\\\\spoof\\\\14\\\\fake_14_10_317_jpg.rf.77b142de2b773b3b43886a8b058ed727.jpg', 'jpg', 640, 640, 'RGB', 'DataBase\\\\robo_Anti_spoof\\\\data\\\\RGB\\\\labeldata\\\\spoof\\\\14\\\\fake_14_10_317_jpg.rf.77b142de2b773b3b43886a8b058ed727.xml', 'xml', 'spoof', '14', 293, 259, 118, 167)\n",
      "insert 300 done\n",
      "1 2\n",
      "('DataBase\\\\robo_Anti_spoof\\\\data\\\\RGB\\\\rawdata\\\\spoof\\\\14\\\\fake_14_11_429_jpg.rf.6ac83805d2424315d80d2acc021745c9.jpg', 'jpg', 640, 640, 'RGB', 'DataBase\\\\robo_Anti_spoof\\\\data\\\\RGB\\\\labeldata\\\\spoof\\\\14\\\\fake_14_11_429_jpg.rf.6ac83805d2424315d80d2acc021745c9.xml', 'xml', 'spoof', '14', 194, 181, 208, 295)\n",
      "insert 300 done\n",
      "1 2\n",
      "('DataBase\\\\robo_Anti_spoof\\\\data\\\\RGB\\\\rawdata\\\\spoof\\\\14\\\\fake_14_12_1276_jpg.rf.b5f92a0791c361c671a6e02afbf7d18f.jpg', 'jpg', 590, 590, 'RGB', 'DataBase\\\\robo_Anti_spoof\\\\data\\\\RGB\\\\labeldata\\\\spoof\\\\14\\\\fake_14_12_1276_jpg.rf.b5f92a0791c361c671a6e02afbf7d18f.xml', 'xml', 'spoof', '14', 95, 175, 234, 416)\n",
      "insert 300 done\n",
      "1 2\n",
      "('DataBase\\\\robo_Anti_spoof\\\\data\\\\RGB\\\\rawdata\\\\spoof\\\\14\\\\fake_14_12_1863_jpg.rf.18019981f16d2249b6284ec72701f739.jpg', 'jpg', 640, 640, 'RGB', 'DataBase\\\\robo_Anti_spoof\\\\data\\\\RGB\\\\labeldata\\\\spoof\\\\14\\\\fake_14_12_1863_jpg.rf.18019981f16d2249b6284ec72701f739.xml', 'xml', 'spoof', '14', 141, 152, 319, 452)\n",
      "insert 300 done\n",
      "1 2\n",
      "('DataBase\\\\robo_Anti_spoof\\\\data\\\\RGB\\\\rawdata\\\\spoof\\\\14\\\\fake_14_12_2676_jpg.rf.1a47e926ed1a55af6c81592e8c3913d3.jpg', 'jpg', 630, 630, 'RGB', 'DataBase\\\\robo_Anti_spoof\\\\data\\\\RGB\\\\labeldata\\\\spoof\\\\14\\\\fake_14_12_2676_jpg.rf.1a47e926ed1a55af6c81592e8c3913d3.xml', 'xml', 'spoof', '14', 213, 150, 261, 370)\n",
      "insert 300 done\n",
      "1 2\n",
      "('DataBase\\\\robo_Anti_spoof\\\\data\\\\RGB\\\\rawdata\\\\spoof\\\\14\\\\fake_14_13_1008_jpg.rf.4f29a1a6e22bb852d10d65c092d642a8.jpg', 'jpg', 640, 640, 'RGB', 'DataBase\\\\robo_Anti_spoof\\\\data\\\\RGB\\\\labeldata\\\\spoof\\\\14\\\\fake_14_13_1008_jpg.rf.4f29a1a6e22bb852d10d65c092d642a8.xml', 'xml', 'spoof', '14', 242, 201, 172, 244)\n",
      "insert 300 done\n",
      "1 2\n",
      "('DataBase\\\\robo_Anti_spoof\\\\data\\\\RGB\\\\rawdata\\\\spoof\\\\14\\\\fake_14_13_3407_jpg.rf.2f9affc470ec1d11b83a3e83031ccfc5.jpg', 'jpg', 606, 606, 'RGB', 'DataBase\\\\robo_Anti_spoof\\\\data\\\\RGB\\\\labeldata\\\\spoof\\\\14\\\\fake_14_13_3407_jpg.rf.2f9affc470ec1d11b83a3e83031ccfc5.xml', 'xml', 'spoof', '14', 255, 164, 151, 215)\n",
      "insert 300 done\n",
      "1 2\n",
      "('DataBase\\\\robo_Anti_spoof\\\\data\\\\RGB\\\\rawdata\\\\spoof\\\\14\\\\fake_14_13_5698_jpg.rf.d153396574ed480f754627f2f1e8cf50.jpg', 'jpg', 640, 640, 'RGB', 'DataBase\\\\robo_Anti_spoof\\\\data\\\\RGB\\\\labeldata\\\\spoof\\\\14\\\\fake_14_13_5698_jpg.rf.d153396574ed480f754627f2f1e8cf50.xml', 'xml', 'spoof', '14', 207, 131, 227, 323)\n",
      "insert 300 done\n",
      "1 2\n",
      "('DataBase\\\\robo_Anti_spoof\\\\data\\\\RGB\\\\rawdata\\\\spoof\\\\14\\\\fake_14_14_324_jpg.rf.4bfad50d53d36dc51aea2595fd00175c.jpg', 'jpg', 620, 620, 'RGB', 'DataBase\\\\robo_Anti_spoof\\\\data\\\\RGB\\\\labeldata\\\\spoof\\\\14\\\\fake_14_14_324_jpg.rf.4bfad50d53d36dc51aea2595fd00175c.xml', 'xml', 'spoof', '14', 223, 206, 195, 276)\n",
      "insert 300 done\n",
      "1 2\n",
      "('DataBase\\\\robo_Anti_spoof\\\\data\\\\RGB\\\\rawdata\\\\spoof\\\\14\\\\fake_14_1_1118_jpg.rf.d8bcfba839f4a37541dc538b05c5c88f.jpg', 'jpg', 640, 640, 'RGB', 'DataBase\\\\robo_Anti_spoof\\\\data\\\\RGB\\\\labeldata\\\\spoof\\\\14\\\\fake_14_1_1118_jpg.rf.d8bcfba839f4a37541dc538b05c5c88f.xml', 'xml', 'spoof', '14', 218, 204, 165, 234)\n",
      "insert 300 done\n",
      "1 2\n",
      "('DataBase\\\\robo_Anti_spoof\\\\data\\\\RGB\\\\rawdata\\\\spoof\\\\14\\\\fake_14_1_1790_jpg.rf.8f5403c49551c034fdc83dbfbb8968ff.jpg', 'jpg', 582, 582, 'RGB', 'DataBase\\\\robo_Anti_spoof\\\\data\\\\RGB\\\\labeldata\\\\spoof\\\\14\\\\fake_14_1_1790_jpg.rf.8f5403c49551c034fdc83dbfbb8968ff.xml', 'xml', 'spoof', '14', 269, 146, 141, 200)\n",
      "insert 300 done\n",
      "1 2\n",
      "('DataBase\\\\robo_Anti_spoof\\\\data\\\\RGB\\\\rawdata\\\\spoof\\\\14\\\\fake_14_1_695_jpg.rf.0da9cfaacd91bfe8128e3f2ac82727cc.jpg', 'jpg', 640, 640, 'RGB', 'DataBase\\\\robo_Anti_spoof\\\\data\\\\RGB\\\\labeldata\\\\spoof\\\\14\\\\fake_14_1_695_jpg.rf.0da9cfaacd91bfe8128e3f2ac82727cc.xml', 'xml', 'spoof', '14', 194, 81, 229, 325)\n",
      "insert 300 done\n",
      "1 2\n",
      "('DataBase\\\\robo_Anti_spoof\\\\data\\\\RGB\\\\rawdata\\\\spoof\\\\14\\\\fake_14_2_399_jpg.rf.c28f99380d1d8007b534864351214bad.jpg', 'jpg', 620, 620, 'RGB', 'DataBase\\\\robo_Anti_spoof\\\\data\\\\RGB\\\\labeldata\\\\spoof\\\\14\\\\fake_14_2_399_jpg.rf.c28f99380d1d8007b534864351214bad.xml', 'xml', 'spoof', '14', 139, 8, 361, 608)\n",
      "insert 300 done\n",
      "1 2\n",
      "('DataBase\\\\robo_Anti_spoof\\\\data\\\\RGB\\\\rawdata\\\\spoof\\\\14\\\\fake_14_3_209_jpg.rf.df9897d399d70f688fed516cde145ee1.jpg', 'jpg', 640, 640, 'RGB', 'DataBase\\\\robo_Anti_spoof\\\\data\\\\RGB\\\\labeldata\\\\spoof\\\\14\\\\fake_14_3_209_jpg.rf.df9897d399d70f688fed516cde145ee1.xml', 'xml', 'spoof', '14', 245, 183, 218, 310)\n",
      "insert 300 done\n",
      "1 2\n",
      "('DataBase\\\\robo_Anti_spoof\\\\data\\\\RGB\\\\rawdata\\\\spoof\\\\14\\\\fake_14_3_779_jpg.rf.430ff0bb37ba6ac0298e58016eb96eef.jpg', 'jpg', 626, 626, 'RGB', 'DataBase\\\\robo_Anti_spoof\\\\data\\\\RGB\\\\labeldata\\\\spoof\\\\14\\\\fake_14_3_779_jpg.rf.430ff0bb37ba6ac0298e58016eb96eef.xml', 'xml', 'spoof', '14', 211, 164, 213, 302)\n",
      "insert 300 done\n",
      "1 2\n",
      "('DataBase\\\\robo_Anti_spoof\\\\data\\\\RGB\\\\rawdata\\\\spoof\\\\14\\\\fake_14_5_16_jpg.rf.56f99a52d0460321af4297c9c232ddfc.jpg', 'jpg', 610, 610, 'RGB', 'DataBase\\\\robo_Anti_spoof\\\\data\\\\RGB\\\\labeldata\\\\spoof\\\\14\\\\fake_14_5_16_jpg.rf.56f99a52d0460321af4297c9c232ddfc.xml', 'xml', 'spoof', '14', 247, 294, 106, 150)\n",
      "insert 300 done\n",
      "1 2\n",
      "('DataBase\\\\robo_Anti_spoof\\\\data\\\\RGB\\\\rawdata\\\\spoof\\\\14\\\\fake_14_6_99_jpg.rf.1fcf887e41e25b5b7009a698a131f4a1.jpg', 'jpg', 640, 640, 'RGB', 'DataBase\\\\robo_Anti_spoof\\\\data\\\\RGB\\\\labeldata\\\\spoof\\\\14\\\\fake_14_6_99_jpg.rf.1fcf887e41e25b5b7009a698a131f4a1.xml', 'xml', 'spoof', '14', 223, 243, 132, 187)\n",
      "insert 300 done\n",
      "1 2\n",
      "('DataBase\\\\robo_Anti_spoof\\\\data\\\\RGB\\\\rawdata\\\\spoof\\\\14\\\\fake_14_8_19_jpg.rf.74c4aa18b5a422e09297b4713e1338fe.jpg', 'jpg', 640, 640, 'RGB', 'DataBase\\\\robo_Anti_spoof\\\\data\\\\RGB\\\\labeldata\\\\spoof\\\\14\\\\fake_14_8_19_jpg.rf.74c4aa18b5a422e09297b4713e1338fe.xml', 'xml', 'spoof', '14', 251, 345, 132, 187)\n",
      "insert 300 done\n",
      "1 2\n",
      "('DataBase\\\\robo_Anti_spoof\\\\data\\\\RGB\\\\rawdata\\\\spoof\\\\2\\\\fake_2_154_jpg.rf.0d27e1512b3dccf88c417db5ce25a66e.jpg', 'jpg', 640, 640, 'RGB', 'DataBase\\\\robo_Anti_spoof\\\\data\\\\RGB\\\\labeldata\\\\spoof\\\\2\\\\fake_2_154_jpg.rf.0d27e1512b3dccf88c417db5ce25a66e.xml', 'xml', 'spoof', '2', 241, 209, 108, 153)\n",
      "insert 300 done\n",
      "1 2\n",
      "('DataBase\\\\robo_Anti_spoof\\\\data\\\\RGB\\\\rawdata\\\\spoof\\\\3\\\\fake_3_718_jpg.rf.f93b2fece462b30a4612e2a07127c39b.jpg', 'jpg', 640, 640, 'RGB', 'DataBase\\\\robo_Anti_spoof\\\\data\\\\RGB\\\\labeldata\\\\spoof\\\\3\\\\fake_3_718_jpg.rf.f93b2fece462b30a4612e2a07127c39b.xml', 'xml', 'spoof', '3', 291, 159, 132, 187)\n",
      "insert 300 done\n",
      "1 2\n",
      "('DataBase\\\\robo_Anti_spoof\\\\data\\\\RGB\\\\rawdata\\\\spoof\\\\4\\\\fake_4_1_458_jpg.rf.6f9d818b7c0814c1abccad23e09e692c.jpg', 'jpg', 630, 630, 'RGB', 'DataBase\\\\robo_Anti_spoof\\\\data\\\\RGB\\\\labeldata\\\\spoof\\\\4\\\\fake_4_1_458_jpg.rf.6f9d818b7c0814c1abccad23e09e692c.xml', 'xml', 'spoof', '4', 140, 82, 304, 549)\n",
      "insert 300 done\n",
      "1 2\n",
      "('DataBase\\\\robo_Anti_spoof\\\\data\\\\RGB\\\\rawdata\\\\spoof\\\\4\\\\fake_4_419_jpg.rf.eca203d7adf1f2b863ef04457df15583.jpg', 'jpg', 640, 640, 'RGB', 'DataBase\\\\robo_Anti_spoof\\\\data\\\\RGB\\\\labeldata\\\\spoof\\\\4\\\\fake_4_419_jpg.rf.eca203d7adf1f2b863ef04457df15583.xml', 'xml', 'spoof', '4', 287, 249, 173, 246)\n",
      "insert 300 done\n",
      "1 2\n",
      "('DataBase\\\\robo_Anti_spoof\\\\data\\\\RGB\\\\rawdata\\\\spoof\\\\6\\\\fake_6_119_jpg.rf.e6b7ce89cb83e1e1d2fb39752020acd8.jpg', 'jpg', 640, 640, 'RGB', 'DataBase\\\\robo_Anti_spoof\\\\data\\\\RGB\\\\labeldata\\\\spoof\\\\6\\\\fake_6_119_jpg.rf.e6b7ce89cb83e1e1d2fb39752020acd8.xml', 'xml', 'spoof', '6', 230, 231, 117, 166)\n",
      "insert 300 done\n",
      "1 2\n",
      "('DataBase\\\\robo_Anti_spoof\\\\data\\\\RGB\\\\rawdata\\\\spoof\\\\9\\\\fake_9_105_jpg.rf.d63a9e94f97e229de3ff640ef6e5bdf5.jpg', 'jpg', 572, 572, 'RGB', 'DataBase\\\\robo_Anti_spoof\\\\data\\\\RGB\\\\labeldata\\\\spoof\\\\9\\\\fake_9_105_jpg.rf.d63a9e94f97e229de3ff640ef6e5bdf5.xml', 'xml', 'spoof', '9', 191, 207, 120, 170)\n",
      "insert 300 done\n",
      "1 2\n",
      "insert 120 done\n",
      "done\n"
     ]
    }
   ],
   "source": [
    "label_path = []\n",
    "label_name= []\n",
    "\n",
    "# label 경로\n",
    "label_path = 'Z:\\\\robo_Anti_spoof\\\\data\\\\RGB\\\\labeldata'\n",
    "image_path = 'Z:\\\\robo_Anti_spoof\\\\data\\\\RGB\\\\rawdata'\n",
    "\n",
    "value_list1 = []\n",
    "error_list = []\n",
    "count = 0\n",
    "\n",
    "labels = os.listdir(label_path)\n",
    "for num, label in enumerate(labels):\n",
    "    total_cnt = len(labels)\n",
    "    color_space = 'RGB'\n",
    "    # print(label)\n",
    "    label_ids = os.listdir(os.path.join(label_path,label))\n",
    "    for label_id in label_ids[1:]:\n",
    "        label_files = os.listdir(os.path.join(label_path, label, label_id))\n",
    "        \n",
    "        for cnt, label_file in enumerate(label_files):\n",
    "            label_dir = os.path.join(label_path,label,label_id,label_file)\n",
    "            # print(label_dir)\n",
    "\n",
    "            label_name, label_format = os.path.splitext(os.path.basename(label_file))\n",
    "            label_format = label_format.replace('.','')\n",
    "            \n",
    "            tree = ET.parse(label_dir)\n",
    "            root = tree.getroot()\n",
    "            \n",
    "            img_dir = label_dir.replace('label','raw').replace('.xml','.jpg')\n",
    "            \n",
    "            \n",
    "\n",
    "            img_file = os.path.basename(img_dir)\n",
    "            img_name = label_name\n",
    "            img_format = 'jpg'\n",
    "\n",
    "            if os.path.exists(img_dir) and os.path.getsize(img_dir) != 0:\n",
    "                img = cv2.imread(img_dir)            \n",
    "            else:\n",
    "                error_list.append(img_dir)\n",
    "                continue\n",
    "            img_w = img.shape[0]\n",
    "            img_h = img.shape[1]\n",
    "\n",
    "            img_dir = img_dir.replace('Z:','DataBase')\n",
    "            label_dir = label_dir.replace('Z:','DataBase')\n",
    "            \n",
    "            for i in root.findall('object'):\n",
    "                boxes = i.find('bndbox')\n",
    "                box_xtl = int(boxes.find('xmin').text)\n",
    "                box_ytl = int(boxes.find('ymin').text)\n",
    "                box_xmax = int(boxes.find('xmax').text)\n",
    "                box_ymax = int(boxes.find('ymax').text)\n",
    "                box_w = abs(box_xtl - box_xmax)\n",
    "                box_h = abs(box_ytl - box_ymax)\n",
    "                \n",
    "\n",
    "                values = (img_dir, img_format, img_w, img_h, color_space,\n",
    "                          label_dir, label_format, label, label_id, box_xtl, \n",
    "                          box_ytl, box_w, box_h)\n",
    "\n",
    "                value_list1.append(values)\n",
    "            \n",
    "\n",
    "        # query 실행\n",
    "            if len(value_list1) >= 300:\n",
    "                print(value_list1[-1])\n",
    "                doUT.insert_dataset_values(query2, value_list1)\n",
    "                value_list1 = []\n",
    "                print(num, total_cnt)\n",
    "\n",
    "doUT.insert_dataset_values(query2, value_list1)\n",
    "value_list1 = []\n",
    "print('done')"
   ]
  },
  {
   "cell_type": "code",
   "execution_count": null,
   "metadata": {},
   "outputs": [],
   "source": []
  }
 ],
 "metadata": {
  "interpreter": {
   "hash": "11a16e5b2e68543e357a4974e618fa8ad9ec65aebfd5111a591b4a54ec662645"
  },
  "kernelspec": {
   "display_name": "Python 3 (ipykernel)",
   "language": "python",
   "name": "python3"
  },
  "language_info": {
   "codemirror_mode": {
    "name": "ipython",
    "version": 3
   },
   "file_extension": ".py",
   "mimetype": "text/x-python",
   "name": "python",
   "nbconvert_exporter": "python",
   "pygments_lexer": "ipython3",
   "version": "3.9.19"
  }
 },
 "nbformat": 4,
 "nbformat_minor": 4
}
