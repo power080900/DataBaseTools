{
 "cells": [
  {
   "cell_type": "code",
   "execution_count": 9,
   "id": "e9f13981-fad2-4dbb-853d-85c0733dcd27",
   "metadata": {},
   "outputs": [],
   "source": [
    "import cv2\n",
    "import numpy as np\n",
    "import os\n",
    "import sys\n",
    "sys.path.append('../../src')\n",
    "import DISData as DD"
   ]
  },
  {
   "cell_type": "code",
   "execution_count": 10,
   "id": "367f90c2-7c65-4106-b11c-b380c39f0a9a",
   "metadata": {},
   "outputs": [
    {
     "name": "stdin",
     "output_type": "stream",
     "text": [
      "host:  ········\n",
      "user:  ········\n",
      "password:  ········\n"
     ]
    },
    {
     "name": "stdout",
     "output_type": "stream",
     "text": [
      "SQL connection done\n"
     ]
    }
   ],
   "source": [
    "doUT = DD.SQL()"
   ]
  },
  {
   "cell_type": "code",
   "execution_count": 11,
   "id": "e1ac8b79-26ff-46ec-a530-00ae5df27c62",
   "metadata": {},
   "outputs": [],
   "source": [
    "df = doUT.search_SQL('DIS_300VW_landmark')"
   ]
  },
  {
   "cell_type": "code",
   "execution_count": 12,
   "id": "050e9b5e-5be6-470b-b198-7a9a0d02cfc4",
   "metadata": {},
   "outputs": [],
   "source": [
    "df_ld = df[['img_dir','landmark']]"
   ]
  },
  {
   "cell_type": "code",
   "execution_count": 13,
   "id": "b5400427-6421-488f-b295-e13f77eb11f4",
   "metadata": {},
   "outputs": [
    {
     "ename": "KeyboardInterrupt",
     "evalue": "",
     "output_type": "error",
     "traceback": [
      "\u001b[1;31m---------------------------------------------------------------------------\u001b[0m",
      "\u001b[1;31mKeyboardInterrupt\u001b[0m                         Traceback (most recent call last)",
      "Cell \u001b[1;32mIn[13], line 1\u001b[0m\n\u001b[1;32m----> 1\u001b[0m \u001b[43mDD\u001b[49m\u001b[38;5;241;43m.\u001b[39;49m\u001b[43mSearchDataset\u001b[49m\u001b[38;5;241;43m.\u001b[39;49m\u001b[43mDraw_landmark\u001b[49m\u001b[43m(\u001b[49m\u001b[43mdf_ld\u001b[49m\u001b[43m,\u001b[49m\u001b[43mimg_count\u001b[49m\u001b[38;5;241;43m=\u001b[39;49m\u001b[38;5;28;43mlen\u001b[39;49m\u001b[43m(\u001b[49m\u001b[43mdf_ld\u001b[49m\u001b[43m)\u001b[49m\u001b[43m)\u001b[49m\n",
      "File \u001b[1;32mC:\\lee\\work\\Database\\code\\DB_Tools\\example\\preprocessing\\../../src\\DISData.py:181\u001b[0m, in \u001b[0;36mSearchDataset.Draw_landmark\u001b[1;34m(data_name, img_count)\u001b[0m\n\u001b[0;32m    179\u001b[0m     cv2\u001b[38;5;241m.\u001b[39mcircle(img, (\u001b[38;5;28mint\u001b[39m(x), \u001b[38;5;28mint\u001b[39m(y)), \u001b[38;5;241m3\u001b[39m, (\u001b[38;5;241m0\u001b[39m, \u001b[38;5;241m0\u001b[39m, \u001b[38;5;241m255\u001b[39m), \u001b[38;5;241m-\u001b[39m\u001b[38;5;241m1\u001b[39m)\n\u001b[0;32m    180\u001b[0m cv2\u001b[38;5;241m.\u001b[39mimshow(\u001b[38;5;124m'\u001b[39m\u001b[38;5;124mimage\u001b[39m\u001b[38;5;124m'\u001b[39m, img)\n\u001b[1;32m--> 181\u001b[0m \u001b[43mcv2\u001b[49m\u001b[38;5;241;43m.\u001b[39;49m\u001b[43mwaitKey\u001b[49m\u001b[43m(\u001b[49m\u001b[38;5;241;43m0\u001b[39;49m\u001b[43m)\u001b[49m\n\u001b[0;32m    182\u001b[0m cv2\u001b[38;5;241m.\u001b[39mdestroyAllWindows()\n",
      "\u001b[1;31mKeyboardInterrupt\u001b[0m: "
     ]
    }
   ],
   "source": [
    "DD.SearchDataset.Draw_landmark(df_ld,img_count=len(df_ld))"
   ]
  },
  {
   "cell_type": "code",
   "execution_count": 8,
   "id": "cdc9a436-f74a-4d74-93e3-7c5f2a3562c8",
   "metadata": {},
   "outputs": [
    {
     "name": "stdout",
     "output_type": "stream",
     "text": [
      "SQL connection closed\n"
     ]
    }
   ],
   "source": [
    "doUT.connect_end()"
   ]
  },
  {
   "cell_type": "code",
   "execution_count": null,
   "id": "511c50a0-69a1-45bd-b985-9d257e0a0511",
   "metadata": {},
   "outputs": [],
   "source": []
  }
 ],
 "metadata": {
  "kernelspec": {
   "display_name": "Python 3 (ipykernel)",
   "language": "python",
   "name": "python3"
  },
  "language_info": {
   "codemirror_mode": {
    "name": "ipython",
    "version": 3
   },
   "file_extension": ".py",
   "mimetype": "text/x-python",
   "name": "python",
   "nbconvert_exporter": "python",
   "pygments_lexer": "ipython3",
   "version": "3.9.15"
  }
 },
 "nbformat": 4,
 "nbformat_minor": 5
}
