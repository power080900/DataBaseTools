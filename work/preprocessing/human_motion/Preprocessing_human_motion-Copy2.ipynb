{
 "cells": [
  {
   "cell_type": "markdown",
   "id": "94416f5a-69b2-48f0-b76d-d8301b8c4e2d",
   "metadata": {},
   "source": [
    "# PreProcessing"
   ]
  },
  {
   "cell_type": "code",
   "execution_count": 1,
   "id": "fe1aad9a-41e0-4698-a80e-c42a8980ba74",
   "metadata": {},
   "outputs": [],
   "source": [
    "import os\n",
    "import sys\n",
    "sys.path.append('../../src')\n",
    "import DISData as DD\n",
    "from scipy import io\n",
    "import cv2\n",
    "import json\n",
    "import shutil"
   ]
  },
  {
   "cell_type": "code",
   "execution_count": 2,
   "id": "e1fcdcb6-e173-4a26-b8d7-1b4f60eb9724",
   "metadata": {},
   "outputs": [],
   "source": [
    "label_path = 'Z:\\human_motion\\data\\RGB\\labeldata'\n",
    "backup = 'Z:\\human_motion\\data_backup\\RGB\\labeldata_backup'"
   ]
  },
  {
   "cell_type": "code",
   "execution_count": 3,
   "id": "fe7a4965-1c9c-4fb7-8e11-5e1705d07cb8",
   "metadata": {},
   "outputs": [],
   "source": [
    "acts = os.listdir(label_path)"
   ]
  },
  {
   "cell_type": "code",
   "execution_count": 5,
   "id": "6da3092e-3029-4ea2-b4b1-aaf7b8e74236",
   "metadata": {
    "scrolled": true,
    "tags": []
   },
   "outputs": [
    {
     "name": "stdout",
     "output_type": "stream",
     "text": [
      "Lie_down\n",
      "Rehabilitation_exercises\n",
      "Running\n",
      "Sitting\n",
      "Sports\n"
     ]
    }
   ],
   "source": [
    "for act in acts[10:15]:\n",
    "    print(act)\n",
    "    label_act = act\n",
    "    label_ids = os.listdir(os.path.join(label_path,act))\n",
    "    for label_id in label_ids:\n",
    "        label_cams = os.listdir(os.path.join(label_path,act,label_id))\n",
    "        for label_cam in label_cams:\n",
    "            label_files = os.listdir(os.path.join(label_path,act,label_id,label_cam))\n",
    "            for label_file in label_files:\n",
    "                label_dir = os.path.join(label_path,act,label_id,label_cam,label_file)\n",
    "                if '.jpg' in label_file:\n",
    "                    os.remove(label_dir)\n",
    "                else:\n",
    "                    backup_dir = os.path.join(backup,act,label_id,label_cam)\n",
    "                    if not os.path.exists(backup_dir):\n",
    "                        os.makedirs(backup_dir)\n",
    "                    shutil.copy(label_dir,os.path.join(backup_dir,label_file))\n",
    "                    with open(label_dir, 'r',encoding=\"utf-8\") as json_file:\n",
    "                        json_data = json.load(json_file)\n",
    "                    json_data[\"act\"] = f\"{label_act}\"\n",
    "                    with open(label_dir, \"w\") as json_file:\n",
    "                        json.dump(json_data, json_file, indent=4)"
   ]
  },
  {
   "cell_type": "code",
   "execution_count": null,
   "id": "7bbc05ea-6993-4ad0-93c1-52532b22bdae",
   "metadata": {},
   "outputs": [],
   "source": []
  }
 ],
 "metadata": {
  "kernelspec": {
   "display_name": "Python 3 (ipykernel)",
   "language": "python",
   "name": "python3"
  },
  "language_info": {
   "codemirror_mode": {
    "name": "ipython",
    "version": 3
   },
   "file_extension": ".py",
   "mimetype": "text/x-python",
   "name": "python",
   "nbconvert_exporter": "python",
   "pygments_lexer": "ipython3",
   "version": "3.9.19"
  }
 },
 "nbformat": 4,
 "nbformat_minor": 5
}
