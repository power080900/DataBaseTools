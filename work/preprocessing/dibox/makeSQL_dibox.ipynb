{
 "cells": [
  {
   "cell_type": "markdown",
   "id": "73d41d69-5ec0-467d-9c5b-99cb5137d0e1",
   "metadata": {
    "tags": []
   },
   "source": [
    "# SQL 작성"
   ]
  },
  {
   "cell_type": "code",
   "execution_count": 1,
   "id": "eba833e5-442f-4ae8-87fc-f7200d5f2fea",
   "metadata": {},
   "outputs": [],
   "source": [
    "import sys\n",
    "import os\n",
    "import pandas as pd\n",
    "from scipy import io\n",
    "import json\n",
    "import cv2\n",
    "from glob import glob\n",
    "sys.path.append('../../src')\n",
    "import DISData as DD"
   ]
  },
  {
   "cell_type": "markdown",
   "id": "afa45665-9ae6-48b1-a3b8-41a85dbfe0fb",
   "metadata": {},
   "source": [
    "## SQL 연결"
   ]
  },
  {
   "cell_type": "code",
   "execution_count": 2,
   "id": "bf8b6cf6-3b9f-44f9-9f49-a151c70b223e",
   "metadata": {},
   "outputs": [
    {
     "name": "stdin",
     "output_type": "stream",
     "text": [
      "host:  192.168.0.201\n",
      "user:  diadmin\n",
      "password:  ········\n"
     ]
    },
    {
     "name": "stdout",
     "output_type": "stream",
     "text": [
      "SQL connection done\n"
     ]
    }
   ],
   "source": [
    "doUT = DD.SQL()"
   ]
  },
  {
   "cell_type": "markdown",
   "id": "0384c5d0-6b45-423c-be1a-351b47b161cd",
   "metadata": {
    "tags": []
   },
   "source": [
    "## query 작성"
   ]
  },
  {
   "cell_type": "code",
   "execution_count": 3,
   "id": "57b0ef46-a50c-4e7d-aa3d-fd703a7a473d",
   "metadata": {},
   "outputs": [],
   "source": [
    "query1 = (f'''CREATE TABLE IF NOT EXISTS dibox_landmark_info(\n",
    "            id INT PRIMARY KEY AUTO_INCREMENT,\n",
    "            img_name VARCHAR(255) NOT NULL,\n",
    "            img_dir VARCHAR(1000) NOT NULL,\n",
    "            img_format VARCHAR(10) NOT NULL,\n",
    "            img_width INT NOT NULL,\n",
    "            img_height INT NOT NULL,\n",
    "            color_space VARCHAR(10) NOT NULL,\n",
    "            label_name VARCHAR(255) NOT NULL,\n",
    "            label_dir VARCHAR(1000) NOT NULL,\n",
    "            label_format VARCHAR(10) NOT NULL,\n",
    "            label VARCHAR(20) NOT NULL,\n",
    "            landmark VARCHAR(1000));''')"
   ]
  },
  {
   "cell_type": "code",
   "execution_count": 4,
   "id": "36fd7b76-098a-4110-9a82-036ef2c03618",
   "metadata": {},
   "outputs": [],
   "source": [
    "query2 = (f'''INSERT INTO dibox_landmark_info \n",
    "        (img_name, img_dir, img_format, img_width, img_height,\n",
    "        color_space, label_name, label_dir, label_format, label,\n",
    "        landmark)\n",
    "        VALUES (%s, %s, %s, %s, %s,  %s, %s, %s, %s, %s,  %s)''')"
   ]
  },
  {
   "cell_type": "code",
   "execution_count": 5,
   "id": "a963fcbd-d853-4b1e-9098-fd0823bd6504",
   "metadata": {},
   "outputs": [
    {
     "name": "stdout",
     "output_type": "stream",
     "text": [
      "create table done\n"
     ]
    }
   ],
   "source": [
    "try:\n",
    "    doUT.create_table(query1)\n",
    "except Exception as e:\n",
    "    print(f\"Error during table creation: {e}\")"
   ]
  },
  {
   "cell_type": "code",
   "execution_count": 12,
   "id": "5b066d70-8697-44ac-97fd-fc583726de63",
   "metadata": {
    "scrolled": true,
    "tags": []
   },
   "outputs": [
    {
     "name": "stdout",
     "output_type": "stream",
     "text": [
      "landmark 7/27\n",
      "insert 500 done\n",
      "insert 419 done\n",
      "done\n"
     ]
    }
   ],
   "source": [
    "value_list1 = []\n",
    "error_list = []\n",
    "\n",
    "label_path = 'Z:\\\\dibox\\\\data\\\\IR\\\\labeldata'\n",
    "img_path = 'Z:\\\\dibox\\\\data\\\\IR\\\\rawdata'\n",
    "label_lists = os.listdir(label_path)\n",
    "\n",
    "for cnt, label_list in enumerate(label_lists):\n",
    "    label_files = os.listdir(os.path.join(label_path,label_list))\n",
    "    total_cnt = len(label_lists)\n",
    "    color_space = 'RGB'\n",
    "    for label_file in label_files:\n",
    "    \n",
    "        label_dir = os.path.join(label_path,label_list,label_file)\n",
    "        label_name, label_format = os.path.splitext(os.path.basename(label_file))\n",
    "        label_format = label_format.replace('.','')\n",
    "\n",
    "        # print(label_dir)\n",
    "        # print(img)\n",
    "        img_dir = label_dir.replace('pts','jpg').replace('label','raw')\n",
    "        # print(img_load)\n",
    "\n",
    "        img_name, img_format = os.path.splitext(os.path.basename(img_dir))\n",
    "        img_format = img_format.replace('.','')\n",
    "\n",
    "        # print(img_dir)\n",
    "        img = cv2.imread(img_dir)\n",
    "        # print(img)\n",
    "            \n",
    "        img_width = img.shape[0]\n",
    "        img_height = img.shape[1]\n",
    "    \n",
    "    \n",
    "        with open(label_dir,'r',encoding='utf-8') as f:\n",
    "            config = f.readlines()\n",
    "        points = []\n",
    "        # print(config)\n",
    "        for point in config[:68]:\n",
    "\n",
    "            x,y = map(int,map(float,point.split(' ')))\n",
    "            points.append((x,y))\n",
    "        label = 'face_68'\n",
    "        landmark = \",\".join(map(str, [(int(float(x)), int(float(y))) for x,y in points]))\n",
    "        img_dir = img_dir.replace('Z:','DataBase')\n",
    "        label_dir = label_dir.replace('Z:','DataBase')\n",
    "        # print(landmark)\n",
    "        value = (img_name, img_dir, img_format, img_width, img_height, color_space,\n",
    "                label_name, label_dir, label_format, label, landmark)\n",
    "        value_list1.append(value)\n",
    "\n",
    "        # print(value)\n",
    "        if len(value_list1) >= 500:\n",
    "            \n",
    "            # print(value_list1[0])\n",
    "            print(f'landmark {cnt}/{total_cnt}')\n",
    "            doUT.insert_dataset_values(query2, value_list1)\n",
    "            value_list1 = []\n",
    "\n",
    "doUT.insert_dataset_values(query2, value_list1)\n",
    "# print(value_list2)\n",
    "value_list1 = []\n",
    "print('done')     "
   ]
  },
  {
   "cell_type": "code",
   "execution_count": null,
   "id": "a04aabc8-3ae7-4e3f-8d5c-e4073c61cb7d",
   "metadata": {},
   "outputs": [],
   "source": []
  }
 ],
 "metadata": {
  "kernelspec": {
   "display_name": "Python 3 (ipykernel)",
   "language": "python",
   "name": "python3"
  },
  "language_info": {
   "codemirror_mode": {
    "name": "ipython",
    "version": 3
   },
   "file_extension": ".py",
   "mimetype": "text/x-python",
   "name": "python",
   "nbconvert_exporter": "python",
   "pygments_lexer": "ipython3",
   "version": "3.9.19"
  }
 },
 "nbformat": 4,
 "nbformat_minor": 5
}
