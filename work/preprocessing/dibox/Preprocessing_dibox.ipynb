{
 "cells": [
  {
   "cell_type": "code",
   "execution_count": 1,
   "id": "68085d66-80d1-41eb-aafc-e122da2ea51d",
   "metadata": {},
   "outputs": [],
   "source": [
    "import cv2\n",
    "import numpy as np\n",
    "import os\n",
    "import sys\n",
    "sys.path.append('../../src')\n",
    "import DISData as DD"
   ]
  },
  {
   "cell_type": "code",
   "execution_count": 2,
   "id": "710c5aee-9d67-4613-879a-3f8698b83276",
   "metadata": {},
   "outputs": [
    {
     "name": "stdin",
     "output_type": "stream",
     "text": [
      "host:  ········\n",
      "user:  ········\n",
      "password:  ········\n"
     ]
    },
    {
     "name": "stdout",
     "output_type": "stream",
     "text": [
      "SQL connection done\n"
     ]
    }
   ],
   "source": [
    "doUT = DD.SQL()"
   ]
  },
  {
   "cell_type": "code",
   "execution_count": 3,
   "id": "8f5e3942-c50b-4364-9422-2dae6d5c6872",
   "metadata": {},
   "outputs": [],
   "source": [
    "df = doUT.search_SQL('dibox_landmark')"
   ]
  },
  {
   "cell_type": "code",
   "execution_count": 4,
   "id": "a73d8333-a7c3-4864-b0b2-670f7c76426e",
   "metadata": {},
   "outputs": [],
   "source": [
    "df_ld = df[['img_dir','landmark']]"
   ]
  },
  {
   "cell_type": "code",
   "execution_count": 5,
   "id": "96f193e7-f2d7-4a54-9a4e-e713735c8060",
   "metadata": {},
   "outputs": [
    {
     "ename": "KeyboardInterrupt",
     "evalue": "",
     "output_type": "error",
     "traceback": [
      "\u001b[1;31m---------------------------------------------------------------------------\u001b[0m",
      "\u001b[1;31mKeyboardInterrupt\u001b[0m                         Traceback (most recent call last)",
      "Cell \u001b[1;32mIn[5], line 1\u001b[0m\n\u001b[1;32m----> 1\u001b[0m \u001b[43mDD\u001b[49m\u001b[38;5;241;43m.\u001b[39;49m\u001b[43mSearchDataset\u001b[49m\u001b[38;5;241;43m.\u001b[39;49m\u001b[43mDraw_landmark\u001b[49m\u001b[43m(\u001b[49m\u001b[43mdf_ld\u001b[49m\u001b[43m,\u001b[49m\u001b[43mimg_count\u001b[49m\u001b[38;5;241;43m=\u001b[39;49m\u001b[38;5;28;43mlen\u001b[39;49m\u001b[43m(\u001b[49m\u001b[43mdf_ld\u001b[49m\u001b[43m)\u001b[49m\u001b[43m)\u001b[49m\n",
      "File \u001b[1;32mC:\\lee\\work\\Database\\code\\DB_Tools\\example\\preprocessing\\../../src\\DISData.py:181\u001b[0m, in \u001b[0;36mSearchDataset.Draw_landmark\u001b[1;34m(data_name, img_count)\u001b[0m\n\u001b[0;32m    179\u001b[0m     cv2\u001b[38;5;241m.\u001b[39mcircle(img, (\u001b[38;5;28mint\u001b[39m(x), \u001b[38;5;28mint\u001b[39m(y)), \u001b[38;5;241m3\u001b[39m, (\u001b[38;5;241m0\u001b[39m, \u001b[38;5;241m0\u001b[39m, \u001b[38;5;241m255\u001b[39m), \u001b[38;5;241m-\u001b[39m\u001b[38;5;241m1\u001b[39m)\n\u001b[0;32m    180\u001b[0m cv2\u001b[38;5;241m.\u001b[39mimshow(\u001b[38;5;124m'\u001b[39m\u001b[38;5;124mimage\u001b[39m\u001b[38;5;124m'\u001b[39m, img)\n\u001b[1;32m--> 181\u001b[0m \u001b[43mcv2\u001b[49m\u001b[38;5;241;43m.\u001b[39;49m\u001b[43mwaitKey\u001b[49m\u001b[43m(\u001b[49m\u001b[38;5;241;43m0\u001b[39;49m\u001b[43m)\u001b[49m\n\u001b[0;32m    182\u001b[0m cv2\u001b[38;5;241m.\u001b[39mdestroyAllWindows()\n",
      "\u001b[1;31mKeyboardInterrupt\u001b[0m: "
     ]
    }
   ],
   "source": [
    "DD.SearchDataset.Draw_landmark(df_ld,img_count=len(df_ld))"
   ]
  },
  {
   "cell_type": "code",
   "execution_count": 6,
   "id": "67596ac1-76b8-4e9c-9968-4d8a60da1839",
   "metadata": {},
   "outputs": [
    {
     "name": "stdout",
     "output_type": "stream",
     "text": [
      "SQL connection closed\n"
     ]
    }
   ],
   "source": [
    "doUT.connect_end()"
   ]
  },
  {
   "cell_type": "code",
   "execution_count": null,
   "id": "aac3f4f8-b867-4e22-a336-fb238dd7faf9",
   "metadata": {},
   "outputs": [],
   "source": []
  }
 ],
 "metadata": {
  "kernelspec": {
   "display_name": "Python 3 (ipykernel)",
   "language": "python",
   "name": "python3"
  },
  "language_info": {
   "codemirror_mode": {
    "name": "ipython",
    "version": 3
   },
   "file_extension": ".py",
   "mimetype": "text/x-python",
   "name": "python",
   "nbconvert_exporter": "python",
   "pygments_lexer": "ipython3",
   "version": "3.9.15"
  }
 },
 "nbformat": 4,
 "nbformat_minor": 5
}
