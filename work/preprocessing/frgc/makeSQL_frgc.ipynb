{
 "cells": [
  {
   "cell_type": "markdown",
   "id": "3e59b794-6c8f-4b0c-96c0-248a579e22e9",
   "metadata": {
    "tags": []
   },
   "source": [
    "# SQL 작성"
   ]
  },
  {
   "cell_type": "code",
   "execution_count": 1,
   "id": "ec1a6033-b94f-4370-b2bf-4ba2fe754990",
   "metadata": {},
   "outputs": [],
   "source": [
    "import sys\n",
    "import os\n",
    "import pandas as pd\n",
    "from scipy import io\n",
    "import json\n",
    "import cv2\n",
    "from glob import glob\n",
    "sys.path.append('../../src')\n",
    "import DISData as DD"
   ]
  },
  {
   "cell_type": "markdown",
   "id": "18c3dfa2-7ae0-4dbd-8e51-e9f062dbd433",
   "metadata": {},
   "source": [
    "## SQL 연결"
   ]
  },
  {
   "cell_type": "code",
   "execution_count": 2,
   "id": "0b2e606a-459b-4094-bbfe-5eed992d2ff9",
   "metadata": {},
   "outputs": [
    {
     "name": "stdin",
     "output_type": "stream",
     "text": [
      "host:  192.168.0.201\n",
      "user:  diadmin\n",
      "password:  ········\n"
     ]
    },
    {
     "name": "stdout",
     "output_type": "stream",
     "text": [
      "SQL connection done\n"
     ]
    }
   ],
   "source": [
    "doUT = DD.SQL()"
   ]
  },
  {
   "cell_type": "markdown",
   "id": "b45db7e5-b175-4001-9110-d4728c49f289",
   "metadata": {
    "tags": []
   },
   "source": [
    "## query 작성"
   ]
  },
  {
   "cell_type": "code",
   "execution_count": 3,
   "id": "dc6baddd-b3be-40af-92d5-f4496aea896b",
   "metadata": {
    "tags": []
   },
   "outputs": [],
   "source": [
    "query1 = (f'''CREATE TABLE IF NOT EXISTS frgc_landmark_info(\n",
    "            id INT PRIMARY KEY AUTO_INCREMENT,\n",
    "            img_name VARCHAR(255) NOT NULL,\n",
    "            img_dir VARCHAR(1000) NOT NULL,\n",
    "            img_format VARCHAR(10) NOT NULL,\n",
    "            img_width INT NOT NULL,\n",
    "            img_height INT NOT NULL,\n",
    "            color_space VARCHAR(10) NOT NULL,\n",
    "            label_name VARCHAR(255) NOT NULL,\n",
    "            label_dir VARCHAR(1000) NOT NULL,\n",
    "            label_format VARCHAR(10) NOT NULL,\n",
    "            label VARCHAR(20) NOT NULL,\n",
    "            landmark VARCHAR(1000));''')"
   ]
  },
  {
   "cell_type": "code",
   "execution_count": 4,
   "id": "4792f59a-7a83-4b7d-95d7-ed9ad500b7ea",
   "metadata": {},
   "outputs": [],
   "source": [
    "query2 = (f'''INSERT INTO frgc_landmark_info \n",
    "        (img_name, img_dir, img_format, img_width, img_height,\n",
    "        color_space, label_name, label_dir, label_format, label,\n",
    "        landmark)\n",
    "        VALUES (%s, %s, %s, %s, %s,  %s, %s, %s, %s, %s,  %s)''')"
   ]
  },
  {
   "cell_type": "code",
   "execution_count": 5,
   "id": "63de06ea-2530-4f51-91b1-e524a16afd83",
   "metadata": {},
   "outputs": [
    {
     "name": "stdout",
     "output_type": "stream",
     "text": [
      "create table done\n"
     ]
    }
   ],
   "source": [
    "try:\n",
    "    doUT.create_table(query1)\n",
    "except Exception as e:\n",
    "    print(f\"Error during table creation: {e}\")"
   ]
  },
  {
   "cell_type": "code",
   "execution_count": 8,
   "id": "ce929a6d-9e87-43aa-91dc-0ff401ddfc98",
   "metadata": {
    "scrolled": true,
    "tags": []
   },
   "outputs": [
    {
     "name": "stdout",
     "output_type": "stream",
     "text": [
      "landmark 47/557\n",
      "insert 500 done\n",
      "landmark 97/557\n",
      "insert 500 done\n",
      "landmark 141/557\n",
      "insert 500 done\n",
      "landmark 180/557\n",
      "insert 500 done\n",
      "landmark 233/557\n",
      "insert 500 done\n",
      "landmark 297/557\n",
      "insert 500 done\n",
      "landmark 352/557\n",
      "insert 500 done\n",
      "landmark 410/557\n",
      "insert 500 done\n",
      "landmark 475/557\n",
      "insert 500 done\n",
      "insert 450 done\n",
      "done\n"
     ]
    }
   ],
   "source": [
    "value_list1 = []\n",
    "error_list = []\n",
    "\n",
    "label_path = 'Z:\\\\frgc\\\\data\\\\RGB\\\\labeldata'\n",
    "img_path = 'Z:\\\\frgc\\\\data\\\\RGB\\\\rawdata'\n",
    "label_lists = os.listdir(label_path)\n",
    "\n",
    "for cnt, label_list in enumerate(label_lists):\n",
    "    label_files = os.listdir(os.path.join(label_path,label_list))\n",
    "    total_cnt = len(label_lists)\n",
    "    color_space = 'RGB'\n",
    "    for label_file in label_files:\n",
    "    \n",
    "        label_dir = os.path.join(label_path,label_list,label_file)\n",
    "        label_name, label_format = os.path.splitext(os.path.basename(label_file))\n",
    "        label_format = label_format.replace('.','')\n",
    "\n",
    "        # print(label_dir)\n",
    "        # print(img)\n",
    "        img_dir = label_dir.replace('pts','jpg').replace('label','raw')\n",
    "        # print(img_load)\n",
    "\n",
    "        img_name, img_format = os.path.splitext(os.path.basename(img_dir))\n",
    "        img_format = img_format.replace('.','')\n",
    "\n",
    "        # print(img_dir)\n",
    "        img = cv2.imread(img_dir)\n",
    "        img_width = img.shape[0]\n",
    "        img_height = img.shape[1]\n",
    "    \n",
    "    \n",
    "        with open(label_dir,'r',encoding='utf-8') as f:\n",
    "            config = f.readlines()\n",
    "        points = []\n",
    "        # print(config)\n",
    "        for point in config:\n",
    "\n",
    "            x,y = map(int,map(float,point.split(' ')))\n",
    "            points.append((x,y))\n",
    "        label = 'face_68'\n",
    "        landmark = \",\".join(map(str, [(int(float(x)), int(float(y))) for x,y in points]))\n",
    "        img_dir = img_dir.replace('Z:','DataBase')\n",
    "        label_dir = label_dir.replace('Z:','DataBase')\n",
    "        # print(landmark)\n",
    "        value = (img_name, img_dir, img_format, img_width, img_height, color_space,\n",
    "                label_name, label_dir, label_format, label, landmark)\n",
    "        value_list1.append(value)\n",
    "\n",
    "        # print(value)\n",
    "        if len(value_list1) >= 500:\n",
    "            \n",
    "            # print(value_list1[0])\n",
    "            print(f'landmark {cnt}/{total_cnt}')\n",
    "            doUT.insert_dataset_values(query2, value_list1)\n",
    "            value_list1 = []\n",
    "\n",
    "doUT.insert_dataset_values(query2, value_list1)\n",
    "# print(value_list2)\n",
    "value_list1 = []\n",
    "print('done')     "
   ]
  },
  {
   "cell_type": "code",
   "execution_count": null,
   "id": "8812cca7-d9e6-45e5-8e27-aef867fa6f99",
   "metadata": {},
   "outputs": [],
   "source": []
  }
 ],
 "metadata": {
  "kernelspec": {
   "display_name": "Python 3 (ipykernel)",
   "language": "python",
   "name": "python3"
  },
  "language_info": {
   "codemirror_mode": {
    "name": "ipython",
    "version": 3
   },
   "file_extension": ".py",
   "mimetype": "text/x-python",
   "name": "python",
   "nbconvert_exporter": "python",
   "pygments_lexer": "ipython3",
   "version": "3.9.19"
  }
 },
 "nbformat": 4,
 "nbformat_minor": 5
}
