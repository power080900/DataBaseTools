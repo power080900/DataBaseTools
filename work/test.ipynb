{
 "cells": [
  {
   "cell_type": "code",
   "execution_count": 1,
   "metadata": {},
   "outputs": [
    {
     "ename": "KeyboardInterrupt",
     "evalue": "",
     "output_type": "error",
     "traceback": [
      "\u001b[1;31m---------------------------------------------------------------------------\u001b[0m",
      "\u001b[1;31mKeyboardInterrupt\u001b[0m                         Traceback (most recent call last)",
      "\u001b[1;32mc:\\lee\\work\\test.ipynb 셀 1\u001b[0m line \u001b[0;36m5\n\u001b[0;32m     <a href='vscode-notebook-cell:/c%3A/lee/work/test.ipynb#W0sZmlsZQ%3D%3D?line=54'>55</a>\u001b[0m output_folder \u001b[39m=\u001b[39m os\u001b[39m.\u001b[39mpath\u001b[39m.\u001b[39mjoin(forder_path, output_folder_name)\n\u001b[0;32m     <a href='vscode-notebook-cell:/c%3A/lee/work/test.ipynb#W0sZmlsZQ%3D%3D?line=56'>57</a>\u001b[0m os\u001b[39m.\u001b[39mmakedirs(output_folder, exist_ok\u001b[39m=\u001b[39m\u001b[39mTrue\u001b[39;00m)\n\u001b[1;32m---> <a href='vscode-notebook-cell:/c%3A/lee/work/test.ipynb#W0sZmlsZQ%3D%3D?line=58'>59</a>\u001b[0m save_frames_from_video(video_path, output_folder)\n",
      "\u001b[1;32mc:\\lee\\work\\test.ipynb 셀 1\u001b[0m line \u001b[0;36m3\n\u001b[0;32m     <a href='vscode-notebook-cell:/c%3A/lee/work/test.ipynb#W0sZmlsZQ%3D%3D?line=33'>34</a>\u001b[0m         cv2\u001b[39m.\u001b[39mimwrite(frame_filename, frame)\n\u001b[0;32m     <a href='vscode-notebook-cell:/c%3A/lee/work/test.ipynb#W0sZmlsZQ%3D%3D?line=35'>36</a>\u001b[0m         \u001b[39m# 'Esc' 키가 눌리면 루프 종료\u001b[39;00m\n\u001b[1;32m---> <a href='vscode-notebook-cell:/c%3A/lee/work/test.ipynb#W0sZmlsZQ%3D%3D?line=36'>37</a>\u001b[0m         \u001b[39mif\u001b[39;00m cv2\u001b[39m.\u001b[39;49mwaitKey(\u001b[39mint\u001b[39;49m(\u001b[39m1000\u001b[39;49m \u001b[39m/\u001b[39;49m fps)) \u001b[39m&\u001b[39m \u001b[39m0xFF\u001b[39m \u001b[39m==\u001b[39m \u001b[39m27\u001b[39m:\n\u001b[0;32m     <a href='vscode-notebook-cell:/c%3A/lee/work/test.ipynb#W0sZmlsZQ%3D%3D?line=37'>38</a>\u001b[0m             \u001b[39mbreak\u001b[39;00m\n\u001b[0;32m     <a href='vscode-notebook-cell:/c%3A/lee/work/test.ipynb#W0sZmlsZQ%3D%3D?line=39'>40</a>\u001b[0m \u001b[39mfinally\u001b[39;00m:\n\u001b[0;32m     <a href='vscode-notebook-cell:/c%3A/lee/work/test.ipynb#W0sZmlsZQ%3D%3D?line=40'>41</a>\u001b[0m     \u001b[39m# 비디오 캡처 객체 해제\u001b[39;00m\n",
      "\u001b[1;31mKeyboardInterrupt\u001b[0m: "
     ]
    }
   ],
   "source": [
    "import cv2\n",
    "import os\n",
    "\n",
    "def save_frames_from_video(video_path, output_folder):\n",
    "    # 비디오 파일 열기\n",
    "    cap = cv2.VideoCapture(video_path)\n",
    "\n",
    "    # 비디오 파일이 성공적으로 열렸는지 확인\n",
    "    if not cap.isOpened():\n",
    "        print(\"오류: 비디오 파일을 열 수 없습니다.\")\n",
    "        return\n",
    "\n",
    "    # 비디오의 초당 프레임 수 (fps) 가져오기\n",
    "    fps = cap.get(cv2.CAP_PROP_FPS)\n",
    "\n",
    "    # 비디오 프레임의 너비와 높이 가져오기\n",
    "    width = int(cap.get(cv2.CAP_PROP_FRAME_WIDTH))\n",
    "    height = int(cap.get(cv2.CAP_PROP_FRAME_HEIGHT))\n",
    "\n",
    "    try:\n",
    "        # 각 프레임을 반복\n",
    "        frame_count = 0\n",
    "        while True:\n",
    "            # 비디오에서 프레임 읽기\n",
    "            ret, frame = cap.read()\n",
    "\n",
    "            # 프레임을 성공적으로 읽지 못하면 루프 종료\n",
    "            if not ret:\n",
    "                break\n",
    "\n",
    "            # 프레임을 이미지로 저장\n",
    "            frame_count += 1\n",
    "            frame_filename = f\"{output_folder}/frame_{frame_count}.png\"\n",
    "            cv2.imwrite(frame_filename, frame)\n",
    "\n",
    "            # 'Esc' 키가 눌리면 루프 종료\n",
    "            if cv2.waitKey(int(1000 / fps)) & 0xFF == 27:\n",
    "                break\n",
    "\n",
    "    finally:\n",
    "        # 비디오 캡처 객체 해제\n",
    "        cap.release()\n",
    "\n",
    "if __name__ == \"__main__\":\n",
    "    base_path = \"Z:\\\\TEyeD_GazeinTheWild\\\\data\\\\IRresize_videodata\"\n",
    "    \n",
    "    for forder_name in os.listdir(base_path):\n",
    "        forder_path = os.path.join(base_path, forder_name)\n",
    "        \n",
    "        for file_name in os.listdir(forder_path):\n",
    "            video_path = os.path.join(forder_path, file_name)\n",
    "            \n",
    "            # 비디오 파일의 확장자를 제외한 이름과 같은 이름의 폴더 생성\n",
    "            output_folder_name = os.path.splitext(file_name)[0]\n",
    "            output_folder = os.path.join(forder_path, output_folder_name)\n",
    "            \n",
    "            os.makedirs(output_folder, exist_ok=True)\n",
    "\n",
    "            save_frames_from_video(video_path, output_folder)"
   ]
  },
  {
   "cell_type": "code",
   "execution_count": null,
   "metadata": {},
   "outputs": [],
   "source": []
  }
 ],
 "metadata": {
  "kernelspec": {
   "display_name": "nia",
   "language": "python",
   "name": "python3"
  },
  "language_info": {
   "codemirror_mode": {
    "name": "ipython",
    "version": 3
   },
   "file_extension": ".py",
   "mimetype": "text/x-python",
   "name": "python",
   "nbconvert_exporter": "python",
   "pygments_lexer": "ipython3",
   "version": "3.9.15"
  }
 },
 "nbformat": 4,
 "nbformat_minor": 2
}
